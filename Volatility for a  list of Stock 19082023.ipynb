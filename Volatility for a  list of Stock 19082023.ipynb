{
 "cells": [
  {
   "cell_type": "code",
   "execution_count": null,
   "id": "93b613ec",
   "metadata": {},
   "outputs": [],
   "source": [
    "# Volatility calculation for a stock "
   ]
  },
  {
   "cell_type": "code",
   "execution_count": 2,
   "id": "2b49a29e",
   "metadata": {},
   "outputs": [
    {
     "name": "stdout",
     "output_type": "stream",
     "text": [
      "[*********************100%***********************]  1 of 1 completed\n",
      "[*********************100%***********************]  1 of 1 completed\n",
      "[*********************100%***********************]  1 of 1 completed\n",
      "[*********************100%***********************]  1 of 1 completed\n",
      "Volatility Measures:\n",
      "Ticker                              AAPL       MSFT       VRAY     BBBYQ\n",
      "Standard Deviation              0.011079   0.015581   0.142948  0.092128\n",
      "Mean Absolute Deviation         0.008173   0.012266   0.084147  0.069202\n",
      "Semi Standard Deviation         0.008649   0.008625   0.140353  0.030672\n",
      "First Lower Partial Moment     -0.008174  -0.012650  -0.096948 -0.070457\n",
      "Second Lower Partial Moment     0.000139   0.000232   0.028618  0.005870\n",
      "Value at Risk                  -0.015125  -0.023009  -0.219639 -0.096774\n",
      "Conditional Value at Risk      -0.023980  -0.029477  -0.431833 -0.118915\n",
      "Skewness                       -1.049355   0.220647  -2.673381  1.292346\n",
      "Kurtosis                        4.124792   0.198843  12.630742  3.253106\n",
      "Ulcer Index                     0.022928   0.040979   0.281245  0.335379\n",
      "Average Drawdown               -0.018900  -0.037523  -0.220497 -0.301578\n",
      "Max Drawdown                   -0.071123  -0.077437  -0.937131 -0.538363\n",
      "Tail Gini of Losses          1387.043151 -61.954397   0.596430 -1.011827\n",
      "Entropic Value at Risk         -0.043493  -0.056381  -0.750004 -0.237485\n"
     ]
    }
   ],
   "source": [
    "import pandas as pd\n",
    "from scipy.stats import skew, kurtosis\n",
    "import yfinance as yf\n",
    "import warnings\n",
    "warnings.filterwarnings(\"ignore\")\n",
    "\n",
    "tickers = [\"AAPL\", \"MSFT\", \"VRAY\", \"BBBYQ\"]\n",
    "results = []\n",
    "\n",
    "for ticker in tickers:\n",
    "    data = yf.download(ticker, start=\"2023-05-19\", end=\"2023-08-19\", interval=\"1d\")\n",
    "    returns = data['Close'].pct_change().dropna()\n",
    "    drawdown = returns - returns.cummax()\n",
    "\n",
    "    # Compute the risk measures\n",
    "    measures = {\n",
    "        'Ticker': ticker,\n",
    "        'Standard Deviation': returns.std(),\n",
    "        'Mean Absolute Deviation': returns.mad(),\n",
    "        'Semi Standard Deviation': returns[returns < 0].std(),\n",
    "        'First Lower Partial Moment': returns[returns < 0].mean(),\n",
    "        'Second Lower Partial Moment': returns[returns < 0].apply(lambda x: x**2).mean(),\n",
    "        'Value at Risk': returns.quantile(0.05),\n",
    "        'Conditional Value at Risk': returns[returns <= returns.quantile(0.05)].mean(),\n",
    "        'Skewness': skew(returns),\n",
    "        'Kurtosis': kurtosis(returns),\n",
    "        'Ulcer Index': (drawdown**2).mean()**0.5,\n",
    "        'Average Drawdown': drawdown.mean(),\n",
    "        'Max Drawdown': drawdown.min(),\n",
    "        'Tail Gini of Losses': sum(sorted(returns)[:int(len(returns) * 0.05)]) / sum(sorted(returns)),\n",
    "    }\n",
    "\n",
    "    # Entropic Value at Risk\n",
    "    alpha = 0.05\n",
    "    sorted_returns = sorted(returns)\n",
    "    threshold_index = int(alpha * len(sorted_returns))\n",
    "    threshold = sorted_returns[threshold_index]\n",
    "    tail_mean = sum(sorted_returns[:threshold_index]) / threshold_index\n",
    "    measures['Entropic Value at Risk'] = threshold + (1 / (1 - alpha)) * tail_mean\n",
    "\n",
    "    # Add the results to a list\n",
    "    results.append(measures)\n",
    "\n",
    "# Create a DataFrame from the results\n",
    "measures_df = pd.DataFrame(results)\n",
    "\n",
    "# Set the index to 'Ticker' column and transpose the DataFrame\n",
    "measures_df.set_index('Ticker', inplace=True)\n",
    "transposed_measures_df = measures_df.transpose()\n",
    "\n",
    "# Print the transposed DataFrame\n",
    "print(\"Volatility Measures:\")\n",
    "print(transposed_measures_df)\n"
   ]
  },
  {
   "cell_type": "code",
   "execution_count": null,
   "id": "480cdc29",
   "metadata": {},
   "outputs": [],
   "source": []
  }
 ],
 "metadata": {
  "kernelspec": {
   "display_name": "Python 3 (ipykernel)",
   "language": "python",
   "name": "python3"
  },
  "language_info": {
   "codemirror_mode": {
    "name": "ipython",
    "version": 3
   },
   "file_extension": ".py",
   "mimetype": "text/x-python",
   "name": "python",
   "nbconvert_exporter": "python",
   "pygments_lexer": "ipython3",
   "version": "3.10.10"
  }
 },
 "nbformat": 4,
 "nbformat_minor": 5
}

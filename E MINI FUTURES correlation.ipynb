{
 "cells": [
  {
   "cell_type": "code",
   "execution_count": 25,
   "id": "cf9bca1b",
   "metadata": {},
   "outputs": [],
   "source": [
    "# Generating Signals for E Mini on daily Timeframe with 6 months of Data"
   ]
  },
  {
   "cell_type": "code",
   "execution_count": 65,
   "id": "7574d2d0",
   "metadata": {},
   "outputs": [],
   "source": [
    "# Installing Libraries\n",
    "#!pip install numpy\n",
    "#!pip install pandas\n",
    "#!pip install yfinance\n",
    "#!pip install seaborn as sns"
   ]
  },
  {
   "cell_type": "code",
   "execution_count": 36,
   "id": "04a715a8",
   "metadata": {},
   "outputs": [],
   "source": [
    "# Importing Libraries\n",
    "import numpy as np\n",
    "import pandas as pd\n",
    "import yfinance as yf\n",
    "import seaborn as sns"
   ]
  },
  {
   "cell_type": "code",
   "execution_count": 28,
   "id": "43ec18e5",
   "metadata": {},
   "outputs": [
    {
     "name": "stdout",
     "output_type": "stream",
     "text": [
      "[*********************100%***********************]  1 of 1 completed\n"
     ]
    }
   ],
   "source": [
    "# Downloading 6 months of Daily data\n",
    "df= yf.download(\"ES=F\", period= \"6mo\", interval =\"1d\")"
   ]
  },
  {
   "cell_type": "code",
   "execution_count": 29,
   "id": "13f86ba4",
   "metadata": {},
   "outputs": [
    {
     "data": {
      "text/html": [
       "<div>\n",
       "<style scoped>\n",
       "    .dataframe tbody tr th:only-of-type {\n",
       "        vertical-align: middle;\n",
       "    }\n",
       "\n",
       "    .dataframe tbody tr th {\n",
       "        vertical-align: top;\n",
       "    }\n",
       "\n",
       "    .dataframe thead th {\n",
       "        text-align: right;\n",
       "    }\n",
       "</style>\n",
       "<table border=\"1\" class=\"dataframe\">\n",
       "  <thead>\n",
       "    <tr style=\"text-align: right;\">\n",
       "      <th></th>\n",
       "      <th>Open</th>\n",
       "      <th>High</th>\n",
       "      <th>Low</th>\n",
       "      <th>Close</th>\n",
       "      <th>Adj Close</th>\n",
       "      <th>Volume</th>\n",
       "    </tr>\n",
       "    <tr>\n",
       "      <th>Date</th>\n",
       "      <th></th>\n",
       "      <th></th>\n",
       "      <th></th>\n",
       "      <th></th>\n",
       "      <th></th>\n",
       "      <th></th>\n",
       "    </tr>\n",
       "  </thead>\n",
       "  <tbody>\n",
       "    <tr>\n",
       "      <th>2022-07-05</th>\n",
       "      <td>3828.50</td>\n",
       "      <td>3857.75</td>\n",
       "      <td>3744.00</td>\n",
       "      <td>3834.00</td>\n",
       "      <td>3834.00</td>\n",
       "      <td>2031501</td>\n",
       "    </tr>\n",
       "    <tr>\n",
       "      <th>2022-07-06</th>\n",
       "      <td>3838.00</td>\n",
       "      <td>3875.00</td>\n",
       "      <td>3808.75</td>\n",
       "      <td>3848.25</td>\n",
       "      <td>3848.25</td>\n",
       "      <td>1684324</td>\n",
       "    </tr>\n",
       "    <tr>\n",
       "      <th>2022-07-07</th>\n",
       "      <td>3853.75</td>\n",
       "      <td>3914.25</td>\n",
       "      <td>3832.50</td>\n",
       "      <td>3905.00</td>\n",
       "      <td>3905.00</td>\n",
       "      <td>1314443</td>\n",
       "    </tr>\n",
       "    <tr>\n",
       "      <th>2022-07-08</th>\n",
       "      <td>3897.00</td>\n",
       "      <td>3922.00</td>\n",
       "      <td>3868.00</td>\n",
       "      <td>3901.25</td>\n",
       "      <td>3901.25</td>\n",
       "      <td>1485497</td>\n",
       "    </tr>\n",
       "    <tr>\n",
       "      <th>2022-07-11</th>\n",
       "      <td>3900.00</td>\n",
       "      <td>3900.75</td>\n",
       "      <td>3850.00</td>\n",
       "      <td>3856.75</td>\n",
       "      <td>3856.75</td>\n",
       "      <td>1486103</td>\n",
       "    </tr>\n",
       "    <tr>\n",
       "      <th>...</th>\n",
       "      <td>...</td>\n",
       "      <td>...</td>\n",
       "      <td>...</td>\n",
       "      <td>...</td>\n",
       "      <td>...</td>\n",
       "      <td>...</td>\n",
       "    </tr>\n",
       "    <tr>\n",
       "      <th>2022-12-23</th>\n",
       "      <td>3850.00</td>\n",
       "      <td>3872.50</td>\n",
       "      <td>3821.25</td>\n",
       "      <td>3869.75</td>\n",
       "      <td>3869.75</td>\n",
       "      <td>1374913</td>\n",
       "    </tr>\n",
       "    <tr>\n",
       "      <th>2022-12-27</th>\n",
       "      <td>3878.00</td>\n",
       "      <td>3900.50</td>\n",
       "      <td>3837.25</td>\n",
       "      <td>3855.00</td>\n",
       "      <td>3855.00</td>\n",
       "      <td>1006414</td>\n",
       "    </tr>\n",
       "    <tr>\n",
       "      <th>2022-12-28</th>\n",
       "      <td>3858.00</td>\n",
       "      <td>3875.00</td>\n",
       "      <td>3804.50</td>\n",
       "      <td>3807.50</td>\n",
       "      <td>3807.50</td>\n",
       "      <td>1282810</td>\n",
       "    </tr>\n",
       "    <tr>\n",
       "      <th>2022-12-29</th>\n",
       "      <td>3811.00</td>\n",
       "      <td>3882.75</td>\n",
       "      <td>3806.25</td>\n",
       "      <td>3871.75</td>\n",
       "      <td>3871.75</td>\n",
       "      <td>1146984</td>\n",
       "    </tr>\n",
       "    <tr>\n",
       "      <th>2022-12-30</th>\n",
       "      <td>3869.75</td>\n",
       "      <td>3871.00</td>\n",
       "      <td>3821.50</td>\n",
       "      <td>3868.00</td>\n",
       "      <td>3868.00</td>\n",
       "      <td>1297265</td>\n",
       "    </tr>\n",
       "  </tbody>\n",
       "</table>\n",
       "<p>126 rows × 6 columns</p>\n",
       "</div>"
      ],
      "text/plain": [
       "               Open     High      Low    Close  Adj Close   Volume\n",
       "Date                                                              \n",
       "2022-07-05  3828.50  3857.75  3744.00  3834.00    3834.00  2031501\n",
       "2022-07-06  3838.00  3875.00  3808.75  3848.25    3848.25  1684324\n",
       "2022-07-07  3853.75  3914.25  3832.50  3905.00    3905.00  1314443\n",
       "2022-07-08  3897.00  3922.00  3868.00  3901.25    3901.25  1485497\n",
       "2022-07-11  3900.00  3900.75  3850.00  3856.75    3856.75  1486103\n",
       "...             ...      ...      ...      ...        ...      ...\n",
       "2022-12-23  3850.00  3872.50  3821.25  3869.75    3869.75  1374913\n",
       "2022-12-27  3878.00  3900.50  3837.25  3855.00    3855.00  1006414\n",
       "2022-12-28  3858.00  3875.00  3804.50  3807.50    3807.50  1282810\n",
       "2022-12-29  3811.00  3882.75  3806.25  3871.75    3871.75  1146984\n",
       "2022-12-30  3869.75  3871.00  3821.50  3868.00    3868.00  1297265\n",
       "\n",
       "[126 rows x 6 columns]"
      ]
     },
     "execution_count": 29,
     "metadata": {},
     "output_type": "execute_result"
    }
   ],
   "source": [
    "df"
   ]
  },
  {
   "cell_type": "code",
   "execution_count": 37,
   "id": "d1568d55",
   "metadata": {},
   "outputs": [
    {
     "data": {
      "text/html": [
       "<div>\n",
       "<style scoped>\n",
       "    .dataframe tbody tr th:only-of-type {\n",
       "        vertical-align: middle;\n",
       "    }\n",
       "\n",
       "    .dataframe tbody tr th {\n",
       "        vertical-align: top;\n",
       "    }\n",
       "\n",
       "    .dataframe thead th {\n",
       "        text-align: right;\n",
       "    }\n",
       "</style>\n",
       "<table border=\"1\" class=\"dataframe\">\n",
       "  <thead>\n",
       "    <tr style=\"text-align: right;\">\n",
       "      <th></th>\n",
       "      <th>Open</th>\n",
       "      <th>High</th>\n",
       "      <th>Low</th>\n",
       "      <th>Close</th>\n",
       "      <th>Adj Close</th>\n",
       "      <th>Volume</th>\n",
       "    </tr>\n",
       "  </thead>\n",
       "  <tbody>\n",
       "    <tr>\n",
       "      <th>Open</th>\n",
       "      <td>1.00</td>\n",
       "      <td>0.98</td>\n",
       "      <td>0.98</td>\n",
       "      <td>0.94</td>\n",
       "      <td>0.94</td>\n",
       "      <td>-0.51</td>\n",
       "    </tr>\n",
       "    <tr>\n",
       "      <th>High</th>\n",
       "      <td>0.98</td>\n",
       "      <td>1.00</td>\n",
       "      <td>0.98</td>\n",
       "      <td>0.97</td>\n",
       "      <td>0.97</td>\n",
       "      <td>-0.48</td>\n",
       "    </tr>\n",
       "    <tr>\n",
       "      <th>Low</th>\n",
       "      <td>0.98</td>\n",
       "      <td>0.98</td>\n",
       "      <td>1.00</td>\n",
       "      <td>0.98</td>\n",
       "      <td>0.98</td>\n",
       "      <td>-0.54</td>\n",
       "    </tr>\n",
       "    <tr>\n",
       "      <th>Close</th>\n",
       "      <td>0.94</td>\n",
       "      <td>0.97</td>\n",
       "      <td>0.98</td>\n",
       "      <td>1.00</td>\n",
       "      <td>1.00</td>\n",
       "      <td>-0.50</td>\n",
       "    </tr>\n",
       "    <tr>\n",
       "      <th>Adj Close</th>\n",
       "      <td>0.94</td>\n",
       "      <td>0.97</td>\n",
       "      <td>0.98</td>\n",
       "      <td>1.00</td>\n",
       "      <td>1.00</td>\n",
       "      <td>-0.50</td>\n",
       "    </tr>\n",
       "    <tr>\n",
       "      <th>Volume</th>\n",
       "      <td>-0.51</td>\n",
       "      <td>-0.48</td>\n",
       "      <td>-0.54</td>\n",
       "      <td>-0.50</td>\n",
       "      <td>-0.50</td>\n",
       "      <td>1.00</td>\n",
       "    </tr>\n",
       "  </tbody>\n",
       "</table>\n",
       "</div>"
      ],
      "text/plain": [
       "           Open  High   Low  Close  Adj Close  Volume\n",
       "Open       1.00  0.98  0.98   0.94       0.94   -0.51\n",
       "High       0.98  1.00  0.98   0.97       0.97   -0.48\n",
       "Low        0.98  0.98  1.00   0.98       0.98   -0.54\n",
       "Close      0.94  0.97  0.98   1.00       1.00   -0.50\n",
       "Adj Close  0.94  0.97  0.98   1.00       1.00   -0.50\n",
       "Volume    -0.51 -0.48 -0.54  -0.50      -0.50    1.00"
      ]
     },
     "execution_count": 37,
     "metadata": {},
     "output_type": "execute_result"
    }
   ],
   "source": [
    "# Find correlation among features\n",
    "df.corr().round(2)"
   ]
  },
  {
   "cell_type": "code",
   "execution_count": 38,
   "id": "b7ce85bc",
   "metadata": {},
   "outputs": [
    {
     "data": {
      "text/html": [
       "<div>\n",
       "<style scoped>\n",
       "    .dataframe tbody tr th:only-of-type {\n",
       "        vertical-align: middle;\n",
       "    }\n",
       "\n",
       "    .dataframe tbody tr th {\n",
       "        vertical-align: top;\n",
       "    }\n",
       "\n",
       "    .dataframe thead th {\n",
       "        text-align: right;\n",
       "    }\n",
       "</style>\n",
       "<table border=\"1\" class=\"dataframe\">\n",
       "  <thead>\n",
       "    <tr style=\"text-align: right;\">\n",
       "      <th></th>\n",
       "      <th>Open</th>\n",
       "      <th>High</th>\n",
       "      <th>Low</th>\n",
       "      <th>Close</th>\n",
       "      <th>Adj Close</th>\n",
       "      <th>Volume</th>\n",
       "    </tr>\n",
       "  </thead>\n",
       "  <tbody>\n",
       "    <tr>\n",
       "      <th>Open</th>\n",
       "      <td>1.00</td>\n",
       "      <td>0.98</td>\n",
       "      <td>0.98</td>\n",
       "      <td>0.94</td>\n",
       "      <td>0.94</td>\n",
       "      <td>-0.51</td>\n",
       "    </tr>\n",
       "    <tr>\n",
       "      <th>High</th>\n",
       "      <td>0.98</td>\n",
       "      <td>1.00</td>\n",
       "      <td>0.98</td>\n",
       "      <td>0.97</td>\n",
       "      <td>0.97</td>\n",
       "      <td>-0.48</td>\n",
       "    </tr>\n",
       "    <tr>\n",
       "      <th>Low</th>\n",
       "      <td>0.98</td>\n",
       "      <td>0.98</td>\n",
       "      <td>1.00</td>\n",
       "      <td>0.98</td>\n",
       "      <td>0.98</td>\n",
       "      <td>-0.54</td>\n",
       "    </tr>\n",
       "    <tr>\n",
       "      <th>Close</th>\n",
       "      <td>0.94</td>\n",
       "      <td>0.97</td>\n",
       "      <td>0.98</td>\n",
       "      <td>1.00</td>\n",
       "      <td>1.00</td>\n",
       "      <td>-0.50</td>\n",
       "    </tr>\n",
       "    <tr>\n",
       "      <th>Adj Close</th>\n",
       "      <td>0.94</td>\n",
       "      <td>0.97</td>\n",
       "      <td>0.98</td>\n",
       "      <td>1.00</td>\n",
       "      <td>1.00</td>\n",
       "      <td>-0.50</td>\n",
       "    </tr>\n",
       "    <tr>\n",
       "      <th>Volume</th>\n",
       "      <td>-0.51</td>\n",
       "      <td>-0.48</td>\n",
       "      <td>-0.54</td>\n",
       "      <td>-0.50</td>\n",
       "      <td>-0.50</td>\n",
       "      <td>1.00</td>\n",
       "    </tr>\n",
       "  </tbody>\n",
       "</table>\n",
       "</div>"
      ],
      "text/plain": [
       "           Open  High   Low  Close  Adj Close  Volume\n",
       "Open       1.00  0.98  0.98   0.94       0.94   -0.51\n",
       "High       0.98  1.00  0.98   0.97       0.97   -0.48\n",
       "Low        0.98  0.98  1.00   0.98       0.98   -0.54\n",
       "Close      0.94  0.97  0.98   1.00       1.00   -0.50\n",
       "Adj Close  0.94  0.97  0.98   1.00       1.00   -0.50\n",
       "Volume    -0.51 -0.48 -0.54  -0.50      -0.50    1.00"
      ]
     },
     "execution_count": 38,
     "metadata": {},
     "output_type": "execute_result"
    }
   ],
   "source": [
    "matrix=df.corr().round(2)\n",
    "matrix"
   ]
  },
  {
   "cell_type": "code",
   "execution_count": 61,
   "id": "b71d4387",
   "metadata": {},
   "outputs": [
    {
     "data": {
      "text/plain": [
       "<AxesSubplot: >"
      ]
     },
     "execution_count": 61,
     "metadata": {},
     "output_type": "execute_result"
    },
    {
     "data": {
      "image/png": "[encoded data removed]",
      "text/plain": [
       "<Figure size 432x288 with 2 Axes>"
      ]
     },
     "metadata": {
      "needs_background": "light"
     },
     "output_type": "display_data"
    }
   ],
   "source": [
    "# Generating Heatmap\n",
    "sns.heatmap(df.corr().round(2), vmin=-1, vmax=1, annot=True)"
   ]
  },
  {
   "cell_type": "code",
   "execution_count": 41,
   "id": "73269711",
   "metadata": {},
   "outputs": [
    {
     "data": {
      "text/plain": [
       "Open       Open         1.00\n",
       "           High         0.98\n",
       "           Low          0.98\n",
       "           Close        0.94\n",
       "           Adj Close    0.94\n",
       "           Volume      -0.51\n",
       "High       Open         0.98\n",
       "           High         1.00\n",
       "           Low          0.98\n",
       "           Close        0.97\n",
       "           Adj Close    0.97\n",
       "           Volume      -0.48\n",
       "Low        Open         0.98\n",
       "           High         0.98\n",
       "           Low          1.00\n",
       "           Close        0.98\n",
       "           Adj Close    0.98\n",
       "           Volume      -0.54\n",
       "Close      Open         0.94\n",
       "           High         0.97\n",
       "           Low          0.98\n",
       "           Close        1.00\n",
       "           Adj Close    1.00\n",
       "           Volume      -0.50\n",
       "Adj Close  Open         0.94\n",
       "           High         0.97\n",
       "           Low          0.98\n",
       "           Close        1.00\n",
       "           Adj Close    1.00\n",
       "           Volume      -0.50\n",
       "Volume     Open        -0.51\n",
       "           High        -0.48\n",
       "           Low         -0.54\n",
       "           Close       -0.50\n",
       "           Adj Close   -0.50\n",
       "           Volume       1.00\n",
       "dtype: float64"
      ]
     },
     "execution_count": 41,
     "metadata": {},
     "output_type": "execute_result"
    }
   ],
   "source": [
    "# Unstacking for values\n",
    "matrix = matrix.unstack()\n",
    "matrix"
   ]
  },
  {
   "cell_type": "code",
   "execution_count": 66,
   "id": "da358007",
   "metadata": {},
   "outputs": [
    {
     "data": {
      "text/plain": [
       "Open       Open         1.00\n",
       "           High         0.98\n",
       "           Low          0.98\n",
       "High       Open         0.98\n",
       "           High         1.00\n",
       "           Low          0.98\n",
       "           Close        0.97\n",
       "           Adj Close    0.97\n",
       "Low        Open         0.98\n",
       "           High         0.98\n",
       "           Low          1.00\n",
       "           Close        0.98\n",
       "           Adj Close    0.98\n",
       "Close      High         0.97\n",
       "           Low          0.98\n",
       "           Close        1.00\n",
       "           Adj Close    1.00\n",
       "Adj Close  High         0.97\n",
       "           Low          0.98\n",
       "           Close        1.00\n",
       "           Adj Close    1.00\n",
       "Volume     Volume       1.00\n",
       "dtype: float64"
      ]
     },
     "execution_count": 66,
     "metadata": {},
     "output_type": "execute_result"
    }
   ],
   "source": [
    "# Highly positively correlated\n",
    "matrix[matrix>0.95]"
   ]
  },
  {
   "cell_type": "code",
   "execution_count": 67,
   "id": "0ee3b510",
   "metadata": {},
   "outputs": [
    {
     "data": {
      "text/plain": [
       "Series([], dtype: float64)"
      ]
     },
     "execution_count": 67,
     "metadata": {},
     "output_type": "execute_result"
    }
   ],
   "source": [
    "# Highly negatively correlated\n",
    "matrix[matrix<-0.90]"
   ]
  },
  {
   "cell_type": "code",
   "execution_count": null,
   "id": "dad9f99e",
   "metadata": {},
   "outputs": [],
   "source": []
  }
 ],
 "metadata": {
  "kernelspec": {
   "display_name": "Python 3 (ipykernel)",
   "language": "python",
   "name": "python3"
  },
  "language_info": {
   "codemirror_mode": {
    "name": "ipython",
    "version": 3
   },
   "file_extension": ".py",
   "mimetype": "text/x-python",
   "name": "python",
   "nbconvert_exporter": "python",
   "pygments_lexer": "ipython3",
   "version": "3.9.12"
  }
 },
 "nbformat": 4,
 "nbformat_minor": 5
}

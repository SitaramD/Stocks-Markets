{
 "cells": [
  {
   "cell_type": "markdown",
   "id": "1d3dcc3c",
   "metadata": {},
   "source": [
    "# Price Options Using Machine Learning Algorithms"
   ]
  },
  {
   "cell_type": "markdown",
   "id": "db5e9b59",
   "metadata": {},
   "source": [
    "**Jonathan Kinlay, PhD**\n",
    "<br/>\n",
    "Intelligent Technologies\n",
    "<br/>\n",
    "August 2023"
   ]
  },
  {
   "cell_type": "markdown",
   "id": "be5ed203",
   "metadata": {},
   "source": [
    "## Abstract"
   ]
  },
  {
   "cell_type": "markdown",
   "id": "872108ff",
   "metadata": {},
   "source": [
    "In the intricate world of quantitative finance, the potential of machine learning to predict financial instruments' prices is increasingly evident. This research evaluates various machine learning models in forecasting vanilla put option prices. By generating a dataset rooted in the Black-Scholes model, the Neural Network model displayed outstanding out-of-sample performance, closely trailed by tree-based models."
   ]
  },
  {
   "cell_type": "markdown",
   "id": "9fb2a792",
   "metadata": {},
   "source": [
    "## Introduction"
   ]
  },
  {
   "cell_type": "markdown",
   "id": "f8b50e8c",
   "metadata": {},
   "source": [
    "Options, pivotal in financial markets, serve in risk mitigation, hedging, and speculative strategies. Traditional models, such as Black-Scholes, have been foundational in option pricing. Yet, market evolution challenges the assumptions of these conventional models, ushering in potential pricing discrepancies. \n",
    "The advent of machine learning offers a potential avenue to apply these advanced algorithms in option pricing, potentially surpassing classical model limitations."
   ]
  },
  {
   "cell_type": "markdown",
   "id": "706be243",
   "metadata": {},
   "source": [
    "## Methodology"
   ]
  },
  {
   "cell_type": "markdown",
   "id": "98e557c9",
   "metadata": {},
   "source": [
    "The approach for this study is outlined in the following steps:"
   ]
  },
  {
   "cell_type": "markdown",
   "id": "f96df271",
   "metadata": {},
   "source": [
    "### Data Generation"
   ]
  },
  {
   "cell_type": "markdown",
   "id": "c7650e78",
   "metadata": {},
   "source": [
    "Emulating real-world scenarios, 100,000 option samples were synthesized, embedding parameters to mirror genuine market characteristics. A pronounced volatility skew, commonly observed for out-of-the-money options, was seamlessly incorporated."
   ]
  },
  {
   "cell_type": "code",
   "execution_count": 1,
   "id": "6494bc41",
   "metadata": {},
   "outputs": [
    {
     "data": {
      "text/html": [
       "<div>\n",
       "<style scoped>\n",
       "    .dataframe tbody tr th:only-of-type {\n",
       "        vertical-align: middle;\n",
       "    }\n",
       "\n",
       "    .dataframe tbody tr th {\n",
       "        vertical-align: top;\n",
       "    }\n",
       "\n",
       "    .dataframe thead th {\n",
       "        text-align: right;\n",
       "    }\n",
       "</style>\n",
       "<table border=\"1\" class=\"dataframe\">\n",
       "  <thead>\n",
       "    <tr style=\"text-align: right;\">\n",
       "      <th></th>\n",
       "      <th>Spot_Price</th>\n",
       "      <th>Strike_Price</th>\n",
       "      <th>Time_to_Maturity</th>\n",
       "      <th>Risk_free_Rate</th>\n",
       "      <th>Volatility</th>\n",
       "    </tr>\n",
       "  </thead>\n",
       "  <tbody>\n",
       "    <tr>\n",
       "      <th>0</th>\n",
       "      <td>87.454012</td>\n",
       "      <td>108.077904</td>\n",
       "      <td>0.744529</td>\n",
       "      <td>0.016282</td>\n",
       "      <td>0.366686</td>\n",
       "    </tr>\n",
       "    <tr>\n",
       "      <th>1</th>\n",
       "      <td>145.071431</td>\n",
       "      <td>102.697165</td>\n",
       "      <td>1.052684</td>\n",
       "      <td>0.013820</td>\n",
       "      <td>0.295664</td>\n",
       "    </tr>\n",
       "    <tr>\n",
       "      <th>2</th>\n",
       "      <td>123.199394</td>\n",
       "      <td>85.103695</td>\n",
       "      <td>0.423627</td>\n",
       "      <td>0.015518</td>\n",
       "      <td>0.229967</td>\n",
       "    </tr>\n",
       "    <tr>\n",
       "      <th>3</th>\n",
       "      <td>109.865848</td>\n",
       "      <td>99.321266</td>\n",
       "      <td>1.031965</td>\n",
       "      <td>0.028940</td>\n",
       "      <td>0.525141</td>\n",
       "    </tr>\n",
       "    <tr>\n",
       "      <th>4</th>\n",
       "      <td>65.601864</td>\n",
       "      <td>86.509664</td>\n",
       "      <td>0.605392</td>\n",
       "      <td>0.045381</td>\n",
       "      <td>0.230878</td>\n",
       "    </tr>\n",
       "  </tbody>\n",
       "</table>\n",
       "</div>"
      ],
      "text/plain": [
       "   Spot_Price  Strike_Price  Time_to_Maturity  Risk_free_Rate  Volatility\n",
       "0   87.454012    108.077904          0.744529        0.016282    0.366686\n",
       "1  145.071431    102.697165          1.052684        0.013820    0.295664\n",
       "2  123.199394     85.103695          0.423627        0.015518    0.229967\n",
       "3  109.865848     99.321266          1.031965        0.028940    0.525141\n",
       "4   65.601864     86.509664          0.605392        0.045381    0.230878"
      ]
     },
     "execution_count": 1,
     "metadata": {},
     "output_type": "execute_result"
    }
   ],
   "source": [
    "\n",
    "import numpy as np\n",
    "import pandas as pd\n",
    "\n",
    "# Set random seed for reproducibility\n",
    "np.random.seed(42)\n",
    "\n",
    "# Number of samples\n",
    "n_samples = 100000\n",
    "\n",
    "# Generating random parameters for the options\n",
    "S = np.random.uniform(50, 150, n_samples)  # Spot Price: Between $50 and $150\n",
    "K = np.random.uniform(50, 150, n_samples)  # Strike Price: Between $50 and $150\n",
    "T = np.random.uniform(0.25, 2, n_samples)  # Time to Maturity: Between 3 months and 2 years\n",
    "r = np.random.uniform(0.01, 0.05, n_samples)  # Risk-free Rate: Between 1% and 5%\n",
    "\n",
    "# Introducing volatility skew: Options with lower strike prices will tend to have higher volatilities\n",
    "sigma = np.random.uniform(0.1, 0.4, n_samples) + (K < S) * np.random.uniform(0.05, 0.15, n_samples)\n",
    "\n",
    "# Creating a DataFrame to store these values\n",
    "options_df = pd.DataFrame({\n",
    "    'Spot_Price': S,\n",
    "    'Strike_Price': K,\n",
    "    'Time_to_Maturity': T,\n",
    "    'Risk_free_Rate': r,\n",
    "    'Volatility': sigma\n",
    "})\n",
    "\n",
    "options_df.head()\n",
    "    "
   ]
  },
  {
   "cell_type": "markdown",
   "id": "20a1d7a5",
   "metadata": {},
   "source": [
    "### Option Pricing"
   ]
  },
  {
   "cell_type": "markdown",
   "id": "f763b33c",
   "metadata": {},
   "source": [
    "Next, we'll use the Black-Scholes formula to compute the put option prices for each of these parameter sets."
   ]
  },
  {
   "cell_type": "code",
   "execution_count": 8,
   "id": "27a78022",
   "metadata": {},
   "outputs": [
    {
     "data": {
      "text/html": [
       "<div>\n",
       "<style scoped>\n",
       "    .dataframe tbody tr th:only-of-type {\n",
       "        vertical-align: middle;\n",
       "    }\n",
       "\n",
       "    .dataframe tbody tr th {\n",
       "        vertical-align: top;\n",
       "    }\n",
       "\n",
       "    .dataframe thead th {\n",
       "        text-align: right;\n",
       "    }\n",
       "</style>\n",
       "<table border=\"1\" class=\"dataframe\">\n",
       "  <thead>\n",
       "    <tr style=\"text-align: right;\">\n",
       "      <th></th>\n",
       "      <th>Spot_Price</th>\n",
       "      <th>Strike_Price</th>\n",
       "      <th>Volatility</th>\n",
       "      <th>Adjusted_Volatility</th>\n",
       "      <th>BS_Put_Price</th>\n",
       "    </tr>\n",
       "  </thead>\n",
       "  <tbody>\n",
       "    <tr>\n",
       "      <th>0</th>\n",
       "      <td>87.454012</td>\n",
       "      <td>108.077904</td>\n",
       "      <td>0.366686</td>\n",
       "      <td>0.366686</td>\n",
       "      <td>24.191026</td>\n",
       "    </tr>\n",
       "    <tr>\n",
       "      <th>1</th>\n",
       "      <td>145.071431</td>\n",
       "      <td>102.697165</td>\n",
       "      <td>0.295664</td>\n",
       "      <td>0.370170</td>\n",
       "      <td>2.102809</td>\n",
       "    </tr>\n",
       "    <tr>\n",
       "      <th>2</th>\n",
       "      <td>123.199394</td>\n",
       "      <td>85.103695</td>\n",
       "      <td>0.229967</td>\n",
       "      <td>0.254898</td>\n",
       "      <td>0.029113</td>\n",
       "    </tr>\n",
       "    <tr>\n",
       "      <th>3</th>\n",
       "      <td>109.865848</td>\n",
       "      <td>99.321266</td>\n",
       "      <td>0.525141</td>\n",
       "      <td>0.545787</td>\n",
       "      <td>15.590019</td>\n",
       "    </tr>\n",
       "    <tr>\n",
       "      <th>4</th>\n",
       "      <td>65.601864</td>\n",
       "      <td>86.509664</td>\n",
       "      <td>0.230878</td>\n",
       "      <td>0.230878</td>\n",
       "      <td>19.065520</td>\n",
       "    </tr>\n",
       "  </tbody>\n",
       "</table>\n",
       "</div>"
      ],
      "text/plain": [
       "   Spot_Price  Strike_Price  Volatility  Adjusted_Volatility  BS_Put_Price\n",
       "0   87.454012    108.077904    0.366686             0.366686     24.191026\n",
       "1  145.071431    102.697165    0.295664             0.370170      2.102809\n",
       "2  123.199394     85.103695    0.229967             0.254898      0.029113\n",
       "3  109.865848     99.321266    0.525141             0.545787     15.590019\n",
       "4   65.601864     86.509664    0.230878             0.230878     19.065520"
      ]
     },
     "execution_count": 8,
     "metadata": {},
     "output_type": "execute_result"
    }
   ],
   "source": [
    "\n",
    "from scipy.stats import norm\n",
    "\n",
    "def black_scholes_put_price(S, K, T, r, sigma, q=0):\n",
    "    \"\"\"\n",
    "    Compute the Black-Scholes put option price.\n",
    "    \n",
    "    Parameters:\n",
    "    - S: Spot price of the underlying asset\n",
    "    - K: Strike price of the option\n",
    "    - T: Time to maturity (in years)\n",
    "    - r: Risk-free interest rate (annualized)\n",
    "    - sigma: Volatility of the underlying asset (annualized)\n",
    "    - q: Dividend yield (annualized). Default is 0 (no dividends).\n",
    "    \n",
    "    Returns:\n",
    "    - Put option price\n",
    "    \"\"\"\n",
    "    d1 = (np.log(S / K) + (r - q + 0.5 * sigma ** 2) * T) / (sigma * np.sqrt(T))\n",
    "    d2 = d1 - sigma * np.sqrt(T)\n",
    "    \n",
    "    put_price = K * np.exp(-r * T) * norm.cdf(-d2) - S * np.exp(-q * T) * norm.cdf(-d1)\n",
    "    return put_price\n",
    "\n",
    "# Compute put option prices using Black-Scholes formula\n",
    "options_df['BS_Put_Price'] = black_scholes_put_price(\n",
    "    options_df['Spot_Price'], \n",
    "    options_df['Strike_Price'], \n",
    "    options_df['Time_to_Maturity'], \n",
    "    options_df['Risk_free_Rate'], \n",
    "    options_df['Volatility']\n",
    ")\n",
    "options_df[['Spot_Price', 'Strike_Price', 'Volatility', 'Adjusted_Volatility', 'BS_Put_Price']].head()"
   ]
  },
  {
   "cell_type": "markdown",
   "id": "f70b3251",
   "metadata": {},
   "source": [
    "### Volatility Skew Adjustment"
   ]
  },
  {
   "cell_type": "markdown",
   "id": "34d4e7f3",
   "metadata": {},
   "source": [
    "The volatility skew is a phenomenon where out-of-the-money (OTM) options tend to have higher implied volatilities compared to at-the-money (ATM) or in-the-money (ITM) options. This skew is often more pronounced for options with lower strike prices.\n",
    "\n",
    "To implement a more pronounced skew, I'll adjust the volatility based on:\n",
    "\n",
    "1. How far OTM the option is.\n",
    "2. The magnitude of the strike price."
   ]
  },
  {
   "cell_type": "code",
   "execution_count": 4,
   "id": "cb6c3999",
   "metadata": {},
   "outputs": [
    {
     "data": {
      "text/html": [
       "<div>\n",
       "<style scoped>\n",
       "    .dataframe tbody tr th:only-of-type {\n",
       "        vertical-align: middle;\n",
       "    }\n",
       "\n",
       "    .dataframe tbody tr th {\n",
       "        vertical-align: top;\n",
       "    }\n",
       "\n",
       "    .dataframe thead th {\n",
       "        text-align: right;\n",
       "    }\n",
       "</style>\n",
       "<table border=\"1\" class=\"dataframe\">\n",
       "  <thead>\n",
       "    <tr style=\"text-align: right;\">\n",
       "      <th></th>\n",
       "      <th>Spot_Price</th>\n",
       "      <th>Strike_Price</th>\n",
       "      <th>Volatility</th>\n",
       "      <th>Adjusted_Volatility</th>\n",
       "      <th>BS_Put_Price</th>\n",
       "      <th>Adjusted_BS_Put_Price</th>\n",
       "    </tr>\n",
       "  </thead>\n",
       "  <tbody>\n",
       "    <tr>\n",
       "      <th>0</th>\n",
       "      <td>87.454012</td>\n",
       "      <td>108.077904</td>\n",
       "      <td>0.366686</td>\n",
       "      <td>0.366686</td>\n",
       "      <td>24.191026</td>\n",
       "      <td>24.191026</td>\n",
       "    </tr>\n",
       "    <tr>\n",
       "      <th>1</th>\n",
       "      <td>145.071431</td>\n",
       "      <td>102.697165</td>\n",
       "      <td>0.295664</td>\n",
       "      <td>0.370170</td>\n",
       "      <td>4.183218</td>\n",
       "      <td>2.967925</td>\n",
       "    </tr>\n",
       "    <tr>\n",
       "      <th>2</th>\n",
       "      <td>123.199394</td>\n",
       "      <td>85.103695</td>\n",
       "      <td>0.229967</td>\n",
       "      <td>0.254898</td>\n",
       "      <td>0.067591</td>\n",
       "      <td>0.273305</td>\n",
       "    </tr>\n",
       "    <tr>\n",
       "      <th>3</th>\n",
       "      <td>109.865848</td>\n",
       "      <td>99.321266</td>\n",
       "      <td>0.525141</td>\n",
       "      <td>0.545787</td>\n",
       "      <td>16.396201</td>\n",
       "      <td>16.073277</td>\n",
       "    </tr>\n",
       "    <tr>\n",
       "      <th>4</th>\n",
       "      <td>65.601864</td>\n",
       "      <td>86.509664</td>\n",
       "      <td>0.230878</td>\n",
       "      <td>0.230878</td>\n",
       "      <td>19.065520</td>\n",
       "      <td>19.065520</td>\n",
       "    </tr>\n",
       "  </tbody>\n",
       "</table>\n",
       "</div>"
      ],
      "text/plain": [
       "   Spot_Price  Strike_Price  Volatility  Adjusted_Volatility  BS_Put_Price  \\\n",
       "0   87.454012    108.077904    0.366686             0.366686     24.191026   \n",
       "1  145.071431    102.697165    0.295664             0.370170      4.183218   \n",
       "2  123.199394     85.103695    0.229967             0.254898      0.067591   \n",
       "3  109.865848     99.321266    0.525141             0.545787     16.396201   \n",
       "4   65.601864     86.509664    0.230878             0.230878     19.065520   \n",
       "\n",
       "   Adjusted_BS_Put_Price  \n",
       "0              24.191026  \n",
       "1               2.967925  \n",
       "2               0.273305  \n",
       "3              16.073277  \n",
       "4              19.065520  "
      ]
     },
     "execution_count": 4,
     "metadata": {},
     "output_type": "execute_result"
    }
   ],
   "source": [
    "# Adjusting the volatility skew based on how far OTM the option is and the magnitude of the strike price\n",
    "delta_from_ATM = (options_df['Spot_Price'] - options_df['Strike_Price']).abs()\n",
    "skew_factor = np.where(options_df['Strike_Price'] < options_df['Spot_Price'], delta_from_ATM / options_df['Strike_Price'], 0)\n",
    "\n",
    "# Adjusting the volatility to introduce a more pronounced skew for OTM options and options with smaller strike prices\n",
    "options_df['Adjusted_Volatility'] = options_df['Volatility'] + skew_factor * np.random.uniform(0.05, 0.2, n_samples)\n",
    "\n",
    "# Compute put option prices using Black-Scholes formula with adjusted volatility\n",
    "options_df['BS_Put_Price'] = black_scholes_put_price(\n",
    "    options_df['Spot_Price'], \n",
    "    options_df['Strike_Price'], \n",
    "    options_df['Time_to_Maturity'], \n",
    "    options_df['Risk_free_Rate'], \n",
    "    options_df['Adjusted_Volatility']\n",
    ")\n",
    "\n",
    "options_df[['Spot_Price', 'Strike_Price', 'Volatility', 'Adjusted_Volatility', 'BS_Put_Price', 'Adjusted_BS_Put_Price']].head()\n"
   ]
  },
  {
   "cell_type": "markdown",
   "id": "eef73262",
   "metadata": {},
   "source": [
    "### Data Splitting"
   ]
  },
  {
   "cell_type": "markdown",
   "id": "8154b3d0",
   "metadata": {},
   "source": [
    "We'll split the generated data into training and testing sets. This ensures that the machine learning models are evaluated on unseen data, providing a more realistic assessment of their predictive capabilities."
   ]
  },
  {
   "cell_type": "code",
   "execution_count": 9,
   "id": "fc443a03",
   "metadata": {},
   "outputs": [
    {
     "data": {
      "text/plain": [
       "((80000, 5), (20000, 5))"
      ]
     },
     "execution_count": 9,
     "metadata": {},
     "output_type": "execute_result"
    }
   ],
   "source": [
    "\n",
    "from sklearn.model_selection import train_test_split\n",
    "\n",
    "# Features and target variable\n",
    "X = options_df[['Spot_Price', 'Strike_Price', 'Time_to_Maturity', 'Risk_free_Rate', 'Volatility']]\n",
    "y = options_df['Adjusted_BS_Put_Price']\n",
    "\n",
    "# Splitting the data into training and testing sets (80% train, 20% test)\n",
    "X_train, X_test, y_train, y_test = train_test_split(X, y, test_size=0.20, random_state=42)\n",
    "\n",
    "X_train.shape, X_test.shape\n",
    "    "
   ]
  },
  {
   "cell_type": "markdown",
   "id": "c24411a6",
   "metadata": {},
   "source": [
    "## Machine Learning Models"
   ]
  },
  {
   "cell_type": "markdown",
   "id": "265dfc12",
   "metadata": {},
   "source": [
    "### Linear Regression Model"
   ]
  },
  {
   "cell_type": "markdown",
   "id": "e5f409ef",
   "metadata": {},
   "source": [
    "We'll begin by training and evaluating a Linear Regression model on our dataset. This model will serve as a baseline, and its performance metrics will be used for comparison with more complex models."
   ]
  },
  {
   "cell_type": "code",
   "execution_count": 10,
   "id": "d33be24f",
   "metadata": {},
   "outputs": [
    {
     "data": {
      "text/plain": [
       "(82.30656235679855, 7.410646174896283, 0.8020023793175672)"
      ]
     },
     "execution_count": 10,
     "metadata": {},
     "output_type": "execute_result"
    }
   ],
   "source": [
    "\n",
    "from sklearn.linear_model import LinearRegression\n",
    "from sklearn.metrics import mean_squared_error, mean_absolute_error, r2_score\n",
    "\n",
    "# Initialize the Linear Regression model\n",
    "lr_model = LinearRegression()\n",
    "\n",
    "# Train the model\n",
    "lr_model.fit(X_train, y_train)\n",
    "\n",
    "# Predict on the test set\n",
    "lr_predictions = lr_model.predict(X_test)\n",
    "\n",
    "# Compute accuracy metrics\n",
    "lr_mse = mean_squared_error(y_test, lr_predictions)\n",
    "lr_mae = mean_absolute_error(y_test, lr_predictions)\n",
    "lr_r2 = r2_score(y_test, lr_predictions)\n",
    "\n",
    "lr_mse, lr_mae, lr_r2\n",
    "    "
   ]
  },
  {
   "cell_type": "markdown",
   "id": "f33a0dbf",
   "metadata": {},
   "source": [
    "### Decision Tree Regressor"
   ]
  },
  {
   "cell_type": "markdown",
   "id": "452ca91c",
   "metadata": {},
   "source": [
    "Next, we'll explore a Decision Tree Regressor. Decision Trees can capture non-linear relationships in the data and might offer better performance than the linear model. Let's train, predict, and evaluate the model."
   ]
  },
  {
   "cell_type": "code",
   "execution_count": 11,
   "id": "db25fc96",
   "metadata": {},
   "outputs": [
    {
     "data": {
      "text/plain": [
       "(2.224022611312335, 1.0998208871027149, 0.9946498654205135)"
      ]
     },
     "execution_count": 11,
     "metadata": {},
     "output_type": "execute_result"
    }
   ],
   "source": [
    "\n",
    "from sklearn.tree import DecisionTreeRegressor\n",
    "\n",
    "# Initialize the Decision Tree Regressor model\n",
    "dt_model = DecisionTreeRegressor(random_state=42)\n",
    "\n",
    "# Train the model\n",
    "dt_model.fit(X_train, y_train)\n",
    "\n",
    "# Predict on the test set\n",
    "dt_predictions = dt_model.predict(X_test)\n",
    "\n",
    "# Compute accuracy metrics\n",
    "dt_mse = mean_squared_error(y_test, dt_predictions)\n",
    "dt_mae = mean_absolute_error(y_test, dt_predictions)\n",
    "dt_r2 = r2_score(y_test, dt_predictions)\n",
    "\n",
    "dt_mse, dt_mae, dt_r2\n",
    "    "
   ]
  },
  {
   "cell_type": "markdown",
   "id": "0639f33d",
   "metadata": {},
   "source": [
    "### Random Forest Regressor"
   ]
  },
  {
   "cell_type": "markdown",
   "id": "e88f2ec2",
   "metadata": {},
   "source": [
    "We'll now utilize the Random Forest Regressor. Random Forests, being an ensemble of decision trees, can often capture more intricate patterns in the data, providing potentially better predictive power than individual trees. Let's proceed with its training, prediction, and evaluation."
   ]
  },
  {
   "cell_type": "code",
   "execution_count": 12,
   "id": "77973ec7",
   "metadata": {},
   "outputs": [
    {
     "data": {
      "text/plain": [
       "(0.6236407962069487, 0.5833766515370907, 0.9984997624700422)"
      ]
     },
     "execution_count": 12,
     "metadata": {},
     "output_type": "execute_result"
    }
   ],
   "source": [
    "\n",
    "from sklearn.ensemble import RandomForestRegressor\n",
    "\n",
    "# Initialize the Random Forest Regressor model\n",
    "rf_model = RandomForestRegressor(n_estimators=100, random_state=42)\n",
    "\n",
    "# Train the model\n",
    "rf_model.fit(X_train, y_train)\n",
    "\n",
    "# Predict on the test set\n",
    "rf_predictions = rf_model.predict(X_test)\n",
    "\n",
    "# Compute accuracy metrics\n",
    "rf_mse = mean_squared_error(y_test, rf_predictions)\n",
    "rf_mae = mean_absolute_error(y_test, rf_predictions)\n",
    "rf_r2 = r2_score(y_test, rf_predictions)\n",
    "\n",
    "rf_mse, rf_mae, rf_r2\n",
    "    "
   ]
  },
  {
   "cell_type": "markdown",
   "id": "4b0a7d41",
   "metadata": {},
   "source": [
    "### Gradient Boosted Trees Regressor"
   ]
  },
  {
   "cell_type": "markdown",
   "id": "838bad01",
   "metadata": {},
   "source": [
    "We'll now implement the Gradient Boosted Trees Regressor. Gradient Boosting is a powerful ensemble technique that can provide high accuracy by iteratively correcting errors from previous trees. Let's train, predict, and evaluate this model."
   ]
  },
  {
   "cell_type": "code",
   "execution_count": 15,
   "id": "478e027a",
   "metadata": {},
   "outputs": [
    {
     "data": {
      "text/plain": [
       "(3.012747541165223, 1.3659705360230647, 0.9927524995846423)"
      ]
     },
     "execution_count": 15,
     "metadata": {},
     "output_type": "execute_result"
    }
   ],
   "source": [
    "\n",
    "from sklearn.ensemble import GradientBoostingRegressor\n",
    "\n",
    "# Initialize the Gradient Boosting Regressor model\n",
    "gb_model = GradientBoostingRegressor(random_state=42)\n",
    "\n",
    "# Train the model\n",
    "gb_model.fit(X_train, y_train)\n",
    "\n",
    "# Predict on the test set\n",
    "gb_predictions = gb_model.predict(X_test)\n",
    "\n",
    "# Compute accuracy metrics\n",
    "gb_mse = mean_squared_error(y_test, gb_predictions)\n",
    "gb_mae = mean_absolute_error(y_test, gb_predictions)\n",
    "gb_r2 = r2_score(y_test, gb_predictions)\n",
    "\n",
    "gb_mse, gb_mae, gb_r2\n",
    "    "
   ]
  },
  {
   "cell_type": "markdown",
   "id": "1f5f6c56",
   "metadata": {},
   "source": [
    "### Neural Network (MLP) Regressor"
   ]
  },
  {
   "cell_type": "markdown",
   "id": "f37865a5",
   "metadata": {},
   "source": [
    "Lastly, we'll employ a Neural Network model. Neural Networks can capture complex non-linear relationships in data and are particularly suited for large datasets. Before training the model, we'll scale our features since neural networks perform better with standardized input data."
   ]
  },
  {
   "cell_type": "code",
   "execution_count": 13,
   "id": "1261975a",
   "metadata": {},
   "outputs": [
    {
     "data": {
      "text/plain": [
       "(0.11641604855765736, 0.2004961190592006, 0.9997199482038414)"
      ]
     },
     "execution_count": 13,
     "metadata": {},
     "output_type": "execute_result"
    }
   ],
   "source": [
    "\n",
    "from sklearn.preprocessing import StandardScaler\n",
    "from sklearn.neural_network import MLPRegressor\n",
    "\n",
    "# Neural networks benefit from feature scaling. So, we'll scale our features.\n",
    "scaler = StandardScaler()\n",
    "X_train_scaled = scaler.fit_transform(X_train)\n",
    "X_test_scaled = scaler.transform(X_test)\n",
    "\n",
    "# Initialize the Neural Network (MLP) model\n",
    "nn_model = MLPRegressor(hidden_layer_sizes=(100, 50), max_iter=1000, random_state=42)\n",
    "\n",
    "# Train the model\n",
    "nn_model.fit(X_train_scaled, y_train)\n",
    "\n",
    "# Predict on the test set\n",
    "nn_predictions = nn_model.predict(X_test_scaled)\n",
    "\n",
    "# Compute accuracy metrics\n",
    "nn_mse = mean_squared_error(y_test, nn_predictions)\n",
    "nn_mae = mean_absolute_error(y_test, nn_predictions)\n",
    "nn_r2 = r2_score(y_test, nn_predictions)\n",
    "\n",
    "nn_mse, nn_mae, nn_r2\n",
    "    "
   ]
  },
  {
   "cell_type": "markdown",
   "id": "b4ec3e03",
   "metadata": {},
   "source": [
    "## Summary of Model Performance"
   ]
  },
  {
   "cell_type": "markdown",
   "id": "1269637c",
   "metadata": {},
   "source": [
    "The table below provides a concise summary of each model's performance on the test data. These metrics allow us to compare and assess the efficacy of each model in predicting vanilla put option prices."
   ]
  },
  {
   "cell_type": "code",
   "execution_count": 16,
   "id": "16c98122",
   "metadata": {},
   "outputs": [
    {
     "data": {
      "text/html": [
       "<div>\n",
       "<style scoped>\n",
       "    .dataframe tbody tr th:only-of-type {\n",
       "        vertical-align: middle;\n",
       "    }\n",
       "\n",
       "    .dataframe tbody tr th {\n",
       "        vertical-align: top;\n",
       "    }\n",
       "\n",
       "    .dataframe thead th {\n",
       "        text-align: right;\n",
       "    }\n",
       "</style>\n",
       "<table border=\"1\" class=\"dataframe\">\n",
       "  <thead>\n",
       "    <tr style=\"text-align: right;\">\n",
       "      <th></th>\n",
       "      <th>Model</th>\n",
       "      <th>Mean Squared Error</th>\n",
       "      <th>Mean Absolute Error</th>\n",
       "      <th>R-squared</th>\n",
       "    </tr>\n",
       "  </thead>\n",
       "  <tbody>\n",
       "    <tr>\n",
       "      <th>0</th>\n",
       "      <td>Linear Regression</td>\n",
       "      <td>82.306562</td>\n",
       "      <td>7.410646</td>\n",
       "      <td>0.802002</td>\n",
       "    </tr>\n",
       "    <tr>\n",
       "      <th>1</th>\n",
       "      <td>Decision Tree</td>\n",
       "      <td>2.224023</td>\n",
       "      <td>1.099821</td>\n",
       "      <td>0.994650</td>\n",
       "    </tr>\n",
       "    <tr>\n",
       "      <th>2</th>\n",
       "      <td>Random Forest</td>\n",
       "      <td>0.623641</td>\n",
       "      <td>0.583377</td>\n",
       "      <td>0.998500</td>\n",
       "    </tr>\n",
       "    <tr>\n",
       "      <th>3</th>\n",
       "      <td>Gradient Boosted Trees</td>\n",
       "      <td>3.012748</td>\n",
       "      <td>1.365971</td>\n",
       "      <td>0.992752</td>\n",
       "    </tr>\n",
       "    <tr>\n",
       "      <th>4</th>\n",
       "      <td>Neural Network (MLP)</td>\n",
       "      <td>0.116416</td>\n",
       "      <td>0.200496</td>\n",
       "      <td>0.999720</td>\n",
       "    </tr>\n",
       "  </tbody>\n",
       "</table>\n",
       "</div>"
      ],
      "text/plain": [
       "                    Model  Mean Squared Error  Mean Absolute Error  R-squared\n",
       "0       Linear Regression           82.306562             7.410646   0.802002\n",
       "1           Decision Tree            2.224023             1.099821   0.994650\n",
       "2           Random Forest            0.623641             0.583377   0.998500\n",
       "3  Gradient Boosted Trees            3.012748             1.365971   0.992752\n",
       "4    Neural Network (MLP)            0.116416             0.200496   0.999720"
      ]
     },
     "execution_count": 16,
     "metadata": {},
     "output_type": "execute_result"
    }
   ],
   "source": [
    "\n",
    "import pandas as pd\n",
    "\n",
    "# Constructing the results dataframe\n",
    "results_df = pd.DataFrame({\n",
    "    'Model': ['Linear Regression', 'Decision Tree', 'Random Forest', 'Gradient Boosted Trees', 'Neural Network (MLP)'],\n",
    "    'Mean Squared Error': [lr_mse, dt_mse, rf_mse, gb_mse, nn_mse],\n",
    "    'Mean Absolute Error': [lr_mae, dt_mae, rf_mae, gb_mae, nn_mae],\n",
    "    'R-squared': [lr_r2, dt_r2, rf_r2, gb_r2, nn_r2]\n",
    "})\n",
    "\n",
    "results_df\n"
   ]
  },
  {
   "cell_type": "markdown",
   "id": "061ee1f9",
   "metadata": {},
   "source": [
    "### Scatter Plots of Actual vs. Predicted Option Prices"
   ]
  },
  {
   "cell_type": "markdown",
   "id": "d5edbcc7",
   "metadata": {},
   "source": [
    "The scatter plots below visualize the actual versus the predicted option prices for each model. A red dashed line represents the ideal scenario where the predicted price matches the actual price. Deviations from this line indicate prediction errors."
   ]
  },
  {
   "cell_type": "code",
   "execution_count": 24,
   "id": "b4483821",
   "metadata": {},
   "outputs": [
    {
     "data": {
      "image/png": "[encoded data removed]",
      "text/plain": [
       "<Figure size 1440x720 with 6 Axes>"
      ]
     },
     "metadata": {
      "needs_background": "light"
     },
     "output_type": "display_data"
    }
   ],
   "source": [
    "\n",
    "import matplotlib.pyplot as plt\n",
    "\n",
    "# Set up the figure and axes\n",
    "fig, axs = plt.subplots(2, 3, figsize=(20, 10))\n",
    "fig.suptitle('Scatter Plots of Actual vs. Predicted Option Prices', fontsize=16)\n",
    "\n",
    "# Linear Regression Scatter Plot\n",
    "axs[0, 0].scatter(y_test, lr_predictions, alpha=0.5)\n",
    "axs[0, 0].plot([min(y_test), max(y_test)], [min(y_test), max(y_test)], '--', color='red')\n",
    "axs[0, 0].set_title('Linear Regression')\n",
    "axs[0, 0].set_xlabel('Actual Prices')\n",
    "axs[0, 0].set_ylabel('Predicted Prices')\n",
    "\n",
    "# Decision Tree Scatter Plot\n",
    "axs[0, 1].scatter(y_test, dt_predictions, alpha=0.5)\n",
    "axs[0, 1].plot([min(y_test), max(y_test)], [min(y_test), max(y_test)], '--', color='red')\n",
    "axs[0, 1].set_title('Decision Tree')\n",
    "axs[0, 1].set_xlabel('Actual Prices')\n",
    "axs[0, 1].set_ylabel('Predicted Prices')\n",
    "\n",
    "# Random Forest Scatter Plot\n",
    "axs[0, 2].scatter(y_test, rf_predictions, alpha=0.5)\n",
    "axs[0, 2].plot([min(y_test), max(y_test)], [min(y_test), max(y_test)], '--', color='red')\n",
    "axs[0, 2].set_title('Random Forest')\n",
    "axs[0, 2].set_xlabel('Actual Prices')\n",
    "axs[0, 2].set_ylabel('Predicted Prices')\n",
    "\n",
    "# Gradient Boosted Trees Scatter Plot\n",
    "axs[1, 0].scatter(y_test, gb_predictions, alpha=0.5)\n",
    "axs[1, 0].plot([min(y_test), max(y_test)], [min(y_test), max(y_test)], '--', color='red')\n",
    "axs[1, 0].set_title('Gradient Boosted Trees')\n",
    "axs[1, 0].set_xlabel('Actual Prices')\n",
    "axs[1, 0].set_ylabel('Predicted Prices')\n",
    "\n",
    "# Neural Network Scatter Plot\n",
    "axs[1, 1].scatter(y_test, nn_predictions, alpha=0.5)\n",
    "axs[1, 1].plot([min(y_test), max(y_test)], [min(y_test), max(y_test)], '--', color='red')\n",
    "axs[1, 1].set_title('Neural Network (MLP)')\n",
    "axs[1, 1].set_xlabel('Actual Prices')\n",
    "axs[1, 1].set_ylabel('Predicted Prices')\n",
    "\n",
    "# Hide the empty subplot\n",
    "axs[1, 2].axis('off')\n",
    "\n",
    "plt.tight_layout()\n",
    "plt.subplots_adjust(top=0.9)\n",
    "plt.show()\n"
   ]
  },
  {
   "cell_type": "markdown",
   "id": "0ac98fe5",
   "metadata": {},
   "source": [
    "## Discussion"
   ]
  },
  {
   "cell_type": "markdown",
   "id": "c17f4d5b",
   "metadata": {},
   "source": [
    "A few observations emerge:\n",
    "<br/>\n",
    "1. Neural Network's Superiority: The Neural Network's remarkable performance highlights the potential of deep learning techniques in the realm of financial modeling. Its near-perfect predictions underscore its capacity to capture complex nonlinear relationships inherent in option pricing.    \n",
    "\n",
    "<br/>\n",
    "\n",
    "2. Tree-based Models: While the Neural Network stood out, tree-based models, particularly the Random Forest, showcased impressive predictive abilities. These models offer the advantage of better interpretability, making them invaluable in scenarios where understanding model decisions is pivotal.  \n",
    "\n",
    "<br/>\n",
    "\n",
    "3. Linear Regression's Limitations: Linear Regression, though foundational, struggled to capture the complexities of option pricing, evident from its lower R2 value compared to other models. This suggests that the relationships in the data might be inherently nonlinear, necessitating more intricate models.\n"
   ]
  },
  {
   "cell_type": "markdown",
   "id": "5be47494",
   "metadata": {},
   "source": [
    "## Conclusion"
   ]
  },
  {
   "cell_type": "markdown",
   "id": "f39b865a",
   "metadata": {},
   "source": [
    "This research underscores the potential of machine learning models, especially deep learning, in the realm of option pricing. Their ability to model intricate relationships and adapt to complex data structures makes them compelling candidates for financial modeling. However, while these models show promise, practitioners must exercise caution. Thorough validation on real-world data and a comprehensive understanding of model intricacies and limitations are imperative before deploying them in live financial scenarios.\n"
   ]
  },
  {
   "cell_type": "markdown",
   "id": "4b53cb3f",
   "metadata": {},
   "source": [
    "## References"
   ]
  },
  {
   "cell_type": "markdown",
   "id": "31e7d95a",
   "metadata": {},
   "source": [
    "1. Black, F., Scholes, M. (1973). The Pricing of Options and Corporate Liabilities. Journal of Political Economy. \n",
    "<br/>\n",
    "\n",
    "2. Hull, J. (2017). Options, Futures, and Other Derivatives. Pearson. \n",
    "<br/>\n",
    "\n",
    "3. Rubinstein, M. (1994). Implied Binomial Trees. The Journal of Finance.\n",
    "<br/>\n",
    "\n",
    "4. James, G., Witten, D., Hastie, T., & Tibshirani, R. (2013). An Introduction to Statistical Learning. Springer.\n",
    "<br/>\n",
    "\n",
    "5. Hyndman, R.J., Koehler, A.B. (2006). Another look at measures of forecast accuracy. International Journal of Forecasting.\n",
    "<br/>\n",
    "6. Goodfellow, I., Bengio, Y., & Courville, A. (2016). Deep Learning. MIT Press. \n",
    "<br/>\n",
    "7. Breiman, L. (2001). Random Forests. Machine Learning. \n",
    "\n"
   ]
  },
  {
   "cell_type": "code",
   "execution_count": 1,
   "id": "a368601d",
   "metadata": {},
   "outputs": [
    {
     "name": "stdout",
     "output_type": "stream",
     "text": [
      "C:\\Users\\jkinlay\n"
     ]
    }
   ],
   "source": [
    "import os\n",
    "print(os.getcwd())"
   ]
  },
  {
   "cell_type": "code",
   "execution_count": null,
   "id": "cb820f20",
   "metadata": {},
   "outputs": [],
   "source": []
  }
 ],
 "metadata": {
  "kernelspec": {
   "display_name": "Python 3 (ipykernel)",
   "language": "python",
   "name": "python3"
  },
  "language_info": {
   "codemirror_mode": {
    "name": "ipython",
    "version": 3
   },
   "file_extension": ".py",
   "mimetype": "text/x-python",
   "name": "python",
   "nbconvert_exporter": "python",
   "pygments_lexer": "ipython3",
   "version": "3.10.10"
  }
 },
 "nbformat": 4,
 "nbformat_minor": 5
}

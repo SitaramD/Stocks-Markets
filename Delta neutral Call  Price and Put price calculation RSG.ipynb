{
 "cells": [
  {
   "cell_type": "code",
   "execution_count": 47,
   "id": "942fa0b3",
   "metadata": {},
   "outputs": [],
   "source": [
    "# Please give me a  Python code, which will find a long call and long  Put for given set of stocks like[\"AAPL\",\"VRAY\",\"MSFT\",\"MO\"] for upto two week expiry.  \n",
    "# The cost basis should be optimum. "
   ]
  },
  {
   "cell_type": "code",
   "execution_count": 48,
   "id": "9ff93009",
   "metadata": {},
   "outputs": [],
   "source": [
    "import yfinance as yf\n",
    "from datetime import datetime, timedelta\n",
    "import numpy as np"
   ]
  },
  {
   "cell_type": "code",
   "execution_count": 49,
   "id": "e27a4953",
   "metadata": {},
   "outputs": [
    {
     "name": "stdout",
     "output_type": "stream",
     "text": [
      "For RSG: Long Call - RSG230818C00150000, Long Put - RSG230818P00140000\n"
     ]
    }
   ],
   "source": [
    "def find_options(stocks, expiry_period, price_difference):\n",
    "    for stock in stocks:\n",
    "        ticker = yf.Ticker(stock)\n",
    "\n",
    "        # Get the current stock price\n",
    "        current_price = ticker.history().tail(1)['Close'].iloc[0]\n",
    "\n",
    "        # Find the closest expiration date within the desired period (up to two weeks)\n",
    "        target_expiry = next((expiry for expiry in ticker.options if is_within_two_weeks(expiry, expiry_period)), None)\n",
    "        \n",
    "        if target_expiry:\n",
    "            # Fetching call and put options for the selected expiry\n",
    "            option_chain = ticker.option_chain(target_expiry)\n",
    "            calls = option_chain.calls\n",
    "            puts = option_chain.puts\n",
    "\n",
    "            # Find a long call with strike price $5 away from current stock price\n",
    "            long_call = calls.iloc[(calls['strike'] - (current_price + price_difference)).abs().idxmin()]\n",
    "\n",
    "            # Find a long put with strike price $5 away from current stock price\n",
    "            long_put = puts.iloc[(puts['strike'] - (current_price - price_difference)).abs().idxmin()]\n",
    "\n",
    "            print(f\"For {stock}: Long Call - {long_call['contractSymbol']}, Long Put - {long_put['contractSymbol']}\")\n",
    "        else:\n",
    "            print(f\"No options found for {stock} within the specified period.\")\n",
    "\n",
    "def is_within_two_weeks(expiry_date, expiry_period):\n",
    "    # Convert the expiry_date to a datetime object and check if it's within the desired period\n",
    "    expiry_date_dt = datetime.strptime(expiry_date, '%Y-%m-%d')\n",
    "    return expiry_date_dt <= datetime.now() + timedelta(days=expiry_period)\n",
    "\n",
    "stocks = [\"RSG\"]\n",
    "expiry_period = 14 # Up to two weeks\n",
    "price_difference = 5 # Dollar amount difference from the current price\n",
    "find_options(stocks, expiry_period, price_difference)\n"
   ]
  },
  {
   "cell_type": "code",
   "execution_count": 50,
   "id": "9527b3dc",
   "metadata": {},
   "outputs": [
    {
     "name": "stdout",
     "output_type": "stream",
     "text": [
      "Delta: 0.2941477037510516\n",
      "Theta: -33.36834243083672\n",
      "Gamma: 0.07398923811978392\n",
      "Vega: 0.08023560530339091\n"
     ]
    }
   ],
   "source": [
    "#  Greeks (Delta, Theta, Gamma, Vega) for Call option, using Black-Scholes model..\n",
    "S = 147.27       # Current stock price\n",
    "K = 150        # Call Option strike price\n",
    "T = 0.025        # Time until expiration in years\n",
    "r = 0.03       # Risk-free interest rate\n",
    "sigma = 0.2    # Volatility\n",
    "option_type = 'call' # Type of option, can be 'call' or 'put'\n",
    "delta, theta, gamma, vega = black_scholes_greeks(S, K, T, r, sigma, option_type)\n",
    "print(f\"Delta: {delta}\\nTheta: {theta}\\nGamma: {gamma}\\nVega: {vega}\")"
   ]
  },
  {
   "cell_type": "code",
   "execution_count": 51,
   "id": "86844537",
   "metadata": {},
   "outputs": [
    {
     "name": "stdout",
     "output_type": "stream",
     "text": [
      "Delta: -0.05045703291507807\n",
      "Theta: -9.450247448190868\n",
      "Gamma: 0.022307162786442278\n",
      "Vega: 0.02419039247131931\n"
     ]
    }
   ],
   "source": [
    "# Greeks (Delta, Theta, Gamma, Vega) for Put option, using Black-Scholes model.\n",
    "S = 147.27       # Current stock price\n",
    "K = 140        # Put Option strike price\n",
    "T = 0.025        # Time until expiration in years\n",
    "r = 0.03       # Risk-free interest rate\n",
    "sigma = 0.2    # Volatility\n",
    "option_type = 'put' # Type of option, can be 'call' or 'put'\n",
    "delta, theta, gamma, vega = black_scholes_greeks(S, K, T, r, sigma, option_type)\n",
    "print(f\"Delta: {delta}\\nTheta: {theta}\\nGamma: {gamma}\\nVega: {vega}\")"
   ]
  },
  {
   "cell_type": "code",
   "execution_count": 52,
   "id": "f8345d9e",
   "metadata": {},
   "outputs": [],
   "source": [
    "# A Fourier transform can be used in pricing European options under certain mathematical models. \n",
    "#The Carr-Madan method is one example that utilizes Fast Fourier Transform (FFT) to compute option prices"
   ]
  },
  {
   "cell_type": "code",
   "execution_count": 53,
   "id": "a498f603",
   "metadata": {},
   "outputs": [
    {
     "name": "stdout",
     "output_type": "stream",
     "text": [
      "The call option price: 1606.1449661677034\n"
     ]
    }
   ],
   "source": [
    "# Call option price calculation based on Carr_Madan formula\n",
    "\n",
    "def carr_madan(S, K, T, r, sigma, alpha, N=1000):\n",
    "    # Characteristic function\n",
    "    def phi(u):\n",
    "        return np.exp(1j * u * (np.log(S) + (r - sigma ** 2 / 2) * T) - sigma ** 2 * u ** 2 * T / 2)\n",
    "\n",
    "    # Carr-Madan integral\n",
    "    delta_u = 0.01  # Step size\n",
    "    integral = 0.0\n",
    "    for u in np.arange(0, N, delta_u):\n",
    "        integral += np.real(np.exp(-1j * u * np.log(K)) * phi(u - (alpha + 1) * 1j))\n",
    "\n",
    "    # Call price\n",
    "    call_price = np.exp(-alpha * np.log(K)) * integral * delta_u / np.pi\n",
    "\n",
    "    return call_price\n",
    "\n",
    "# Parameters\n",
    "S = 147.27\n",
    "K = 150\n",
    "T = 0.025\n",
    "r = 0.03\n",
    "sigma = 0.2\n",
    "alpha = 1.5\n",
    "# Call option price calculation\n",
    "call_price = carr_madan(S, K, T, r, sigma, alpha)\n",
    "print(f\"The call option price: {call_price}\")"
   ]
  },
  {
   "cell_type": "code",
   "execution_count": 54,
   "id": "ab3b40e6",
   "metadata": {},
   "outputs": [
    {
     "name": "stdout",
     "output_type": "stream",
     "text": [
      "The put option price is: 477.04971046193737\n"
     ]
    }
   ],
   "source": [
    "# Put option price calculation based on Carr_Madan formula\n",
    "\n",
    "def carr_madan_put(S, K, T, r, sigma, alpha, N):\n",
    "    # Characteristic function\n",
    "    def phi(u):\n",
    "        return np.exp(1j * u * (np.log(S) + (r - sigma ** 2 / 2) * T) - sigma ** 2 * u ** 2 * T / 2)\n",
    "\n",
    "    # Carr-Madan integral\n",
    "    delta_u = 0.01  # Step size\n",
    "    integral = 0.0\n",
    "    for u in np.arange(0, N, delta_u):\n",
    "        integral += np.real(np.exp(-1j * u * np.log(K)) * phi(u - (alpha + 1) * 1j))\n",
    "\n",
    "    # Call price\n",
    "    call_price = np.exp(-alpha * np.log(K)) * integral * delta_u / np.pi\n",
    "\n",
    "    # Put price using put-call parity\n",
    "    put_price = call_price - S + K * np.exp(-r * T)\n",
    "\n",
    "    return put_price\n",
    "\n",
    "S = 147.27        # Current stock price\n",
    "K = 140     # Put Option strike price\n",
    "T = 0.025        # Time until expiration in years\n",
    "r = 0.03       # Risk-free interest rate\n",
    "sigma = 0.2    # Volatility\n",
    "alpha = 1.5    # Damping factor\n",
    "N = 1000\n",
    "\n",
    "put_price = carr_madan_put(S, K, T, r, sigma, alpha, N)\n",
    "print(f\"The put option price is: {put_price}\")"
   ]
  },
  {
   "cell_type": "code",
   "execution_count": null,
   "id": "6f6e1ad8",
   "metadata": {},
   "outputs": [],
   "source": []
  }
 ],
 "metadata": {
  "kernelspec": {
   "display_name": "Python 3 (ipykernel)",
   "language": "python",
   "name": "python3"
  },
  "language_info": {
   "codemirror_mode": {
    "name": "ipython",
    "version": 3
   },
   "file_extension": ".py",
   "mimetype": "text/x-python",
   "name": "python",
   "nbconvert_exporter": "python",
   "pygments_lexer": "ipython3",
   "version": "3.10.10"
  }
 },
 "nbformat": 4,
 "nbformat_minor": 5
}

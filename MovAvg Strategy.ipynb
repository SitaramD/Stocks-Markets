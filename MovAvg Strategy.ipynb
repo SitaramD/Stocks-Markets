{
 "cells": [
  {
   "cell_type": "code",
   "execution_count": 139,
   "id": "falling-friendly",
   "metadata": {},
   "outputs": [],
   "source": [
    "# Analysing Premarket watch excel file and building a Strategy"
   ]
  },
  {
   "cell_type": "code",
   "execution_count": 140,
   "id": "included-ordinary",
   "metadata": {},
   "outputs": [
    {
     "name": "stdout",
     "output_type": "stream",
     "text": [
      "Requirement already satisfied: numpy in c:\\users\\admin\\anaconda3\\envs\\oanda1\\lib\\site-packages (1.19.2)\n",
      "Requirement already satisfied: pandas in c:\\users\\admin\\anaconda3\\envs\\oanda1\\lib\\site-packages (1.1.5)\n",
      "Requirement already satisfied: numpy>=1.15.4 in c:\\users\\admin\\anaconda3\\envs\\oanda1\\lib\\site-packages (from pandas) (1.19.2)\n",
      "Requirement already satisfied: pytz>=2017.2 in c:\\users\\admin\\anaconda3\\envs\\oanda1\\lib\\site-packages (from pandas) (2021.1)\n",
      "Requirement already satisfied: python-dateutil>=2.7.3 in c:\\users\\admin\\anaconda3\\envs\\oanda1\\lib\\site-packages (from pandas) (2.8.1)\n",
      "Requirement already satisfied: six>=1.5 in c:\\users\\admin\\anaconda3\\envs\\oanda1\\lib\\site-packages (from python-dateutil>=2.7.3->pandas) (1.15.0)\n",
      "Requirement already satisfied: datetime in c:\\users\\admin\\anaconda3\\envs\\oanda1\\lib\\site-packages (4.3)\n",
      "Requirement already satisfied: pytz in c:\\users\\admin\\anaconda3\\envs\\oanda1\\lib\\site-packages (from datetime) (2021.1)\n",
      "Requirement already satisfied: zope.interface in c:\\users\\admin\\anaconda3\\envs\\oanda1\\lib\\site-packages (from datetime) (5.3.0)\n",
      "Requirement already satisfied: setuptools in c:\\users\\admin\\anaconda3\\envs\\oanda1\\lib\\site-packages (from zope.interface->datetime) (52.0.0.post20210125)\n"
     ]
    },
    {
     "name": "stderr",
     "output_type": "stream",
     "text": [
      "ERROR: Could not find a version that satisfies the requirement matplotlib.pyplot\n",
      "ERROR: No matching distribution found for matplotlib.pyplot\n"
     ]
    },
    {
     "name": "stdout",
     "output_type": "stream",
     "text": [
      "Requirement already satisfied: mplfinance in c:\\users\\admin\\anaconda3\\envs\\oanda1\\lib\\site-packages (0.12.7a17)\n",
      "Requirement already satisfied: as in c:\\users\\admin\\anaconda3\\envs\\oanda1\\lib\\site-packages (0.1)\n",
      "Requirement already satisfied: mpf in c:\\users\\admin\\anaconda3\\envs\\oanda1\\lib\\site-packages (0.54.6)\n",
      "Requirement already satisfied: grpcio-tools==1.31.0 in c:\\users\\admin\\anaconda3\\envs\\oanda1\\lib\\site-packages (from mpf) (1.31.0)\n",
      "Requirement already satisfied: pypiwin32==223 in c:\\users\\admin\\anaconda3\\envs\\oanda1\\lib\\site-packages (from mpf) (223)\n",
      "Requirement already satisfied: asciimatics==1.11.0 in c:\\users\\admin\\anaconda3\\envs\\oanda1\\lib\\site-packages (from mpf) (1.11.0)\n",
      "Requirement already satisfied: sortedcontainers==2.1.0 in c:\\users\\admin\\anaconda3\\envs\\oanda1\\lib\\site-packages (from mpf) (2.1.0)\n",
      "Requirement already satisfied: prompt-toolkit in c:\\users\\admin\\anaconda3\\envs\\oanda1\\lib\\site-packages (from mpf) (3.0.17)\n",
      "Requirement already satisfied: ruamel.yaml==0.15.100 in c:\\users\\admin\\anaconda3\\envs\\oanda1\\lib\\site-packages (from mpf) (0.15.100)\n",
      "Requirement already satisfied: psutil==5.7.0 in c:\\users\\admin\\anaconda3\\envs\\oanda1\\lib\\site-packages (from mpf) (5.7.0)\n",
      "Requirement already satisfied: terminaltables==3.1.0 in c:\\users\\admin\\anaconda3\\envs\\oanda1\\lib\\site-packages (from mpf) (3.1.0)\n",
      "Requirement already satisfied: pyserial-asyncio==0.4 in c:\\users\\admin\\anaconda3\\envs\\oanda1\\lib\\site-packages (from mpf) (0.4)\n",
      "Requirement already satisfied: grpcio==1.31.0 in c:\\users\\admin\\anaconda3\\envs\\oanda1\\lib\\site-packages (from mpf) (1.31.0)\n",
      "Requirement already satisfied: pyserial==3.4 in c:\\users\\admin\\anaconda3\\envs\\oanda1\\lib\\site-packages (from mpf) (3.4)\n",
      "Requirement already satisfied: protobuf==3.13.0 in c:\\users\\admin\\anaconda3\\envs\\oanda1\\lib\\site-packages (from mpf) (3.13.0)\n",
      "Requirement already satisfied: future in c:\\users\\admin\\anaconda3\\envs\\oanda1\\lib\\site-packages (from asciimatics==1.11.0->mpf) (0.18.2)\n",
      "Requirement already satisfied: Pillow>=2.7.0 in c:\\users\\admin\\anaconda3\\envs\\oanda1\\lib\\site-packages (from asciimatics==1.11.0->mpf) (8.2.0)\n",
      "Requirement already satisfied: wcwidth in c:\\users\\admin\\anaconda3\\envs\\oanda1\\lib\\site-packages (from asciimatics==1.11.0->mpf) (0.2.5)\n",
      "Requirement already satisfied: pyfiglet>=0.7.2 in c:\\users\\admin\\anaconda3\\envs\\oanda1\\lib\\site-packages (from asciimatics==1.11.0->mpf) (0.8.post1)\n",
      "Requirement already satisfied: six>=1.5.2 in c:\\users\\admin\\anaconda3\\envs\\oanda1\\lib\\site-packages (from grpcio==1.31.0->mpf) (1.15.0)\n",
      "Requirement already satisfied: setuptools in c:\\users\\admin\\anaconda3\\envs\\oanda1\\lib\\site-packages (from protobuf==3.13.0->mpf) (52.0.0.post20210125)\n",
      "Requirement already satisfied: pywin32>=223 in c:\\users\\admin\\anaconda3\\envs\\oanda1\\lib\\site-packages (from pypiwin32==223->mpf) (227)\n",
      "Requirement already satisfied: pandas in c:\\users\\admin\\anaconda3\\envs\\oanda1\\lib\\site-packages (from mplfinance) (1.1.5)\n",
      "Requirement already satisfied: matplotlib in c:\\users\\admin\\anaconda3\\envs\\oanda1\\lib\\site-packages (from mplfinance) (3.3.4)\n",
      "Requirement already satisfied: kiwisolver>=1.0.1 in c:\\users\\admin\\anaconda3\\envs\\oanda1\\lib\\site-packages (from matplotlib->mplfinance) (1.3.1)\n",
      "Requirement already satisfied: pyparsing!=2.0.4,!=2.1.2,!=2.1.6,>=2.0.3 in c:\\users\\admin\\anaconda3\\envs\\oanda1\\lib\\site-packages (from matplotlib->mplfinance) (2.4.7)\n",
      "Requirement already satisfied: python-dateutil>=2.1 in c:\\users\\admin\\anaconda3\\envs\\oanda1\\lib\\site-packages (from matplotlib->mplfinance) (2.8.1)\n",
      "Requirement already satisfied: cycler>=0.10 in c:\\users\\admin\\anaconda3\\envs\\oanda1\\lib\\site-packages (from matplotlib->mplfinance) (0.10.0)\n",
      "Requirement already satisfied: numpy>=1.15 in c:\\users\\admin\\anaconda3\\envs\\oanda1\\lib\\site-packages (from matplotlib->mplfinance) (1.19.2)\n",
      "Requirement already satisfied: pytz>=2017.2 in c:\\users\\admin\\anaconda3\\envs\\oanda1\\lib\\site-packages (from pandas->mplfinance) (2021.1)\n",
      "Requirement already satisfied: seaborn in c:\\users\\admin\\anaconda3\\envs\\oanda1\\lib\\site-packages (0.11.1)\n",
      "Requirement already satisfied: as in c:\\users\\admin\\anaconda3\\envs\\oanda1\\lib\\site-packages (0.1)\n",
      "Requirement already satisfied: sns in c:\\users\\admin\\anaconda3\\envs\\oanda1\\lib\\site-packages (0.1)\n",
      "Requirement already satisfied: scipy>=1.0 in c:\\users\\admin\\anaconda3\\envs\\oanda1\\lib\\site-packages (from seaborn) (1.5.2)\n",
      "Requirement already satisfied: matplotlib>=2.2 in c:\\users\\admin\\anaconda3\\envs\\oanda1\\lib\\site-packages (from seaborn) (3.3.4)\n",
      "Requirement already satisfied: numpy>=1.15 in c:\\users\\admin\\anaconda3\\envs\\oanda1\\lib\\site-packages (from seaborn) (1.19.2)\n",
      "Requirement already satisfied: pandas>=0.23 in c:\\users\\admin\\anaconda3\\envs\\oanda1\\lib\\site-packages (from seaborn) (1.1.5)\n",
      "Requirement already satisfied: pyparsing!=2.0.4,!=2.1.2,!=2.1.6,>=2.0.3 in c:\\users\\admin\\anaconda3\\envs\\oanda1\\lib\\site-packages (from matplotlib>=2.2->seaborn) (2.4.7)\n",
      "Requirement already satisfied: kiwisolver>=1.0.1 in c:\\users\\admin\\anaconda3\\envs\\oanda1\\lib\\site-packages (from matplotlib>=2.2->seaborn) (1.3.1)\n",
      "Requirement already satisfied: pillow>=6.2.0 in c:\\users\\admin\\anaconda3\\envs\\oanda1\\lib\\site-packages (from matplotlib>=2.2->seaborn) (8.2.0)\n",
      "Requirement already satisfied: cycler>=0.10 in c:\\users\\admin\\anaconda3\\envs\\oanda1\\lib\\site-packages (from matplotlib>=2.2->seaborn) (0.10.0)\n",
      "Requirement already satisfied: python-dateutil>=2.1 in c:\\users\\admin\\anaconda3\\envs\\oanda1\\lib\\site-packages (from matplotlib>=2.2->seaborn) (2.8.1)\n",
      "Requirement already satisfied: six in c:\\users\\admin\\anaconda3\\envs\\oanda1\\lib\\site-packages (from cycler>=0.10->matplotlib>=2.2->seaborn) (1.15.0)\n",
      "Requirement already satisfied: pytz>=2017.2 in c:\\users\\admin\\anaconda3\\envs\\oanda1\\lib\\site-packages (from pandas>=0.23->seaborn) (2021.1)\n"
     ]
    },
    {
     "name": "stderr",
     "output_type": "stream",
     "text": [
      "ERROR: Could not find a version that satisfies the requirement talib\n",
      "ERROR: No matching distribution found for talib\n",
      "ERROR: Could not find a version that satisfies the requirement math\n",
      "ERROR: No matching distribution found for math\n"
     ]
    }
   ],
   "source": [
    "!pip install numpy \n",
    "!pip install pandas\n",
    "!pip install datetime\n",
    "!pip install matplotlib.pyplot as plt\n",
    "!pip install mplfinance as mpf\n",
    "!pip install seaborn as sns\n",
    "!pip install talib as ta\n",
    "!pip install math"
   ]
  },
  {
   "cell_type": "code",
   "execution_count": 141,
   "id": "decent-april",
   "metadata": {},
   "outputs": [],
   "source": [
    "# import libraries\n",
    "import numpy as np\n",
    "import pandas as pd\n",
    "import datetime\n",
    "import matplotlib.pyplot as plt\n",
    "import mplfinance as mpf\n",
    "import seaborn as sns\n",
    "import talib as ta"
   ]
  },
  {
   "cell_type": "code",
   "execution_count": 142,
   "id": "copyrighted-statistics",
   "metadata": {},
   "outputs": [
    {
     "data": {
      "text/html": [
       "<div>\n",
       "<style scoped>\n",
       "    .dataframe tbody tr th:only-of-type {\n",
       "        vertical-align: middle;\n",
       "    }\n",
       "\n",
       "    .dataframe tbody tr th {\n",
       "        vertical-align: top;\n",
       "    }\n",
       "\n",
       "    .dataframe thead th {\n",
       "        text-align: right;\n",
       "    }\n",
       "</style>\n",
       "<table border=\"1\" class=\"dataframe\">\n",
       "  <thead>\n",
       "    <tr style=\"text-align: right;\">\n",
       "      <th></th>\n",
       "      <th>Company Name</th>\n",
       "      <th>Industry</th>\n",
       "      <th>Symbol</th>\n",
       "      <th>Series</th>\n",
       "      <th>ISIN Code</th>\n",
       "    </tr>\n",
       "  </thead>\n",
       "  <tbody>\n",
       "    <tr>\n",
       "      <th>0</th>\n",
       "      <td>3M India Ltd.</td>\n",
       "      <td>CONSUMER GOODS</td>\n",
       "      <td>3MINDIA</td>\n",
       "      <td>EQ</td>\n",
       "      <td>INE470A01017</td>\n",
       "    </tr>\n",
       "    <tr>\n",
       "      <th>1</th>\n",
       "      <td>ABB India Ltd.</td>\n",
       "      <td>INDUSTRIAL MANUFACTURING</td>\n",
       "      <td>ABB</td>\n",
       "      <td>EQ</td>\n",
       "      <td>INE117A01022</td>\n",
       "    </tr>\n",
       "    <tr>\n",
       "      <th>2</th>\n",
       "      <td>ABB Power Products and Systems India Ltd.</td>\n",
       "      <td>INDUSTRIAL MANUFACTURING</td>\n",
       "      <td>POWERINDIA</td>\n",
       "      <td>EQ</td>\n",
       "      <td>INE07Y701011</td>\n",
       "    </tr>\n",
       "    <tr>\n",
       "      <th>3</th>\n",
       "      <td>ACC Ltd.</td>\n",
       "      <td>CEMENT &amp; CEMENT PRODUCTS</td>\n",
       "      <td>ACC</td>\n",
       "      <td>EQ</td>\n",
       "      <td>INE012A01025</td>\n",
       "    </tr>\n",
       "    <tr>\n",
       "      <th>4</th>\n",
       "      <td>AIA Engineering Ltd.</td>\n",
       "      <td>INDUSTRIAL MANUFACTURING</td>\n",
       "      <td>AIAENG</td>\n",
       "      <td>EQ</td>\n",
       "      <td>INE212H01026</td>\n",
       "    </tr>\n",
       "    <tr>\n",
       "      <th>...</th>\n",
       "      <td>...</td>\n",
       "      <td>...</td>\n",
       "      <td>...</td>\n",
       "      <td>...</td>\n",
       "      <td>...</td>\n",
       "    </tr>\n",
       "    <tr>\n",
       "      <th>496</th>\n",
       "      <td>Yes Bank Ltd.</td>\n",
       "      <td>FINANCIAL SERVICES</td>\n",
       "      <td>YESBANK</td>\n",
       "      <td>EQ</td>\n",
       "      <td>INE528G01035</td>\n",
       "    </tr>\n",
       "    <tr>\n",
       "      <th>497</th>\n",
       "      <td>Zee Entertainment Enterprises Ltd.</td>\n",
       "      <td>MEDIA ENTERTAINMENT &amp; PUBLICATION</td>\n",
       "      <td>ZEEL</td>\n",
       "      <td>EQ</td>\n",
       "      <td>INE256A01028</td>\n",
       "    </tr>\n",
       "    <tr>\n",
       "      <th>498</th>\n",
       "      <td>Zensar Technolgies Ltd.</td>\n",
       "      <td>IT</td>\n",
       "      <td>ZENSARTECH</td>\n",
       "      <td>EQ</td>\n",
       "      <td>INE520A01027</td>\n",
       "    </tr>\n",
       "    <tr>\n",
       "      <th>499</th>\n",
       "      <td>Zydus Wellness Ltd.</td>\n",
       "      <td>CONSUMER GOODS</td>\n",
       "      <td>ZYDUSWELL</td>\n",
       "      <td>EQ</td>\n",
       "      <td>INE768C01010</td>\n",
       "    </tr>\n",
       "    <tr>\n",
       "      <th>500</th>\n",
       "      <td>eClerx Services Ltd.</td>\n",
       "      <td>IT</td>\n",
       "      <td>ECLERX</td>\n",
       "      <td>EQ</td>\n",
       "      <td>INE738I01010</td>\n",
       "    </tr>\n",
       "  </tbody>\n",
       "</table>\n",
       "<p>501 rows × 5 columns</p>\n",
       "</div>"
      ],
      "text/plain": [
       "                                  Company Name  \\\n",
       "0                                3M India Ltd.   \n",
       "1                               ABB India Ltd.   \n",
       "2    ABB Power Products and Systems India Ltd.   \n",
       "3                                     ACC Ltd.   \n",
       "4                         AIA Engineering Ltd.   \n",
       "..                                         ...   \n",
       "496                              Yes Bank Ltd.   \n",
       "497         Zee Entertainment Enterprises Ltd.   \n",
       "498                    Zensar Technolgies Ltd.   \n",
       "499                        Zydus Wellness Ltd.   \n",
       "500                       eClerx Services Ltd.   \n",
       "\n",
       "                              Industry      Symbol Series     ISIN Code  \n",
       "0                       CONSUMER GOODS     3MINDIA     EQ  INE470A01017  \n",
       "1             INDUSTRIAL MANUFACTURING         ABB     EQ  INE117A01022  \n",
       "2             INDUSTRIAL MANUFACTURING  POWERINDIA     EQ  INE07Y701011  \n",
       "3             CEMENT & CEMENT PRODUCTS         ACC     EQ  INE012A01025  \n",
       "4             INDUSTRIAL MANUFACTURING      AIAENG     EQ  INE212H01026  \n",
       "..                                 ...         ...    ...           ...  \n",
       "496                 FINANCIAL SERVICES     YESBANK     EQ  INE528G01035  \n",
       "497  MEDIA ENTERTAINMENT & PUBLICATION        ZEEL     EQ  INE256A01028  \n",
       "498                                 IT  ZENSARTECH     EQ  INE520A01027  \n",
       "499                     CONSUMER GOODS   ZYDUSWELL     EQ  INE768C01010  \n",
       "500                                 IT      ECLERX     EQ  INE738I01010  \n",
       "\n",
       "[501 rows x 5 columns]"
      ]
     },
     "execution_count": 142,
     "metadata": {},
     "output_type": "execute_result"
    }
   ],
   "source": [
    "df1=pd.read_csv('D:\\\\Python\\\\Abishek Bhanushali\\\\Nifty500 list\\\\ind_nifty500list.csv')\n",
    "df1"
   ]
  },
  {
   "cell_type": "code",
   "execution_count": 143,
   "id": "2ce1fda8",
   "metadata": {},
   "outputs": [
    {
     "data": {
      "text/plain": [
       "Company Name    501\n",
       "Industry        501\n",
       "Symbol          501\n",
       "Series          501\n",
       "ISIN Code       501\n",
       "dtype: int64"
      ]
     },
     "execution_count": 143,
     "metadata": {},
     "output_type": "execute_result"
    }
   ],
   "source": [
    "df1.count()"
   ]
  },
  {
   "cell_type": "code",
   "execution_count": 144,
   "id": "4b1674b1",
   "metadata": {},
   "outputs": [
    {
     "name": "stdout",
     "output_type": "stream",
     "text": [
      "Requirement already satisfied: yfinance in c:\\users\\admin\\anaconda3\\envs\\oanda1\\lib\\site-packages (0.1.59)\n",
      "Requirement already satisfied: numpy>=1.15 in c:\\users\\admin\\anaconda3\\envs\\oanda1\\lib\\site-packages (from yfinance) (1.19.2)\n",
      "Requirement already satisfied: requests>=2.20 in c:\\users\\admin\\anaconda3\\envs\\oanda1\\lib\\site-packages (from yfinance) (2.25.1)\n",
      "Requirement already satisfied: pandas>=0.24 in c:\\users\\admin\\anaconda3\\envs\\oanda1\\lib\\site-packages (from yfinance) (1.1.5)\n",
      "Requirement already satisfied: multitasking>=0.0.7 in c:\\users\\admin\\anaconda3\\envs\\oanda1\\lib\\site-packages (from yfinance) (0.0.9)\n",
      "Requirement already satisfied: lxml>=4.5.1 in c:\\users\\admin\\anaconda3\\envs\\oanda1\\lib\\site-packages (from yfinance) (4.6.3)\n",
      "Requirement already satisfied: pytz>=2017.2 in c:\\users\\admin\\anaconda3\\envs\\oanda1\\lib\\site-packages (from pandas>=0.24->yfinance) (2021.1)\n",
      "Requirement already satisfied: python-dateutil>=2.7.3 in c:\\users\\admin\\anaconda3\\envs\\oanda1\\lib\\site-packages (from pandas>=0.24->yfinance) (2.8.1)\n",
      "Requirement already satisfied: six>=1.5 in c:\\users\\admin\\anaconda3\\envs\\oanda1\\lib\\site-packages (from python-dateutil>=2.7.3->pandas>=0.24->yfinance) (1.15.0)\n",
      "Requirement already satisfied: urllib3<1.27,>=1.21.1 in c:\\users\\admin\\anaconda3\\envs\\oanda1\\lib\\site-packages (from requests>=2.20->yfinance) (1.26.4)\n",
      "Requirement already satisfied: idna<3,>=2.5 in c:\\users\\admin\\anaconda3\\envs\\oanda1\\lib\\site-packages (from requests>=2.20->yfinance) (2.10)\n",
      "Requirement already satisfied: chardet<5,>=3.0.2 in c:\\users\\admin\\anaconda3\\envs\\oanda1\\lib\\site-packages (from requests>=2.20->yfinance) (4.0.0)\n",
      "Requirement already satisfied: certifi>=2017.4.17 in c:\\users\\admin\\anaconda3\\envs\\oanda1\\lib\\site-packages (from requests>=2.20->yfinance) (2020.12.5)\n"
     ]
    }
   ],
   "source": [
    "!pip install yfinance"
   ]
  },
  {
   "cell_type": "code",
   "execution_count": 145,
   "id": "another-subscription",
   "metadata": {},
   "outputs": [],
   "source": [
    "import yfinance as yf"
   ]
  },
  {
   "cell_type": "code",
   "execution_count": 146,
   "id": "contained-assumption",
   "metadata": {},
   "outputs": [
    {
     "name": "stdout",
     "output_type": "stream",
     "text": [
      "[*********************100%***********************]  1 of 1 completed\n"
     ]
    }
   ],
   "source": [
    "# Downloading 3M India company from Yahoo Finance\n",
    "df= yf.download(\"3MINDIA.NS\", period =\"7d\", interval=\"1m\")"
   ]
  },
  {
   "cell_type": "code",
   "execution_count": 147,
   "id": "plastic-industry",
   "metadata": {
    "scrolled": true
   },
   "outputs": [
    {
     "data": {
      "text/html": [
       "<div>\n",
       "<style scoped>\n",
       "    .dataframe tbody tr th:only-of-type {\n",
       "        vertical-align: middle;\n",
       "    }\n",
       "\n",
       "    .dataframe tbody tr th {\n",
       "        vertical-align: top;\n",
       "    }\n",
       "\n",
       "    .dataframe thead th {\n",
       "        text-align: right;\n",
       "    }\n",
       "</style>\n",
       "<table border=\"1\" class=\"dataframe\">\n",
       "  <thead>\n",
       "    <tr style=\"text-align: right;\">\n",
       "      <th></th>\n",
       "      <th>Open</th>\n",
       "      <th>High</th>\n",
       "      <th>Low</th>\n",
       "      <th>Close</th>\n",
       "      <th>Adj Close</th>\n",
       "      <th>Volume</th>\n",
       "    </tr>\n",
       "    <tr>\n",
       "      <th>Datetime</th>\n",
       "      <th></th>\n",
       "      <th></th>\n",
       "      <th></th>\n",
       "      <th></th>\n",
       "      <th></th>\n",
       "      <th></th>\n",
       "    </tr>\n",
       "  </thead>\n",
       "  <tbody>\n",
       "    <tr>\n",
       "      <th>2021-05-20 09:15:00+05:30</th>\n",
       "      <td>26000.000000</td>\n",
       "      <td>26197.849609</td>\n",
       "      <td>26000.000000</td>\n",
       "      <td>26065.050781</td>\n",
       "      <td>26065.050781</td>\n",
       "      <td>0</td>\n",
       "    </tr>\n",
       "    <tr>\n",
       "      <th>2021-05-20 09:16:00+05:30</th>\n",
       "      <td>26000.000000</td>\n",
       "      <td>26108.599609</td>\n",
       "      <td>26000.000000</td>\n",
       "      <td>26000.150391</td>\n",
       "      <td>26000.150391</td>\n",
       "      <td>7</td>\n",
       "    </tr>\n",
       "    <tr>\n",
       "      <th>2021-05-20 09:17:00+05:30</th>\n",
       "      <td>26040.500000</td>\n",
       "      <td>26100.000000</td>\n",
       "      <td>26040.500000</td>\n",
       "      <td>26100.000000</td>\n",
       "      <td>26100.000000</td>\n",
       "      <td>23</td>\n",
       "    </tr>\n",
       "    <tr>\n",
       "      <th>2021-05-20 09:18:00+05:30</th>\n",
       "      <td>26100.000000</td>\n",
       "      <td>26142.699219</td>\n",
       "      <td>26100.000000</td>\n",
       "      <td>26142.699219</td>\n",
       "      <td>26142.699219</td>\n",
       "      <td>9</td>\n",
       "    </tr>\n",
       "    <tr>\n",
       "      <th>2021-05-20 09:19:00+05:30</th>\n",
       "      <td>26142.750000</td>\n",
       "      <td>26142.750000</td>\n",
       "      <td>26100.000000</td>\n",
       "      <td>26100.000000</td>\n",
       "      <td>26100.000000</td>\n",
       "      <td>22</td>\n",
       "    </tr>\n",
       "    <tr>\n",
       "      <th>...</th>\n",
       "      <td>...</td>\n",
       "      <td>...</td>\n",
       "      <td>...</td>\n",
       "      <td>...</td>\n",
       "      <td>...</td>\n",
       "      <td>...</td>\n",
       "    </tr>\n",
       "    <tr>\n",
       "      <th>2021-05-28 15:26:00+05:30</th>\n",
       "      <td>25150.150391</td>\n",
       "      <td>25298.000000</td>\n",
       "      <td>25150.150391</td>\n",
       "      <td>25252.000000</td>\n",
       "      <td>25252.000000</td>\n",
       "      <td>162</td>\n",
       "    </tr>\n",
       "    <tr>\n",
       "      <th>2021-05-28 15:27:00+05:30</th>\n",
       "      <td>25245.000000</td>\n",
       "      <td>25250.000000</td>\n",
       "      <td>25200.050781</td>\n",
       "      <td>25250.000000</td>\n",
       "      <td>25250.000000</td>\n",
       "      <td>135</td>\n",
       "    </tr>\n",
       "    <tr>\n",
       "      <th>2021-05-28 15:28:00+05:30</th>\n",
       "      <td>25273.949219</td>\n",
       "      <td>25274.000000</td>\n",
       "      <td>25250.000000</td>\n",
       "      <td>25250.000000</td>\n",
       "      <td>25250.000000</td>\n",
       "      <td>99</td>\n",
       "    </tr>\n",
       "    <tr>\n",
       "      <th>2021-05-28 15:29:00+05:30</th>\n",
       "      <td>25250.000000</td>\n",
       "      <td>25298.650391</td>\n",
       "      <td>25231.150391</td>\n",
       "      <td>25290.000000</td>\n",
       "      <td>25290.000000</td>\n",
       "      <td>143</td>\n",
       "    </tr>\n",
       "    <tr>\n",
       "      <th>2021-05-28 15:30:00+05:30</th>\n",
       "      <td>25313.349609</td>\n",
       "      <td>25313.349609</td>\n",
       "      <td>25313.349609</td>\n",
       "      <td>25313.349609</td>\n",
       "      <td>25313.349609</td>\n",
       "      <td>0</td>\n",
       "    </tr>\n",
       "  </tbody>\n",
       "</table>\n",
       "<p>1845 rows × 6 columns</p>\n",
       "</div>"
      ],
      "text/plain": [
       "                                   Open          High           Low  \\\n",
       "Datetime                                                              \n",
       "2021-05-20 09:15:00+05:30  26000.000000  26197.849609  26000.000000   \n",
       "2021-05-20 09:16:00+05:30  26000.000000  26108.599609  26000.000000   \n",
       "2021-05-20 09:17:00+05:30  26040.500000  26100.000000  26040.500000   \n",
       "2021-05-20 09:18:00+05:30  26100.000000  26142.699219  26100.000000   \n",
       "2021-05-20 09:19:00+05:30  26142.750000  26142.750000  26100.000000   \n",
       "...                                 ...           ...           ...   \n",
       "2021-05-28 15:26:00+05:30  25150.150391  25298.000000  25150.150391   \n",
       "2021-05-28 15:27:00+05:30  25245.000000  25250.000000  25200.050781   \n",
       "2021-05-28 15:28:00+05:30  25273.949219  25274.000000  25250.000000   \n",
       "2021-05-28 15:29:00+05:30  25250.000000  25298.650391  25231.150391   \n",
       "2021-05-28 15:30:00+05:30  25313.349609  25313.349609  25313.349609   \n",
       "\n",
       "                                  Close     Adj Close  Volume  \n",
       "Datetime                                                       \n",
       "2021-05-20 09:15:00+05:30  26065.050781  26065.050781       0  \n",
       "2021-05-20 09:16:00+05:30  26000.150391  26000.150391       7  \n",
       "2021-05-20 09:17:00+05:30  26100.000000  26100.000000      23  \n",
       "2021-05-20 09:18:00+05:30  26142.699219  26142.699219       9  \n",
       "2021-05-20 09:19:00+05:30  26100.000000  26100.000000      22  \n",
       "...                                 ...           ...     ...  \n",
       "2021-05-28 15:26:00+05:30  25252.000000  25252.000000     162  \n",
       "2021-05-28 15:27:00+05:30  25250.000000  25250.000000     135  \n",
       "2021-05-28 15:28:00+05:30  25250.000000  25250.000000      99  \n",
       "2021-05-28 15:29:00+05:30  25290.000000  25290.000000     143  \n",
       "2021-05-28 15:30:00+05:30  25313.349609  25313.349609       0  \n",
       "\n",
       "[1845 rows x 6 columns]"
      ]
     },
     "execution_count": 147,
     "metadata": {},
     "output_type": "execute_result"
    }
   ],
   "source": [
    "df"
   ]
  },
  {
   "cell_type": "code",
   "execution_count": 148,
   "id": "southeast-hepatitis",
   "metadata": {},
   "outputs": [
    {
     "data": {
      "text/html": [
       "<div>\n",
       "<style scoped>\n",
       "    .dataframe tbody tr th:only-of-type {\n",
       "        vertical-align: middle;\n",
       "    }\n",
       "\n",
       "    .dataframe tbody tr th {\n",
       "        vertical-align: top;\n",
       "    }\n",
       "\n",
       "    .dataframe thead th {\n",
       "        text-align: right;\n",
       "    }\n",
       "</style>\n",
       "<table border=\"1\" class=\"dataframe\">\n",
       "  <thead>\n",
       "    <tr style=\"text-align: right;\">\n",
       "      <th></th>\n",
       "      <th>Open</th>\n",
       "      <th>High</th>\n",
       "      <th>Low</th>\n",
       "      <th>Close</th>\n",
       "      <th>Adj Close</th>\n",
       "      <th>Volume</th>\n",
       "    </tr>\n",
       "  </thead>\n",
       "  <tbody>\n",
       "    <tr>\n",
       "      <th>count</th>\n",
       "      <td>1845.000000</td>\n",
       "      <td>1845.000000</td>\n",
       "      <td>1845.000000</td>\n",
       "      <td>1845.000000</td>\n",
       "      <td>1845.000000</td>\n",
       "      <td>1845.000000</td>\n",
       "    </tr>\n",
       "    <tr>\n",
       "      <th>mean</th>\n",
       "      <td>26198.553464</td>\n",
       "      <td>26209.017615</td>\n",
       "      <td>26186.767906</td>\n",
       "      <td>26197.333278</td>\n",
       "      <td>26197.333278</td>\n",
       "      <td>21.138753</td>\n",
       "    </tr>\n",
       "    <tr>\n",
       "      <th>std</th>\n",
       "      <td>355.343442</td>\n",
       "      <td>356.361181</td>\n",
       "      <td>354.671491</td>\n",
       "      <td>355.070671</td>\n",
       "      <td>355.070671</td>\n",
       "      <td>78.794588</td>\n",
       "    </tr>\n",
       "    <tr>\n",
       "      <th>min</th>\n",
       "      <td>24999.949219</td>\n",
       "      <td>25000.000000</td>\n",
       "      <td>24970.349609</td>\n",
       "      <td>24999.949219</td>\n",
       "      <td>24999.949219</td>\n",
       "      <td>0.000000</td>\n",
       "    </tr>\n",
       "    <tr>\n",
       "      <th>25%</th>\n",
       "      <td>25900.050781</td>\n",
       "      <td>25931.550781</td>\n",
       "      <td>25892.000000</td>\n",
       "      <td>25906.050781</td>\n",
       "      <td>25906.050781</td>\n",
       "      <td>2.000000</td>\n",
       "    </tr>\n",
       "    <tr>\n",
       "      <th>50%</th>\n",
       "      <td>26236.000000</td>\n",
       "      <td>26244.949219</td>\n",
       "      <td>26224.000000</td>\n",
       "      <td>26230.000000</td>\n",
       "      <td>26230.000000</td>\n",
       "      <td>4.000000</td>\n",
       "    </tr>\n",
       "    <tr>\n",
       "      <th>75%</th>\n",
       "      <td>26397.000000</td>\n",
       "      <td>26400.000000</td>\n",
       "      <td>26383.949219</td>\n",
       "      <td>26394.400391</td>\n",
       "      <td>26394.400391</td>\n",
       "      <td>13.000000</td>\n",
       "    </tr>\n",
       "    <tr>\n",
       "      <th>max</th>\n",
       "      <td>27105.000000</td>\n",
       "      <td>27189.949219</td>\n",
       "      <td>26988.449219</td>\n",
       "      <td>27100.000000</td>\n",
       "      <td>27100.000000</td>\n",
       "      <td>1610.000000</td>\n",
       "    </tr>\n",
       "  </tbody>\n",
       "</table>\n",
       "</div>"
      ],
      "text/plain": [
       "               Open          High           Low         Close     Adj Close  \\\n",
       "count   1845.000000   1845.000000   1845.000000   1845.000000   1845.000000   \n",
       "mean   26198.553464  26209.017615  26186.767906  26197.333278  26197.333278   \n",
       "std      355.343442    356.361181    354.671491    355.070671    355.070671   \n",
       "min    24999.949219  25000.000000  24970.349609  24999.949219  24999.949219   \n",
       "25%    25900.050781  25931.550781  25892.000000  25906.050781  25906.050781   \n",
       "50%    26236.000000  26244.949219  26224.000000  26230.000000  26230.000000   \n",
       "75%    26397.000000  26400.000000  26383.949219  26394.400391  26394.400391   \n",
       "max    27105.000000  27189.949219  26988.449219  27100.000000  27100.000000   \n",
       "\n",
       "            Volume  \n",
       "count  1845.000000  \n",
       "mean     21.138753  \n",
       "std      78.794588  \n",
       "min       0.000000  \n",
       "25%       2.000000  \n",
       "50%       4.000000  \n",
       "75%      13.000000  \n",
       "max    1610.000000  "
      ]
     },
     "execution_count": 148,
     "metadata": {},
     "output_type": "execute_result"
    }
   ],
   "source": [
    "df.describe()"
   ]
  },
  {
   "cell_type": "code",
   "execution_count": 149,
   "id": "liberal-prayer",
   "metadata": {},
   "outputs": [
    {
     "data": {
      "text/plain": [
       "Open         -0.150045\n",
       "High         -0.110270\n",
       "Low          -0.204760\n",
       "Close        -0.157248\n",
       "Adj Close    -0.157248\n",
       "Volume       11.922212\n",
       "dtype: float64"
      ]
     },
     "execution_count": 149,
     "metadata": {},
     "output_type": "execute_result"
    }
   ],
   "source": [
    "df.skew()"
   ]
  },
  {
   "cell_type": "code",
   "execution_count": 150,
   "id": "found-placement",
   "metadata": {},
   "outputs": [
    {
     "data": {
      "text/plain": [
       "Open          -0.174270\n",
       "High          -0.177775\n",
       "Low           -0.117822\n",
       "Close         -0.153723\n",
       "Adj Close     -0.153723\n",
       "Volume       188.526273\n",
       "dtype: float64"
      ]
     },
     "execution_count": 150,
     "metadata": {},
     "output_type": "execute_result"
    }
   ],
   "source": [
    "df.kurtosis()"
   ]
  },
  {
   "cell_type": "code",
   "execution_count": 151,
   "id": "celtic-growing",
   "metadata": {},
   "outputs": [
    {
     "data": {
      "image/png": "[encoded data removed]",
      "text/plain": [
       "<Figure size 800x575 with 2 Axes>"
      ]
     },
     "metadata": {},
     "output_type": "display_data"
    }
   ],
   "source": [
    "mpf.plot(df,type='renko')"
   ]
  },
  {
   "cell_type": "code",
   "execution_count": 152,
   "id": "spare-ontario",
   "metadata": {},
   "outputs": [
    {
     "data": {
      "image/png": "[encoded data removed]",
      "text/plain": [
       "<Figure size 800x575 with 2 Axes>"
      ]
     },
     "metadata": {},
     "output_type": "display_data"
    }
   ],
   "source": [
    "mpf.plot(df,type='line') "
   ]
  },
  {
   "cell_type": "code",
   "execution_count": 153,
   "id": "amateur-living",
   "metadata": {},
   "outputs": [
    {
     "name": "stderr",
     "output_type": "stream",
     "text": [
      "C:\\Users\\Admin\\anaconda3\\envs\\Oanda1\\lib\\site-packages\\mplfinance\\_arg_validators.py:45: UserWarning: \n",
      "\n",
      " ================================================================= \n",
      "\n",
      "   WARNING: YOU ARE PLOTTING SO MUCH DATA THAT IT MAY NOT BE\n",
      "            POSSIBLE TO SEE DETAILS (Candles, Ohlc-Bars, Etc.)\n",
      "   For more information see:\n",
      "   - https://github.com/matplotlib/mplfinance/wiki/Plotting-Too-Much-Data\n",
      "   \n",
      "   TO SILENCE THIS WARNING, set `type='line'` in `mpf.plot()`\n",
      "   OR set kwarg `warn_too_much_data=N` where N is an integer \n",
      "   LARGER than the number of data points you want to plot.\n",
      "\n",
      " ================================================================ \n",
      "  category=UserWarning)\n"
     ]
    },
    {
     "data": {
      "image/png": "[encoded data removed]",
      "text/plain": [
       "<Figure size 800x575 with 2 Axes>"
      ]
     },
     "metadata": {},
     "output_type": "display_data"
    }
   ],
   "source": [
    "mpf.plot(df,type='candle',mav=(3,8))"
   ]
  },
  {
   "cell_type": "code",
   "execution_count": 154,
   "id": "comprehensive-interview",
   "metadata": {},
   "outputs": [
    {
     "name": "stderr",
     "output_type": "stream",
     "text": [
      "C:\\Users\\Admin\\anaconda3\\envs\\Oanda1\\lib\\site-packages\\mplfinance\\_arg_validators.py:45: UserWarning: \n",
      "\n",
      " ================================================================= \n",
      "\n",
      "   WARNING: YOU ARE PLOTTING SO MUCH DATA THAT IT MAY NOT BE\n",
      "            POSSIBLE TO SEE DETAILS (Candles, Ohlc-Bars, Etc.)\n",
      "   For more information see:\n",
      "   - https://github.com/matplotlib/mplfinance/wiki/Plotting-Too-Much-Data\n",
      "   \n",
      "   TO SILENCE THIS WARNING, set `type='line'` in `mpf.plot()`\n",
      "   OR set kwarg `warn_too_much_data=N` where N is an integer \n",
      "   LARGER than the number of data points you want to plot.\n",
      "\n",
      " ================================================================ \n",
      "  category=UserWarning)\n"
     ]
    },
    {
     "data": {
      "image/png": "[encoded data removed]",
      "text/plain": [
       "<Figure size 800x575 with 2 Axes>"
      ]
     },
     "metadata": {},
     "output_type": "display_data"
    }
   ],
   "source": [
    "mpf.plot(df,type='ohlc',show_nontrading=True)"
   ]
  },
  {
   "cell_type": "code",
   "execution_count": 155,
   "id": "deluxe-refund",
   "metadata": {},
   "outputs": [],
   "source": [
    "#Writing a strategy to code to generate a buy and sell signal as per guidelines\n",
    "# 1 . Moving average crossover 3, 8 , if 3 is above 8 , buy signal\n",
    "# 2. If 8 Moving Average above 3, generate a sell signal\n",
    "# 3. Crosscheck with RVI for 3 candlesticks. If RVI line is above signal line , above o line, buy signal\n",
    "# 4.  If RVI line is below signal line , below o line, sell signal\n",
    "# 5.  Stop loss at 1.5 ATR(7 candlesticks)\n",
    "# 6. Take profit @ 3 ATR\n",
    "# 7. Chart 5 minutes\n",
    "# 8. Backtest for 1 year.\n",
    "# 9. Calculate profits and SHarpe ratio\n",
    "# 10. Run real time\n"
   ]
  },
  {
   "cell_type": "code",
   "execution_count": 156,
   "id": "linear-nudist",
   "metadata": {},
   "outputs": [],
   "source": [
    "# Find the values for 3 and 8 Moving Averages."
   ]
  },
  {
   "cell_type": "code",
   "execution_count": 157,
   "id": "cloudy-speaker",
   "metadata": {},
   "outputs": [],
   "source": [
    "import talib"
   ]
  },
  {
   "cell_type": "code",
   "execution_count": 158,
   "id": "automated-pizza",
   "metadata": {
    "scrolled": true
   },
   "outputs": [
    {
     "name": "stdout",
     "output_type": "stream",
     "text": [
      "<module 'talib' from 'C:\\\\Users\\\\Admin\\\\anaconda3\\\\envs\\\\Oanda1\\\\lib\\\\site-packages\\\\talib\\\\__init__.py'>\n"
     ]
    }
   ],
   "source": [
    "print(talib)"
   ]
  },
  {
   "cell_type": "code",
   "execution_count": 159,
   "id": "expected-little",
   "metadata": {},
   "outputs": [],
   "source": [
    "#dir(talib)"
   ]
  },
  {
   "cell_type": "code",
   "execution_count": 160,
   "id": "killing-magnet",
   "metadata": {},
   "outputs": [],
   "source": [
    "#?talib.CCI"
   ]
  },
  {
   "cell_type": "code",
   "execution_count": 161,
   "id": "stretch-federation",
   "metadata": {},
   "outputs": [],
   "source": [
    "# Extraction values of SMA 3 and SMA 8 "
   ]
  },
  {
   "cell_type": "code",
   "execution_count": 162,
   "id": "c5cdc9ea",
   "metadata": {},
   "outputs": [],
   "source": [
    "# Extracting 3 sma using talib library\n",
    "sma3 = talib.SMA(df['Close']).values, 3"
   ]
  },
  {
   "cell_type": "code",
   "execution_count": 163,
   "id": "b930eade",
   "metadata": {},
   "outputs": [
    {
     "data": {
      "text/plain": [
       "(array([           nan,            nan,            nan, ...,\n",
       "        25434.91341146, 25421.89674479, 25408.32005208]),\n",
       " 3)"
      ]
     },
     "execution_count": 163,
     "metadata": {},
     "output_type": "execute_result"
    }
   ],
   "source": [
    "# Printing tuple sma8\n",
    "sma3"
   ]
  },
  {
   "cell_type": "code",
   "execution_count": 164,
   "id": "6cdb301d",
   "metadata": {},
   "outputs": [],
   "source": [
    "# # Extracting 8 sma using talib library\n",
    "sma8 = talib.SMA(df['Close']).values,8"
   ]
  },
  {
   "cell_type": "code",
   "execution_count": 165,
   "id": "44be000c",
   "metadata": {},
   "outputs": [
    {
     "data": {
      "text/plain": [
       "(array([           nan,            nan,            nan, ...,\n",
       "        25434.91341146, 25421.89674479, 25408.32005208]),\n",
       " 8)"
      ]
     },
     "execution_count": 165,
     "metadata": {},
     "output_type": "execute_result"
    }
   ],
   "source": [
    "# Printing tuple sma8\n",
    "sma8"
   ]
  },
  {
   "cell_type": "code",
   "execution_count": 166,
   "id": "ea1214e4",
   "metadata": {},
   "outputs": [
    {
     "name": "stdout",
     "output_type": "stream",
     "text": [
      " sma3 =    [           nan            nan            nan ... 25434.91341146\n",
      " 25421.89674479 25408.32005208]\n",
      " sma3 =    3\n"
     ]
    }
   ],
   "source": [
    "# Converting tuple to numpy pandas = 3 sma\n",
    "for i in range(len(sma3)):\n",
    "    print(\" sma3 =   \", sma3[i])    "
   ]
  },
  {
   "cell_type": "code",
   "execution_count": 167,
   "id": "9d729bf2",
   "metadata": {},
   "outputs": [
    {
     "name": "stdout",
     "output_type": "stream",
     "text": [
      " sma8 =    [           nan            nan            nan ... 25434.91341146\n",
      " 25421.89674479 25408.32005208]\n",
      " sma8 =    8\n"
     ]
    }
   ],
   "source": [
    "# Converting tuple to numpy pandas =8 sma\n",
    "for i in range(len(sma8)):\n",
    "    print(\" sma8 =   \", sma8[i])\n",
    "    "
   ]
  },
  {
   "cell_type": "code",
   "execution_count": 168,
   "id": "b3d98ec0",
   "metadata": {},
   "outputs": [],
   "source": [
    "# Extarcting first element form the list\n",
    "k =sma3[0]\n",
    "l =sma8[0]"
   ]
  },
  {
   "cell_type": "code",
   "execution_count": 169,
   "id": "90d42100",
   "metadata": {},
   "outputs": [
    {
     "data": {
      "text/plain": [
       "array([           nan,            nan,            nan, ...,\n",
       "       25434.91341146, 25421.89674479, 25408.32005208])"
      ]
     },
     "execution_count": 169,
     "metadata": {},
     "output_type": "execute_result"
    }
   ],
   "source": [
    "# Printing sma3 elements\n",
    "k"
   ]
  },
  {
   "cell_type": "code",
   "execution_count": 170,
   "id": "4ed02bb9",
   "metadata": {},
   "outputs": [
    {
     "data": {
      "text/plain": [
       "array([           nan,            nan,            nan, ...,\n",
       "       25434.91341146, 25421.89674479, 25408.32005208])"
      ]
     },
     "execution_count": 170,
     "metadata": {},
     "output_type": "execute_result"
    }
   ],
   "source": [
    "# Printing sma8 elements\n",
    "l"
   ]
  },
  {
   "cell_type": "code",
   "execution_count": 171,
   "id": "57614902",
   "metadata": {},
   "outputs": [
    {
     "name": "stdout",
     "output_type": "stream",
     "text": [
      "<class 'numpy.ndarray'>\n"
     ]
    }
   ],
   "source": [
    "print(type(k))"
   ]
  },
  {
   "cell_type": "code",
   "execution_count": 172,
   "id": "00c328c0",
   "metadata": {},
   "outputs": [],
   "source": [
    "# Coverting Numpy to dataframe\n",
    "df3 = pd.DataFrame(k)\n",
    "df8 = pd.DataFrame(l)"
   ]
  },
  {
   "cell_type": "code",
   "execution_count": 173,
   "id": "542ed8ed",
   "metadata": {},
   "outputs": [
    {
     "data": {
      "text/html": [
       "<div>\n",
       "<style scoped>\n",
       "    .dataframe tbody tr th:only-of-type {\n",
       "        vertical-align: middle;\n",
       "    }\n",
       "\n",
       "    .dataframe tbody tr th {\n",
       "        vertical-align: top;\n",
       "    }\n",
       "\n",
       "    .dataframe thead th {\n",
       "        text-align: right;\n",
       "    }\n",
       "</style>\n",
       "<table border=\"1\" class=\"dataframe\">\n",
       "  <thead>\n",
       "    <tr style=\"text-align: right;\">\n",
       "      <th></th>\n",
       "      <th>0</th>\n",
       "    </tr>\n",
       "  </thead>\n",
       "  <tbody>\n",
       "    <tr>\n",
       "      <th>0</th>\n",
       "      <td>NaN</td>\n",
       "    </tr>\n",
       "    <tr>\n",
       "      <th>1</th>\n",
       "      <td>NaN</td>\n",
       "    </tr>\n",
       "    <tr>\n",
       "      <th>2</th>\n",
       "      <td>NaN</td>\n",
       "    </tr>\n",
       "    <tr>\n",
       "      <th>3</th>\n",
       "      <td>NaN</td>\n",
       "    </tr>\n",
       "    <tr>\n",
       "      <th>4</th>\n",
       "      <td>NaN</td>\n",
       "    </tr>\n",
       "    <tr>\n",
       "      <th>...</th>\n",
       "      <td>...</td>\n",
       "    </tr>\n",
       "    <tr>\n",
       "      <th>1840</th>\n",
       "      <td>25467.195052</td>\n",
       "    </tr>\n",
       "    <tr>\n",
       "      <th>1841</th>\n",
       "      <td>25450.528385</td>\n",
       "    </tr>\n",
       "    <tr>\n",
       "      <th>1842</th>\n",
       "      <td>25434.913411</td>\n",
       "    </tr>\n",
       "    <tr>\n",
       "      <th>1843</th>\n",
       "      <td>25421.896745</td>\n",
       "    </tr>\n",
       "    <tr>\n",
       "      <th>1844</th>\n",
       "      <td>25408.320052</td>\n",
       "    </tr>\n",
       "  </tbody>\n",
       "</table>\n",
       "<p>1845 rows × 1 columns</p>\n",
       "</div>"
      ],
      "text/plain": [
       "                 0\n",
       "0              NaN\n",
       "1              NaN\n",
       "2              NaN\n",
       "3              NaN\n",
       "4              NaN\n",
       "...            ...\n",
       "1840  25467.195052\n",
       "1841  25450.528385\n",
       "1842  25434.913411\n",
       "1843  25421.896745\n",
       "1844  25408.320052\n",
       "\n",
       "[1845 rows x 1 columns]"
      ]
     },
     "execution_count": 173,
     "metadata": {},
     "output_type": "execute_result"
    }
   ],
   "source": [
    "# Printing dataframe of 3 sma\n",
    "df3"
   ]
  },
  {
   "cell_type": "code",
   "execution_count": 174,
   "id": "c695ef7d",
   "metadata": {},
   "outputs": [
    {
     "data": {
      "text/plain": [
       "0    29\n",
       "dtype: int64"
      ]
     },
     "execution_count": 174,
     "metadata": {},
     "output_type": "execute_result"
    }
   ],
   "source": [
    "# handling the missing data\n",
    "df3.isnull().sum()"
   ]
  },
  {
   "cell_type": "code",
   "execution_count": 175,
   "id": "5abd61a9",
   "metadata": {},
   "outputs": [
    {
     "data": {
      "text/plain": [
       "0    29\n",
       "dtype: int64"
      ]
     },
     "execution_count": 175,
     "metadata": {},
     "output_type": "execute_result"
    }
   ],
   "source": [
    "# handling the missing data\n",
    "df8.isnull().sum()"
   ]
  },
  {
   "cell_type": "code",
   "execution_count": 176,
   "id": "60e0b0f3",
   "metadata": {},
   "outputs": [
    {
     "ename": "SyntaxError",
     "evalue": "invalid syntax (<ipython-input-176-c4e554dbeb50>, line 2)",
     "output_type": "error",
     "traceback": [
      "\u001b[1;36m  File \u001b[1;32m\"<ipython-input-176-c4e554dbeb50>\"\u001b[1;36m, line \u001b[1;32m2\u001b[0m\n\u001b[1;33m    3smamean = df3['0'].mean()\u001b[0m\n\u001b[1;37m           ^\u001b[0m\n\u001b[1;31mSyntaxError\u001b[0m\u001b[1;31m:\u001b[0m invalid syntax\n"
     ]
    }
   ],
   "source": [
    "# Filling missing NAN values with mean values\n",
    "3smamean = df3['0'].mean()\n",
    "df3['0'] = df3['0'].replace(np.NaN,3smamean)\n",
    "8smamean = df8['0'].mean()\n",
    "df8['0'] = df8['0'].replace(np.NaN,8smamean)\n"
   ]
  },
  {
   "cell_type": "code",
   "execution_count": null,
   "id": "39a6da5c",
   "metadata": {},
   "outputs": [],
   "source": [
    "# Checking nan values are absent or not\n",
    "# handling the missing data\n",
    "df3.isnull().sum()"
   ]
  },
  {
   "cell_type": "code",
   "execution_count": null,
   "id": "6e7485b5",
   "metadata": {},
   "outputs": [],
   "source": [
    "# Checking nan values are absent or not\n",
    "# handling the missing data\n",
    "df8.isnull().sum()"
   ]
  },
  {
   "cell_type": "code",
   "execution_count": null,
   "id": "5fb317e0",
   "metadata": {},
   "outputs": [],
   "source": [
    "# Printing dataframe of 3 sma\n",
    "df3"
   ]
  },
  {
   "cell_type": "code",
   "execution_count": null,
   "id": "e8f5fd06",
   "metadata": {},
   "outputs": [],
   "source": [
    "# Printing dataframe of 8 sma\n",
    "df3"
   ]
  },
  {
   "cell_type": "code",
   "execution_count": null,
   "id": "1f9c1423",
   "metadata": {},
   "outputs": [],
   "source": [
    "print(type(sma3))\n",
    "print(type(sma8))\n",
    "print(type(k))\n",
    "print(type(l))\n",
    "print(type(df3))\n",
    "print(type(df8))"
   ]
  },
  {
   "cell_type": "code",
   "execution_count": null,
   "id": "3ce3f60f",
   "metadata": {},
   "outputs": [],
   "source": [
    "# Check when 2 sma if greater than or less than 3sma, print a buy signal or else print a sell signal."
   ]
  },
  {
   "cell_type": "code",
   "execution_count": null,
   "id": "c9d17344",
   "metadata": {},
   "outputs": [],
   "source": [
    "# Using a for loop to comapre 3sma with 8sma and generating a signal.\n",
    "for i in range(len(df3)):\n",
    "    if (df3[i] > df8[i]):\n",
    "        print(\" Buy Signal\")\n",
    "    else:\n",
    "        print('Sell signal')"
   ]
  },
  {
   "cell_type": "code",
   "execution_count": null,
   "id": "15808e74",
   "metadata": {},
   "outputs": [],
   "source": []
  },
  {
   "cell_type": "code",
   "execution_count": null,
   "id": "79c105e9",
   "metadata": {},
   "outputs": [],
   "source": []
  },
  {
   "cell_type": "code",
   "execution_count": null,
   "id": "a479313a",
   "metadata": {},
   "outputs": [],
   "source": []
  },
  {
   "cell_type": "code",
   "execution_count": null,
   "id": "67235f5d",
   "metadata": {},
   "outputs": [],
   "source": []
  },
  {
   "cell_type": "code",
   "execution_count": null,
   "id": "60497c26",
   "metadata": {},
   "outputs": [],
   "source": []
  },
  {
   "cell_type": "code",
   "execution_count": null,
   "id": "89dd335a",
   "metadata": {},
   "outputs": [],
   "source": []
  },
  {
   "cell_type": "code",
   "execution_count": null,
   "id": "efdfba9f",
   "metadata": {},
   "outputs": [],
   "source": []
  }
 ],
 "metadata": {
  "kernelspec": {
   "display_name": "Python 3",
   "language": "python",
   "name": "python3"
  },
  "language_info": {
   "codemirror_mode": {
    "name": "ipython",
    "version": 3
   },
   "file_extension": ".py",
   "mimetype": "text/x-python",
   "name": "python",
   "nbconvert_exporter": "python",
   "pygments_lexer": "ipython3",
   "version": "3.6.13"
  }
 },
 "nbformat": 4,
 "nbformat_minor": 5
}

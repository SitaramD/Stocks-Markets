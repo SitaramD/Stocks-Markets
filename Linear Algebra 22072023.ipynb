{
 "cells": [
  {
   "cell_type": "code",
   "execution_count": null,
   "id": "3d63b4e9",
   "metadata": {},
   "outputs": [],
   "source": [
    "# To study functions of Linear Algebra"
   ]
  },
  {
   "cell_type": "code",
   "execution_count": null,
   "id": "6dd3ea32",
   "metadata": {},
   "outputs": [],
   "source": []
  },
  {
   "cell_type": "code",
   "execution_count": 1,
   "id": "fb5b3229",
   "metadata": {},
   "outputs": [
    {
     "name": "stdout",
     "output_type": "stream",
     "text": [
      "Requirement already satisfied: scipy in c:\\programdata\\miniconda3\\lib\\site-packages (1.11.1)\n",
      "Requirement already satisfied: numpy<1.28.0,>=1.21.6 in c:\\programdata\\miniconda3\\lib\\site-packages (from scipy) (1.23.4)\n"
     ]
    }
   ],
   "source": [
    "!pip install scipy"
   ]
  },
  {
   "cell_type": "code",
   "execution_count": 2,
   "id": "41b5dc57",
   "metadata": {},
   "outputs": [],
   "source": [
    "import scipy\n",
    "import numpy as np"
   ]
  },
  {
   "cell_type": "code",
   "execution_count": 13,
   "id": "2887d5a1",
   "metadata": {},
   "outputs": [
    {
     "data": {
      "text/plain": [
       "matrix([[1, 2, 8],\n",
       "        [3, 4, 6],\n",
       "        [7, 8, 3],\n",
       "        [3, 7, 4]])"
      ]
     },
     "execution_count": 13,
     "metadata": {},
     "output_type": "execute_result"
    }
   ],
   "source": [
    "# Create a Matrix\n",
    "A = np.mat('[1 2 8;3 4 6;7 8 3;3 7 4]')\n",
    "A"
   ]
  },
  {
   "cell_type": "code",
   "execution_count": 14,
   "id": "da190cd2",
   "metadata": {},
   "outputs": [
    {
     "data": {
      "text/plain": [
       "matrix([[1, 3, 7, 3],\n",
       "        [2, 4, 8, 7],\n",
       "        [8, 6, 3, 4]])"
      ]
     },
     "execution_count": 14,
     "metadata": {},
     "output_type": "execute_result"
    }
   ],
   "source": [
    "# To find the transpose of a matrix\n",
    "A.T"
   ]
  },
  {
   "cell_type": "code",
   "execution_count": 23,
   "id": "a3975a85",
   "metadata": {},
   "outputs": [
    {
     "data": {
      "text/plain": [
       "matrix([[5],\n",
       "        [6],\n",
       "        [7]])"
      ]
     },
     "execution_count": 23,
     "metadata": {},
     "output_type": "execute_result"
    }
   ],
   "source": [
    "b = np.mat('[5 ; 6 ; 7]')\n",
    "b"
   ]
  },
  {
   "cell_type": "code",
   "execution_count": 24,
   "id": "14063526",
   "metadata": {},
   "outputs": [
    {
     "data": {
      "text/plain": [
       "matrix([[ 73],\n",
       "        [ 81],\n",
       "        [104],\n",
       "        [ 85]])"
      ]
     },
     "execution_count": 24,
     "metadata": {},
     "output_type": "execute_result"
    }
   ],
   "source": [
    "# To multiply two matrices, numner of columns should be equal to number of rows.\n",
    "A*b"
   ]
  },
  {
   "cell_type": "code",
   "execution_count": 25,
   "id": "4817bc3c",
   "metadata": {},
   "outputs": [
    {
     "name": "stdout",
     "output_type": "stream",
     "text": [
      "Help on package scipy:\n",
      "\n",
      "NAME\n",
      "    scipy\n",
      "\n",
      "DESCRIPTION\n",
      "    SciPy: A scientific computing package for Python\n",
      "    ================================================\n",
      "    \n",
      "    Documentation is available in the docstrings and\n",
      "    online at https://docs.scipy.org.\n",
      "    \n",
      "    Contents\n",
      "    --------\n",
      "    SciPy imports all the functions from the NumPy namespace, and in\n",
      "    addition provides:\n",
      "    \n",
      "    Subpackages\n",
      "    -----------\n",
      "    Using any of these subpackages requires an explicit import. For example,\n",
      "    ``import scipy.cluster``.\n",
      "    \n",
      "    ::\n",
      "    \n",
      "     cluster                      --- Vector Quantization / Kmeans\n",
      "     constants                    --- Physical and mathematical constants and units\n",
      "     datasets                     --- Dataset methods\n",
      "     fft                          --- Discrete Fourier transforms\n",
      "     fftpack                      --- Legacy discrete Fourier transforms\n",
      "     integrate                    --- Integration routines\n",
      "     interpolate                  --- Interpolation Tools\n",
      "     io                           --- Data input and output\n",
      "     linalg                       --- Linear algebra routines\n",
      "     misc                         --- Utilities that don't have another home.\n",
      "     ndimage                      --- N-D image package\n",
      "     odr                          --- Orthogonal Distance Regression\n",
      "     optimize                     --- Optimization Tools\n",
      "     signal                       --- Signal Processing Tools\n",
      "     sparse                       --- Sparse Matrices\n",
      "     spatial                      --- Spatial data structures and algorithms\n",
      "     special                      --- Special functions\n",
      "     stats                        --- Statistical Functions\n",
      "    \n",
      "    Public API in the main SciPy namespace\n",
      "    --------------------------------------\n",
      "    ::\n",
      "    \n",
      "     __version__       --- SciPy version string\n",
      "     LowLevelCallable  --- Low-level callback function\n",
      "     show_config       --- Show scipy build configuration\n",
      "     test              --- Run scipy unittests\n",
      "\n",
      "PACKAGE CONTENTS\n",
      "    __config__\n",
      "    _distributor_init\n",
      "    _lib (package)\n",
      "    cluster (package)\n",
      "    conftest\n",
      "    constants (package)\n",
      "    datasets (package)\n",
      "    fft (package)\n",
      "    fftpack (package)\n",
      "    integrate (package)\n",
      "    interpolate (package)\n",
      "    io (package)\n",
      "    linalg (package)\n",
      "    misc (package)\n",
      "    ndimage (package)\n",
      "    odr (package)\n",
      "    optimize (package)\n",
      "    signal (package)\n",
      "    sparse (package)\n",
      "    spatial (package)\n",
      "    special (package)\n",
      "    stats (package)\n",
      "    version\n",
      "\n",
      "CLASSES\n",
      "    builtins.tuple(builtins.object)\n",
      "        scipy._lib._ccallback.LowLevelCallable\n",
      "    \n",
      "    class LowLevelCallable(builtins.tuple)\n",
      "     |  LowLevelCallable(function, user_data=None, signature=None)\n",
      "     |  \n",
      "     |  Low-level callback function.\n",
      "     |  \n",
      "     |  Some functions in SciPy take as arguments callback functions, which\n",
      "     |  can either be python callables or low-level compiled functions. Using\n",
      "     |  compiled callback functions can improve performance somewhat by\n",
      "     |  avoiding wrapping data in Python objects.\n",
      "     |  \n",
      "     |  Such low-level functions in SciPy are wrapped in `LowLevelCallable`\n",
      "     |  objects, which can be constructed from function pointers obtained from\n",
      "     |  ctypes, cffi, Cython, or contained in Python `PyCapsule` objects.\n",
      "     |  \n",
      "     |  .. seealso::\n",
      "     |  \n",
      "     |     Functions accepting low-level callables:\n",
      "     |  \n",
      "     |     `scipy.integrate.quad`, `scipy.ndimage.generic_filter`,\n",
      "     |     `scipy.ndimage.generic_filter1d`, `scipy.ndimage.geometric_transform`\n",
      "     |  \n",
      "     |     Usage examples:\n",
      "     |  \n",
      "     |     :ref:`ndimage-ccallbacks`, :ref:`quad-callbacks`\n",
      "     |  \n",
      "     |  Parameters\n",
      "     |  ----------\n",
      "     |  function : {PyCapsule, ctypes function pointer, cffi function pointer}\n",
      "     |      Low-level callback function.\n",
      "     |  user_data : {PyCapsule, ctypes void pointer, cffi void pointer}\n",
      "     |      User data to pass on to the callback function.\n",
      "     |  signature : str, optional\n",
      "     |      Signature of the function. If omitted, determined from *function*,\n",
      "     |      if possible.\n",
      "     |  \n",
      "     |  Attributes\n",
      "     |  ----------\n",
      "     |  function\n",
      "     |      Callback function given.\n",
      "     |  user_data\n",
      "     |      User data given.\n",
      "     |  signature\n",
      "     |      Signature of the function.\n",
      "     |  \n",
      "     |  Methods\n",
      "     |  -------\n",
      "     |  from_cython\n",
      "     |      Class method for constructing callables from Cython C-exported\n",
      "     |      functions.\n",
      "     |  \n",
      "     |  Notes\n",
      "     |  -----\n",
      "     |  The argument ``function`` can be one of:\n",
      "     |  \n",
      "     |  - PyCapsule, whose name contains the C function signature\n",
      "     |  - ctypes function pointer\n",
      "     |  - cffi function pointer\n",
      "     |  \n",
      "     |  The signature of the low-level callback must match one of those expected\n",
      "     |  by the routine it is passed to.\n",
      "     |  \n",
      "     |  If constructing low-level functions from a PyCapsule, the name of the\n",
      "     |  capsule must be the corresponding signature, in the format::\n",
      "     |  \n",
      "     |      return_type (arg1_type, arg2_type, ...)\n",
      "     |  \n",
      "     |  For example::\n",
      "     |  \n",
      "     |      \"void (double)\"\n",
      "     |      \"double (double, int *, void *)\"\n",
      "     |  \n",
      "     |  The context of a PyCapsule passed in as ``function`` is used as ``user_data``,\n",
      "     |  if an explicit value for ``user_data`` was not given.\n",
      "     |  \n",
      "     |  Method resolution order:\n",
      "     |      LowLevelCallable\n",
      "     |      builtins.tuple\n",
      "     |      builtins.object\n",
      "     |  \n",
      "     |  Methods defined here:\n",
      "     |  \n",
      "     |  __getitem__(self, idx)\n",
      "     |      Return self[key].\n",
      "     |  \n",
      "     |  __repr__(self)\n",
      "     |      Return repr(self).\n",
      "     |  \n",
      "     |  ----------------------------------------------------------------------\n",
      "     |  Class methods defined here:\n",
      "     |  \n",
      "     |  from_cython(module, name, user_data=None, signature=None) from builtins.type\n",
      "     |      Create a low-level callback function from an exported Cython function.\n",
      "     |      \n",
      "     |      Parameters\n",
      "     |      ----------\n",
      "     |      module : module\n",
      "     |          Cython module where the exported function resides\n",
      "     |      name : str\n",
      "     |          Name of the exported function\n",
      "     |      user_data : {PyCapsule, ctypes void pointer, cffi void pointer}, optional\n",
      "     |          User data to pass on to the callback function.\n",
      "     |      signature : str, optional\n",
      "     |          Signature of the function. If omitted, determined from *function*.\n",
      "     |  \n",
      "     |  ----------------------------------------------------------------------\n",
      "     |  Static methods defined here:\n",
      "     |  \n",
      "     |  __new__(cls, function, user_data=None, signature=None)\n",
      "     |      Create and return a new object.  See help(type) for accurate signature.\n",
      "     |  \n",
      "     |  ----------------------------------------------------------------------\n",
      "     |  Readonly properties defined here:\n",
      "     |  \n",
      "     |  function\n",
      "     |  \n",
      "     |  signature\n",
      "     |  \n",
      "     |  user_data\n",
      "     |  \n",
      "     |  ----------------------------------------------------------------------\n",
      "     |  Methods inherited from builtins.tuple:\n",
      "     |  \n",
      "     |  __add__(self, value, /)\n",
      "     |      Return self+value.\n",
      "     |  \n",
      "     |  __contains__(self, key, /)\n",
      "     |      Return key in self.\n",
      "     |  \n",
      "     |  __eq__(self, value, /)\n",
      "     |      Return self==value.\n",
      "     |  \n",
      "     |  __ge__(self, value, /)\n",
      "     |      Return self>=value.\n",
      "     |  \n",
      "     |  __getattribute__(self, name, /)\n",
      "     |      Return getattr(self, name).\n",
      "     |  \n",
      "     |  __getnewargs__(self, /)\n",
      "     |  \n",
      "     |  __gt__(self, value, /)\n",
      "     |      Return self>value.\n",
      "     |  \n",
      "     |  __hash__(self, /)\n",
      "     |      Return hash(self).\n",
      "     |  \n",
      "     |  __iter__(self, /)\n",
      "     |      Implement iter(self).\n",
      "     |  \n",
      "     |  __le__(self, value, /)\n",
      "     |      Return self<=value.\n",
      "     |  \n",
      "     |  __len__(self, /)\n",
      "     |      Return len(self).\n",
      "     |  \n",
      "     |  __lt__(self, value, /)\n",
      "     |      Return self<value.\n",
      "     |  \n",
      "     |  __mul__(self, value, /)\n",
      "     |      Return self*value.\n",
      "     |  \n",
      "     |  __ne__(self, value, /)\n",
      "     |      Return self!=value.\n",
      "     |  \n",
      "     |  __rmul__(self, value, /)\n",
      "     |      Return value*self.\n",
      "     |  \n",
      "     |  count(self, value, /)\n",
      "     |      Return number of occurrences of value.\n",
      "     |  \n",
      "     |  index(self, value, start=0, stop=9223372036854775807, /)\n",
      "     |      Return first index of value.\n",
      "     |      \n",
      "     |      Raises ValueError if the value is not present.\n",
      "     |  \n",
      "     |  ----------------------------------------------------------------------\n",
      "     |  Class methods inherited from builtins.tuple:\n",
      "     |  \n",
      "     |  __class_getitem__(...) from builtins.type\n",
      "     |      See PEP 585\n",
      "\n",
      "FUNCTIONS\n",
      "    show_config = show(mode='stdout')\n",
      "        Show libraries and system information on which SciPy was built\n",
      "        and is being used\n",
      "        \n",
      "        Parameters\n",
      "        ----------\n",
      "        mode : {`'stdout'`, `'dicts'`}, optional.\n",
      "            Indicates how to display the config information.\n",
      "            `'stdout'` prints to console, `'dicts'` returns a dictionary\n",
      "            of the configuration.\n",
      "        \n",
      "        Returns\n",
      "        -------\n",
      "        out : {`dict`, `None`}\n",
      "            If mode is `'dicts'`, a dict is returned, else None\n",
      "        \n",
      "        Notes\n",
      "        -----\n",
      "        1. The `'stdout'` mode will give more readable\n",
      "           output if ``pyyaml`` is installed\n",
      "\n",
      "DATA\n",
      "    test = <scipy._lib._testutils.PytestTester object>\n",
      "\n",
      "VERSION\n",
      "    1.11.1\n",
      "\n",
      "FILE\n",
      "    c:\\programdata\\miniconda3\\lib\\site-packages\\scipy\\__init__.py\n",
      "\n",
      "\n"
     ]
    }
   ],
   "source": [
    "help(scipy)"
   ]
  },
  {
   "cell_type": "code",
   "execution_count": 35,
   "id": "a63cef16",
   "metadata": {},
   "outputs": [
    {
     "data": {
      "text/plain": [
       "array([5, 6, 8])"
      ]
     },
     "execution_count": 35,
     "metadata": {},
     "output_type": "execute_result"
    }
   ],
   "source": [
    "b = np.array([5,6,8]) #1D array\n",
    "b"
   ]
  },
  {
   "cell_type": "code",
   "execution_count": 36,
   "id": "b3dedd41",
   "metadata": {},
   "outputs": [
    {
     "data": {
      "text/plain": [
       "(3,)"
      ]
     },
     "execution_count": 36,
     "metadata": {},
     "output_type": "execute_result"
    }
   ],
   "source": [
    "b.shape"
   ]
  },
  {
   "cell_type": "code",
   "execution_count": 37,
   "id": "a490dc8b",
   "metadata": {},
   "outputs": [
    {
     "data": {
      "text/plain": [
       "matrix([[ 81,  87, 107,  89]])"
      ]
     },
     "execution_count": 37,
     "metadata": {},
     "output_type": "execute_result"
    }
   ],
   "source": [
    "# To multiply two matrices, numner of columns should be equal to number of rows.\n",
    "A.dot(b)"
   ]
  },
  {
   "cell_type": "code",
   "execution_count": 38,
   "id": "34419ddc",
   "metadata": {},
   "outputs": [
    {
     "data": {
      "text/plain": [
       "array([[1, 3, 5],\n",
       "       [2, 5, 1],\n",
       "       [2, 3, 8]])"
      ]
     },
     "execution_count": 38,
     "metadata": {},
     "output_type": "execute_result"
    }
   ],
   "source": [
    "from scipy import linalg\n",
    "A = np.array([[1,3,5],[2,5,1],[2,3,8]])\n",
    "A"
   ]
  },
  {
   "cell_type": "code",
   "execution_count": 39,
   "id": "ce632094",
   "metadata": {},
   "outputs": [
    {
     "data": {
      "text/plain": [
       "array([[-1.48,  0.36,  0.88],\n",
       "       [ 0.56,  0.08, -0.36],\n",
       "       [ 0.16, -0.12,  0.04]])"
      ]
     },
     "execution_count": 39,
     "metadata": {},
     "output_type": "execute_result"
    }
   ],
   "source": [
    "# # To calculate inverse of a matrix\n",
    "linalg.inv(A)"
   ]
  },
  {
   "cell_type": "code",
   "execution_count": 45,
   "id": "56b50a10",
   "metadata": {},
   "outputs": [
    {
     "data": {
      "text/plain": [
       "array([[3, 4, 5],\n",
       "       [4, 7, 8],\n",
       "       [5, 7, 6]])"
      ]
     },
     "execution_count": 45,
     "metadata": {},
     "output_type": "execute_result"
    }
   ],
   "source": [
    "# To define array instead of a matrix\n",
    "b=np.array([[3,4,5],[4,7,8],[5,7,6]])\n",
    "b"
   ]
  },
  {
   "cell_type": "code",
   "execution_count": 46,
   "id": "a4034eb4",
   "metadata": {},
   "outputs": [
    {
     "data": {
      "text/plain": [
       "array([[ 1.07692308, -0.84615385,  0.23076923],\n",
       "       [-1.23076923,  0.53846154,  0.30769231],\n",
       "       [ 0.53846154,  0.07692308, -0.38461538]])"
      ]
     },
     "execution_count": 46,
     "metadata": {},
     "output_type": "execute_result"
    }
   ],
   "source": [
    "# To find inverse of a matrix\n",
    "linalg.inv(b)"
   ]
  },
  {
   "cell_type": "code",
   "execution_count": null,
   "id": "7587ffc6",
   "metadata": {},
   "outputs": [],
   "source": []
  }
 ],
 "metadata": {
  "kernelspec": {
   "display_name": "Python 3 (ipykernel)",
   "language": "python",
   "name": "python3"
  },
  "language_info": {
   "codemirror_mode": {
    "name": "ipython",
    "version": 3
   },
   "file_extension": ".py",
   "mimetype": "text/x-python",
   "name": "python",
   "nbconvert_exporter": "python",
   "pygments_lexer": "ipython3",
   "version": "3.10.10"
  }
 },
 "nbformat": 4,
 "nbformat_minor": 5
}

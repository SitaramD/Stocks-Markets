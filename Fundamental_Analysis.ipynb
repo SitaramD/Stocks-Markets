{
 "cells": [
  {
   "cell_type": "code",
   "execution_count": 5,
   "id": "b713c562",
   "metadata": {},
   "outputs": [],
   "source": [
    "# Fundamental analysis of  a stock"
   ]
  },
  {
   "cell_type": "code",
   "execution_count": 6,
   "id": "96dcd879",
   "metadata": {},
   "outputs": [],
   "source": [
    "# Define the stock ticker\n",
    "ticker = 'DBCORP.NS'  # Change the ticker symbol\n",
    "stock = yf.Ticker(ticker)"
   ]
  },
  {
   "cell_type": "code",
   "execution_count": 7,
   "id": "da300860",
   "metadata": {},
   "outputs": [
    {
     "name": "stdout",
     "output_type": "stream",
     "text": [
      "Investment Decision for the stock: Do Not Invest\n",
      "\n",
      "Positive Factors:\n",
      "- Healthy debt-to-equity ratio: 0.09\n",
      "- Strong return on equity (ROE): 0.16\n",
      "\n",
      "Negative Factors:\n",
      "- Negative revenue growth over 5 years: -10.76%\n",
      "- Negative net income growth over 5 years: -19.19%\n"
     ]
    },
    {
     "name": "stderr",
     "output_type": "stream",
     "text": [
      "C:\\Users\\DELL\\AppData\\Local\\Temp\\ipykernel_9880\\1484981827.py:23: FutureWarning: The default fill_method='pad' in Series.pct_change is deprecated and will be removed in a future version. Either fill in any non-leading NA values prior to calling pct_change or specify 'fill_method=None' to not fill NA values.\n",
      "  revenue_growth = financials['Total Revenue'].pct_change().dropna().mean()\n",
      "C:\\Users\\DELL\\AppData\\Local\\Temp\\ipykernel_9880\\1484981827.py:24: FutureWarning: The default fill_method='pad' in Series.pct_change is deprecated and will be removed in a future version. Either fill in any non-leading NA values prior to calling pct_change or specify 'fill_method=None' to not fill NA values.\n",
      "  income_growth = financials['Net Income'].pct_change().dropna().mean()\n"
     ]
    }
   ],
   "source": [
    "import yfinance as yf\n",
    "import pandas as pd\n",
    "\n",
    "# Fetch the latest annual financials\n",
    "financials = stock.financials.T\n",
    "balance_sheet = stock.balance_sheet.T\n",
    "cash_flow = stock.cash_flow.T\n",
    "\n",
    "# Latest year available\n",
    "latest_year = financials.index[0]\n",
    "\n",
    "# Calculating key financial metrics\n",
    "total_revenue = financials.loc[latest_year, 'Total Revenue']\n",
    "net_income = financials.loc[latest_year, 'Net Income']\n",
    "free_cash_flow = cash_flow.loc[latest_year, 'Free Cash Flow']\n",
    "total_debt = balance_sheet.loc[latest_year, 'Total Debt']\n",
    "total_assets = balance_sheet.loc[latest_year, 'Total Assets']\n",
    "net_debt = balance_sheet.loc[latest_year, 'Net Debt']\n",
    "debt_to_equity = total_debt / (total_assets - total_debt)  # Simplified calculation\n",
    "roe = net_income / (total_assets - total_debt)  # Simplified calculation\n",
    "\n",
    "# Check revenue and net income growth over 5 years\n",
    "revenue_growth = financials['Total Revenue'].pct_change().dropna().mean()\n",
    "income_growth = financials['Net Income'].pct_change().dropna().mean()\n",
    "\n",
    "# Decision criteria\n",
    "positive_factors = []\n",
    "negative_factors = []\n",
    "\n",
    "if revenue_growth > 0:\n",
    "    positive_factors.append(f\"Positive revenue growth over 5 years: {revenue_growth*100:.2f}%\")\n",
    "else:\n",
    "    negative_factors.append(f\"Negative revenue growth over 5 years: {revenue_growth*100:.2f}%\")\n",
    "\n",
    "if income_growth > 0:\n",
    "    positive_factors.append(f\"Positive net income growth over 5 years: {income_growth*100:.2f}%\")\n",
    "else:\n",
    "    negative_factors.append(f\"Negative net income growth over 5 years: {income_growth*100:.2f}%\")\n",
    "\n",
    "if debt_to_equity < 1:\n",
    "    positive_factors.append(f\"Healthy debt-to-equity ratio: {debt_to_equity:.2f}\")\n",
    "else:\n",
    "    negative_factors.append(f\"High debt-to-equity ratio: {debt_to_equity:.2f}\")\n",
    "\n",
    "if roe > 0.15:\n",
    "    positive_factors.append(f\"Strong return on equity (ROE): {roe:.2f}\")\n",
    "else:\n",
    "    negative_factors.append(f\"Weak return on equity (ROE): {roe:.2f}\")\n",
    "\n",
    "# Making the investment decision\n",
    "decision = \"Invest\" if len(positive_factors) > len(negative_factors) else \"Do Not Invest\"\n",
    "\n",
    "# Display the results\n",
    "print(f\"Investment Decision for the stock: {decision}\\n\")\n",
    "print(\"Positive Factors:\")\n",
    "for factor in positive_factors:\n",
    "    print(f\"- {factor}\")\n",
    "\n",
    "print(\"\\nNegative Factors:\")\n",
    "for factor in negative_factors:\n",
    "    print(f\"- {factor}\")\n"
   ]
  },
  {
   "cell_type": "code",
   "execution_count": 8,
   "id": "686823f7",
   "metadata": {},
   "outputs": [
    {
     "name": "stdout",
     "output_type": "stream",
     "text": [
      "Debt to Equity Ratio: 0.08\n",
      "Current Ratio: 1.00\n",
      "Earnings Per Share (EPS): 23.87\n",
      "Price to Earnings Ratio (P/E): 12.26\n",
      "Price to Book Ratio (P/B): 1.74\n",
      "Return on Equity (ROE): 14.22%\n",
      "Profit Margin: 17.71%\n",
      "Free Cash Flow: 5311940000.00\n",
      "Recommendation: Hold or Sell - Stock may not be undervalued or profitability is not sufficient.\n"
     ]
    }
   ],
   "source": [
    "import yfinance as yf\n",
    "# Fetch historical market data and financial statements\n",
    "balance_sheet = stock.balance_sheet.iloc[:, 0]  # Most recent year data\n",
    "income_statement = stock.financials.iloc[:, 0]\n",
    "cash_flow = stock.cash_flow.iloc[:, 0]\n",
    "hist_data = stock.history(period=\"5y\")\n",
    "\n",
    "# Ensure the required fields are available\n",
    "def get_value(dataframe, key, default=0):\n",
    "    return dataframe.get(key, default)\n",
    "\n",
    "# Calculate financial ratios\n",
    "total_debt = get_value(balance_sheet, 'Total Debt', 0)\n",
    "total_assets = get_value(balance_sheet, 'Total Assets', 1)  # Default to 1 to avoid division by zero\n",
    "total_liabilities = get_value(balance_sheet, 'Total Liab', 0)\n",
    "total_equity = total_assets - total_liabilities  # Simpler calculation if Total Stockholder Equity is missing\n",
    "debt_to_equity_ratio = total_debt / total_equity if total_equity != 0 else float('inf')\n",
    "current_ratio = get_value(balance_sheet, 'Total Current Assets', 1) / get_value(balance_sheet, 'Total Current Liabilities', 1)\n",
    "eps = get_value(income_statement, 'Diluted EPS', 1)\n",
    "pe_ratio = hist_data['Close'].iloc[-1] / eps if eps != 0 else float('inf')  # Avoid division by zero\n",
    "pb_ratio = hist_data['Close'].iloc[-1] / (total_equity / get_value(balance_sheet, 'Ordinary Shares Number', 1))\n",
    "roe = income_statement['Net Income'] / total_equity if total_equity != 0 else 0\n",
    "profit_margin = income_statement['Net Income'] / income_statement['Total Revenue'] if income_statement['Total Revenue'] != 0 else 0\n",
    "free_cash_flow = get_value(cash_flow, 'Free Cash Flow', 0)\n",
    "\n",
    "# Output the financial metrics\n",
    "print(f\"Debt to Equity Ratio: {debt_to_equity_ratio:.2f}\")\n",
    "print(f\"Current Ratio: {current_ratio:.2f}\")\n",
    "print(f\"Earnings Per Share (EPS): {eps:.2f}\")\n",
    "print(f\"Price to Earnings Ratio (P/E): {pe_ratio:.2f}\")\n",
    "print(f\"Price to Book Ratio (P/B): {pb_ratio:.2f}\")\n",
    "print(f\"Return on Equity (ROE): {roe:.2%}\")\n",
    "print(f\"Profit Margin: {profit_margin:.2%}\")\n",
    "print(f\"Free Cash Flow: {free_cash_flow:.2f}\")\n",
    "\n",
    "# Decision logic based on ratios\n",
    "if pe_ratio < 20 and roe > 0.15 and profit_margin > 0.10:\n",
    "    print(\"Recommendation: Buy - Stock is undervalued with strong profitability.\")\n",
    "else:\n",
    "    print(\"Recommendation: Hold or Sell - Stock may not be undervalued or profitability is not sufficient.\")\n"
   ]
  },
  {
   "cell_type": "code",
   "execution_count": 9,
   "id": "aca32ece",
   "metadata": {},
   "outputs": [
    {
     "name": "stdout",
     "output_type": "stream",
     "text": [
      "Net Debt: nan\n",
      "Operating Revenue: 24020870000.0\n",
      "Operating Expense: 11229800000.0\n",
      "EBITDA: 7032970000.0\n",
      "Free Cash Flow: 5311940000.0\n",
      "Interest Coverage Ratio: 29.58\n",
      "Operating Margin: 53.25%\n",
      "Recommendation: Buy - The company is operationally efficient and financially stable.\n"
     ]
    }
   ],
   "source": [
    "# Fetch historical market data and financial statements\n",
    "balance_sheet = stock.balance_sheet.iloc[:, 0]  # Most recent year data\n",
    "income_statement = stock.financials.iloc[:, 0]\n",
    "cash_flow = stock.cash_flow.iloc[:, 0]\n",
    "\n",
    "# Extract key financial metrics\n",
    "net_debt = balance_sheet.get('Net Debt', 0)\n",
    "operating_revenue = income_statement.get('Operating Revenue', 0)\n",
    "operating_expense = income_statement.get('Operating Expense', 0)\n",
    "ebitda = income_statement.get('EBITDA', 0)\n",
    "free_cash_flow = cash_flow.get('Free Cash Flow', 0)\n",
    "interest_expense = income_statement.get('Interest Expense', 1)  # Default to 1 to prevent division by zero\n",
    "\n",
    "# Calculate additional ratios\n",
    "interest_coverage_ratio = ebitda / interest_expense if interest_expense != 0 else float('inf')\n",
    "operating_margin = (operating_revenue - operating_expense) / operating_revenue if operating_revenue != 0 else 0\n",
    "\n",
    "# Print the calculated values\n",
    "print(f\"Net Debt: {net_debt}\")\n",
    "print(f\"Operating Revenue: {operating_revenue}\")\n",
    "print(f\"Operating Expense: {operating_expense}\")\n",
    "print(f\"EBITDA: {ebitda}\")\n",
    "print(f\"Free Cash Flow: {free_cash_flow}\")\n",
    "print(f\"Interest Coverage Ratio: {interest_coverage_ratio:.2f}\")\n",
    "print(f\"Operating Margin: {operating_margin:.2%}\")\n",
    "\n",
    "# Decision logic based on financial health\n",
    "if operating_margin > 0.15 and interest_coverage_ratio > 3 and free_cash_flow > 0:\n",
    "    print(\"Recommendation: Buy - The company is operationally efficient and financially stable.\")\n",
    "else:\n",
    "    print(\"Recommendation: Hold or Sell - Concerns over operational efficiency or financial stability.\")\n"
   ]
  },
  {
   "cell_type": "code",
   "execution_count": 10,
   "id": "c6eeb388",
   "metadata": {},
   "outputs": [],
   "source": [
    "#Balance Sheet Keys: ['Treasury Shares Number', 'Ordinary Shares Number', 'Share Issued', 'Net Debt', 'Total Debt', 'Tangible Book Value', 'Invested Capital', 'Working Capital', 'Net Tangible Assets', 'Capital Lease Obligations', 'Common Stock Equity', 'Total Capitalization', 'Total Equity Gross Minority Interest', 'Minority Interest', 'Stockholders Equity', 'Other Equity Interest', 'Gains Losses Not Affecting Retained Earnings', 'Other Equity Adjustments', 'Retained Earnings', 'Additional Paid In Capital', 'Capital Stock', 'Common Stock', 'Total Liabilities Net Minority Interest', 'Total Non Current Liabilities Net Minority Interest', 'Other Non Current Liabilities', 'Derivative Product Liabilities', 'Employee Benefits', 'Tradeand Other Payables Non Current', 'Non Current Deferred Liabilities', 'Non Current Deferred Revenue', 'Non Current Deferred Taxes Liabilities', 'Long Term Debt And Capital Lease Obligation', 'Long Term Capital Lease Obligation', 'Long Term Debt', 'Long Term Provisions', 'Current Liabilities', 'Other Current Liabilities', 'Current Deferred Liabilities', 'Current Deferred Revenue', 'Current Debt And Capital Lease Obligation', 'Current Capital Lease Obligation', 'Current Debt', 'Other Current Borrowings', 'Line Of Credit', 'Pensionand Other Post Retirement Benefit Plans Current', 'Current Provisions', 'Payables And Accrued Expenses', 'Current Accrued Expenses', 'Payables', 'Other Payable', 'Dividends Payable', 'Total Tax Payable', 'Accounts Payable', 'Total Assets', 'Total Non Current Assets', 'Other Non Current Assets', 'Non Current Prepaid Assets', 'Non Current Deferred Assets', 'Non Current Deferred Taxes Assets', 'Duefrom Related Parties Non Current', 'Non Current Accounts Receivable', 'Financial Assets', 'Investments And Advances', 'Other Investments', 'Investmentin Financial Assets', 'Available For Sale Securities', 'Financial Assets Designatedas Fair Value Through Profitor Loss Total', 'Long Term Equity Investment', 'Goodwill And Other Intangible Assets', 'Other Intangible Assets', 'Goodwill', 'Net PPE', 'Accumulated Depreciation', 'Gross PPE', 'Construction In Progress', 'Machinery Furniture Equipment', 'Buildings And Improvements', 'Land And Improvements', 'Properties', 'Current Assets', 'Other Current Assets', 'Hedging Assets Current', 'Assets Held For Sale Current', 'Current Deferred Assets', 'Prepaid Assets', 'Inventory', 'Finished Goods', 'Raw Materials', 'Receivables', 'Other Receivables', 'Duefrom Related Parties Current', 'Taxes Receivable', 'Accrued Interest Receivable', 'Accounts Receivable', 'Cash Cash Equivalents And Short Term Investments', 'Other Short Term Investments', 'Cash And Cash Equivalents', 'Cash Financial']\n",
    "#Income Statement Keys: ['Tax Effect Of Unusual Items', 'Tax Rate For Calcs', 'Normalized EBITDA', 'Total Unusual Items', 'Total Unusual Items Excluding Goodwill', 'Net Income From Continuing Operation Net Minority Interest', 'Reconciled Depreciation', 'Reconciled Cost Of Revenue', 'EBITDA', 'EBIT', 'Net Interest Income', 'Interest Expense', 'Interest Income', 'Normalized Income', 'Net Income From Continuing And Discontinued Operation', 'Total Expenses', 'Total Operating Income As Reported', 'Diluted Average Shares', 'Basic Average Shares', 'Diluted EPS', 'Basic EPS', 'Diluted NI Availto Com Stockholders', 'Net Income Common Stockholders', 'Net Income', 'Minority Interests', 'Net Income Including Noncontrolling Interests', 'Net Income Continuous Operations', 'Tax Provision', 'Pretax Income', 'Other Income Expense', 'Special Income Charges', 'Gain On Sale Of Ppe', 'Earnings From Equity Interest', 'Gain On Sale Of Security', 'Net Non Operating Interest Income Expense', 'Interest Expense Non Operating', 'Interest Income Non Operating', 'Operating Income', 'Operating Expense', 'Other Operating Expenses', 'Provision For Doubtful Accounts', 'Depreciation Amortization Depletion Income Statement', 'Depreciation And Amortization In Income Statement', 'Selling General And Administration', 'Selling And Marketing Expense', 'General And Administrative Expense', 'Other Gand A', 'Salaries And Wages', 'Gross Profit', 'Cost Of Revenue', 'Total Revenue', 'Operating Revenue']\n",
    "#Cash Flow Keys: ['Free Cash Flow', 'Repurchase Of Capital Stock', 'Repayment Of Debt', 'Issuance Of Debt', 'Issuance Of Capital Stock', 'Capital Expenditure', 'End Cash Position', 'Beginning Cash Position', 'Effect Of Exchange Rate Changes', 'Changes In Cash', 'Financing Cash Flow', 'Cash Flow From Continuing Financing Activities', 'Net Other Financing Charges', 'Interest Paid Cff', 'Cash Dividends Paid', 'Common Stock Dividend Paid', 'Net Common Stock Issuance', 'Common Stock Payments', 'Common Stock Issuance', 'Net Issuance Payments Of Debt', 'Net Long Term Debt Issuance', 'Long Term Debt Payments', 'Long Term Debt Issuance', 'Investing Cash Flow', 'Cash Flow From Continuing Investing Activities', 'Net Other Investing Changes', 'Interest Received Cfi', 'Dividends Received Cfi', 'Net Investment Purchase And Sale', 'Sale Of Investment', 'Purchase Of Investment', 'Net Business Purchase And Sale', 'Sale Of Business', 'Purchase Of Business', 'Net PPE Purchase And Sale', 'Sale Of PPE', 'Purchase Of PPE', 'Operating Cash Flow', 'Cash Flow From Continuing Operating Activities', 'Taxes Refund Paid', 'Change In Working Capital', 'Change In Other Working Capital', 'Change In Other Current Assets', 'Change In Payables And Accrued Expense', 'Change In Payable', 'Change In Account Payable', 'Change In Inventory', 'Change In Receivables', 'Changes In Account Receivables', 'Other Non Cash Items', 'Stock Based Compensation', 'Deferred Tax', 'Deferred Income Tax', 'Depreciation Amortization Depletion', 'Depreciation And Amortization', 'Depreciation', 'Operating Gains Losses', 'Earnings Losses From Equity Investments', 'Gain Loss On Investment Securities', 'Net Foreign Currency Exchange Gain Loss', 'Gain Loss On Sale Of PPE', 'Gain Loss On Sale Of Business', 'Net Income From Continuing Operations']\n"
   ]
  },
  {
   "cell_type": "code",
   "execution_count": 11,
   "id": "ad88d190",
   "metadata": {},
   "outputs": [
    {
     "name": "stdout",
     "output_type": "stream",
     "text": [
      "Current Ratio: 2.94\n",
      "Quick Ratio: 2.54\n",
      "Cash Ratio: 0.18\n",
      "Interest Coverage Ratio: 24.78\n",
      "Return on Equity: 19.16%\n",
      "Recommendation: Hold\n"
     ]
    }
   ],
   "source": [
    "# Fetch financial statements\n",
    "balance_sheet = stock.balance_sheet.iloc[:, 0]\n",
    "income_statement = stock.financials.iloc[:, 0]\n",
    "cash_flow = stock.cash_flow.iloc[:, 0]\n",
    "\n",
    "# Use available keys directly\n",
    "current_assets = balance_sheet.get('Current Assets', balance_sheet.get('Other Current Assets', 0) + balance_sheet.get('Cash And Cash Equivalents', 0) + balance_sheet.get('Accounts Receivable', 0) + balance_sheet.get('Inventory', 0))\n",
    "current_liabilities = balance_sheet.get('Current Liabilities', balance_sheet.get('Payables', 0) + balance_sheet.get('Other Current Liabilities', 0))\n",
    "\n",
    "# Calculate Current Ratio if possible\n",
    "current_ratio = current_assets / current_liabilities if current_liabilities != 0 else float('inf')\n",
    "\n",
    "# Other financial metrics\n",
    "quick_assets = current_assets - balance_sheet.get('Inventory', 0)\n",
    "quick_ratio = quick_assets / current_liabilities if current_liabilities != 0 else float('inf')\n",
    "cash_ratio = balance_sheet.get('Cash And Cash Equivalents', 0) / current_liabilities if current_liabilities != 0 else float('inf')\n",
    "\n",
    "# Solvency\n",
    "ebit = income_statement.get('EBIT', income_statement.get('Operating Income', 0))\n",
    "interest_expense = income_statement.get('Interest Expense', 1)  # Avoid division by zero\n",
    "interest_coverage_ratio = ebit / interest_expense if interest_expense != 0 else float('inf')\n",
    "\n",
    "# Profitability\n",
    "net_income = income_statement.get('Net Income', 0)\n",
    "roe = net_income / balance_sheet.get('Total Equity Gross Minority Interest', 1)  # Avoid division by zero\n",
    "\n",
    "# Decision based on metrics\n",
    "if current_ratio > 1.5 and quick_ratio > 1.0 and cash_ratio > 0.5 and interest_coverage_ratio > 3 and roe > 0.15:\n",
    "    recommendation = \"Buy\"\n",
    "elif current_ratio > 1.0 and interest_coverage_ratio > 2:\n",
    "    recommendation = \"Hold\"\n",
    "else:\n",
    "    recommendation = \"Sell\"\n",
    "\n",
    "# Print outputs\n",
    "print(f\"Current Ratio: {current_ratio:.2f}\")\n",
    "print(f\"Quick Ratio: {quick_ratio:.2f}\")\n",
    "print(f\"Cash Ratio: {cash_ratio:.2f}\")\n",
    "print(f\"Interest Coverage Ratio: {interest_coverage_ratio:.2f}\")\n",
    "print(f\"Return on Equity: {roe:.2%}\")\n",
    "print(f\"Recommendation: {recommendation}\")\n"
   ]
  },
  {
   "cell_type": "code",
   "execution_count": null,
   "id": "a8db1625",
   "metadata": {},
   "outputs": [],
   "source": []
  }
 ],
 "metadata": {
  "kernelspec": {
   "display_name": "Python 3 (ipykernel)",
   "language": "python",
   "name": "python3"
  },
  "language_info": {
   "codemirror_mode": {
    "name": "ipython",
    "version": 3
   },
   "file_extension": ".py",
   "mimetype": "text/x-python",
   "name": "python",
   "nbconvert_exporter": "python",
   "pygments_lexer": "ipython3",
   "version": "3.11.5"
  }
 },
 "nbformat": 4,
 "nbformat_minor": 5
}

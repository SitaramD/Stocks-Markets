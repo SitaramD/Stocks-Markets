{
 "cells": [
  {
   "cell_type": "code",
   "execution_count": null,
   "id": "innovative-rescue",
   "metadata": {},
   "outputs": [],
   "source": []
  },
  {
   "cell_type": "code",
   "execution_count": 1,
   "id": "premium-communications",
   "metadata": {},
   "outputs": [],
   "source": [
    "import oandapyV20\n",
    "import json\n",
    "import pandas as pd\n",
    "import numpy as np"
   ]
  },
  {
   "cell_type": "code",
   "execution_count": 2,
   "id": "verbal-framework",
   "metadata": {},
   "outputs": [],
   "source": [
    "# PULLING DATA FOR EURUSD bid price and Ask price"
   ]
  },
  {
   "cell_type": "code",
   "execution_count": 10,
   "id": "oriental-concentration",
   "metadata": {},
   "outputs": [
    {
     "name": "stdout",
     "output_type": "stream",
     "text": [
      "{\n",
      "  \"type\": \"PRICE\",\n",
      "  \"time\": \"2021-04-21T01:53:42.640562018Z\",\n",
      "  \"bids\": [\n",
      "    {\n",
      "      \"price\": \"1.20389\",\n",
      "      \"liquidity\": 10000000\n",
      "    }\n",
      "  ],\n",
      "  \"asks\": [\n",
      "    {\n",
      "      \"price\": \"1.20402\",\n",
      "      \"liquidity\": 10000000\n",
      "    }\n",
      "  ],\n",
      "  \"closeoutBid\": \"1.20389\",\n",
      "  \"closeoutAsk\": \"1.20402\",\n",
      "  \"status\": \"tradeable\",\n",
      "  \"tradeable\": true,\n",
      "  \"instrument\": \"EUR_USD\"\n",
      "}\n",
      "{\n",
      "  \"type\": \"PRICE\",\n",
      "  \"time\": \"2021-04-21T01:54:01.514322719Z\",\n",
      "  \"bids\": [\n",
      "    {\n",
      "      \"price\": \"1.20388\",\n",
      "      \"liquidity\": 10000000\n",
      "    }\n",
      "  ],\n",
      "  \"asks\": [\n",
      "    {\n",
      "      \"price\": \"1.20401\",\n",
      "      \"liquidity\": 10000000\n",
      "    }\n",
      "  ],\n",
      "  \"closeoutBid\": \"1.20388\",\n",
      "  \"closeoutAsk\": \"1.20401\",\n",
      "  \"status\": \"tradeable\",\n",
      "  \"tradeable\": true,\n",
      "  \"instrument\": \"EUR_USD\"\n",
      "}\n",
      "{\n",
      "  \"type\": \"PRICE\",\n",
      "  \"time\": \"2021-04-21T01:54:01.858784534Z\",\n",
      "  \"bids\": [\n",
      "    {\n",
      "      \"price\": \"1.20386\",\n",
      "      \"liquidity\": 10000000\n",
      "    }\n",
      "  ],\n",
      "  \"asks\": [\n",
      "    {\n",
      "      \"price\": \"1.20399\",\n",
      "      \"liquidity\": 10000000\n",
      "    }\n",
      "  ],\n",
      "  \"closeoutBid\": \"1.20386\",\n",
      "  \"closeoutAsk\": \"1.20399\",\n",
      "  \"status\": \"tradeable\",\n",
      "  \"tradeable\": true,\n",
      "  \"instrument\": \"EUR_USD\"\n",
      "}\n",
      "{\n",
      "  \"type\": \"PRICE\",\n",
      "  \"time\": \"2021-04-21T01:54:03.866358583Z\",\n",
      "  \"bids\": [\n",
      "    {\n",
      "      \"price\": \"1.20383\",\n",
      "      \"liquidity\": 10000000\n",
      "    }\n",
      "  ],\n",
      "  \"asks\": [\n",
      "    {\n",
      "      \"price\": \"1.20396\",\n",
      "      \"liquidity\": 10000000\n",
      "    }\n",
      "  ],\n",
      "  \"closeoutBid\": \"1.20383\",\n",
      "  \"closeoutAsk\": \"1.20396\",\n",
      "  \"status\": \"tradeable\",\n",
      "  \"tradeable\": true,\n",
      "  \"instrument\": \"EUR_USD\"\n",
      "}\n",
      "{\n",
      "  \"type\": \"HEARTBEAT\",\n",
      "  \"time\": \"2021-04-21T01:54:05.375870944Z\"\n",
      "}\n",
      "{\n",
      "  \"type\": \"PRICE\",\n",
      "  \"time\": \"2021-04-21T01:54:06.979314929Z\",\n",
      "  \"bids\": [\n",
      "    {\n",
      "      \"price\": \"1.20384\",\n",
      "      \"liquidity\": 10000000\n",
      "    }\n",
      "  ],\n",
      "  \"asks\": [\n",
      "    {\n",
      "      \"price\": \"1.20397\",\n",
      "      \"liquidity\": 10000000\n",
      "    }\n",
      "  ],\n",
      "  \"closeoutBid\": \"1.20384\",\n",
      "  \"closeoutAsk\": \"1.20397\",\n",
      "  \"status\": \"tradeable\",\n",
      "  \"tradeable\": true,\n",
      "  \"instrument\": \"EUR_USD\"\n",
      "}\n",
      "{\n",
      "  \"type\": \"HEARTBEAT\",\n",
      "  \"time\": \"2021-04-21T01:54:10.377003000Z\"\n",
      "}\n",
      "{\n",
      "  \"type\": \"PRICE\",\n",
      "  \"time\": \"2021-04-21T01:54:11.196056460Z\",\n",
      "  \"bids\": [\n",
      "    {\n",
      "      \"price\": \"1.20385\",\n",
      "      \"liquidity\": 10000000\n",
      "    }\n",
      "  ],\n",
      "  \"asks\": [\n",
      "    {\n",
      "      \"price\": \"1.20398\",\n",
      "      \"liquidity\": 10000000\n",
      "    }\n",
      "  ],\n",
      "  \"closeoutBid\": \"1.20385\",\n",
      "  \"closeoutAsk\": \"1.20398\",\n",
      "  \"status\": \"tradeable\",\n",
      "  \"tradeable\": true,\n",
      "  \"instrument\": \"EUR_USD\"\n",
      "}\n",
      "{\n",
      "  \"type\": \"PRICE\",\n",
      "  \"time\": \"2021-04-21T01:54:12.136810531Z\",\n",
      "  \"bids\": [\n",
      "    {\n",
      "      \"price\": \"1.20384\",\n",
      "      \"liquidity\": 10000000\n",
      "    }\n",
      "  ],\n",
      "  \"asks\": [\n",
      "    {\n",
      "      \"price\": \"1.20397\",\n",
      "      \"liquidity\": 10000000\n",
      "    }\n",
      "  ],\n",
      "  \"closeoutBid\": \"1.20384\",\n",
      "  \"closeoutAsk\": \"1.20397\",\n",
      "  \"status\": \"tradeable\",\n",
      "  \"tradeable\": true,\n",
      "  \"instrument\": \"EUR_USD\"\n",
      "}\n",
      "{\n",
      "  \"type\": \"HEARTBEAT\",\n",
      "  \"time\": \"2021-04-21T01:54:15.626647451Z\"\n",
      "}\n",
      "{\n",
      "  \"type\": \"PRICE\",\n",
      "  \"time\": \"2021-04-21T01:54:18.761211746Z\",\n",
      "  \"bids\": [\n",
      "    {\n",
      "      \"price\": \"1.20383\",\n",
      "      \"liquidity\": 10000000\n",
      "    }\n",
      "  ],\n",
      "  \"asks\": [\n",
      "    {\n",
      "      \"price\": \"1.20397\",\n",
      "      \"liquidity\": 10000000\n",
      "    }\n",
      "  ],\n",
      "  \"closeoutBid\": \"1.20383\",\n",
      "  \"closeoutAsk\": \"1.20397\",\n",
      "  \"status\": \"tradeable\",\n",
      "  \"tradeable\": true,\n",
      "  \"instrument\": \"EUR_USD\"\n",
      "}\n"
     ]
    },
    {
     "ename": "NameError",
     "evalue": "name 'MAXREC' is not defined",
     "output_type": "error",
     "traceback": [
      "\u001b[1;31m---------------------------------------------------------------------------\u001b[0m",
      "\u001b[1;31mNameError\u001b[0m                                 Traceback (most recent call last)",
      "\u001b[1;32m<ipython-input-10-e4fa53d68aa7>\u001b[0m in \u001b[0;36m<module>\u001b[1;34m\u001b[0m\n\u001b[0;32m     16\u001b[0m         \u001b[0mn\u001b[0m \u001b[1;33m+=\u001b[0m \u001b[1;36m1\u001b[0m\u001b[1;33m\u001b[0m\u001b[1;33m\u001b[0m\u001b[0m\n\u001b[0;32m     17\u001b[0m         \u001b[1;32mif\u001b[0m \u001b[0mn\u001b[0m \u001b[1;33m>\u001b[0m \u001b[1;36m10\u001b[0m\u001b[1;33m:\u001b[0m\u001b[1;33m\u001b[0m\u001b[1;33m\u001b[0m\u001b[0m\n\u001b[1;32m---> 18\u001b[1;33m             \u001b[0ms\u001b[0m\u001b[1;33m.\u001b[0m\u001b[0mterminate\u001b[0m\u001b[1;33m(\u001b[0m\u001b[1;34m\"maxrecs received: {}\"\u001b[0m\u001b[1;33m.\u001b[0m\u001b[0mformat\u001b[0m\u001b[1;33m(\u001b[0m\u001b[0mMAXREC\u001b[0m\u001b[1;33m)\u001b[0m\u001b[1;33m)\u001b[0m\u001b[1;33m\u001b[0m\u001b[1;33m\u001b[0m\u001b[0m\n\u001b[0m\u001b[0;32m     19\u001b[0m \u001b[1;33m\u001b[0m\u001b[0m\n\u001b[0;32m     20\u001b[0m \u001b[1;32mexcept\u001b[0m \u001b[0mV20Error\u001b[0m \u001b[1;32mas\u001b[0m \u001b[0me\u001b[0m\u001b[1;33m:\u001b[0m\u001b[1;33m\u001b[0m\u001b[1;33m\u001b[0m\u001b[0m\n",
      "\u001b[1;31mNameError\u001b[0m: name 'MAXREC' is not defined"
     ]
    }
   ],
   "source": [
    "\n",
    "from oandapyV20 import API\n",
    "from oandapyV20.exceptions import V20Error\n",
    "from oandapyV20.endpoints.pricing import PricingStream\n",
    "\n",
    "accountID = \"101-001-18825179-001\"\n",
    "access_token=\"59392a62d9effaa3ddff27a7842ba293-50d2fba5baa76925989efb1efdedfe7c\"\n",
    "\n",
    "api = API(access_token=access_token, environment=\"practice\")\n",
    "\n",
    "instruments = \"EUR_USD\"\n",
    "s = PricingStream(accountID=accountID, params={\"instruments\":instruments})\n",
    "try:\n",
    "    n = 0\n",
    "    for R in api.request(s):\n",
    "        print(json.dumps(R, indent=2))\n",
    "        n += 1\n",
    "        if n > 10:\n",
    "            s.terminate(\"maxrecs received: {}\".format(MAXREC))\n",
    "\n",
    "except V20Error as e:\n",
    "    print(\"Error: {}\".format(e))"
   ]
  },
  {
   "cell_type": "code",
   "execution_count": null,
   "id": "instrumental-vermont",
   "metadata": {},
   "outputs": [],
   "source": []
  },
  {
   "cell_type": "code",
   "execution_count": null,
   "id": "automatic-shift",
   "metadata": {},
   "outputs": [],
   "source": [
    "print(s)"
   ]
  },
  {
   "cell_type": "code",
   "execution_count": 11,
   "id": "creative-hydrogen",
   "metadata": {},
   "outputs": [
    {
     "name": "stdout",
     "output_type": "stream",
     "text": [
      "{'type': 'PRICE', 'time': '2021-04-21T01:54:18.761211746Z', 'bids': [{'price': '1.20383', 'liquidity': 10000000}], 'asks': [{'price': '1.20397', 'liquidity': 10000000}], 'closeoutBid': '1.20383', 'closeoutAsk': '1.20397', 'status': 'tradeable', 'tradeable': True, 'instrument': 'EUR_USD'}\n"
     ]
    }
   ],
   "source": [
    "print(R)"
   ]
  },
  {
   "cell_type": "code",
   "execution_count": 12,
   "id": "interior-cooling",
   "metadata": {},
   "outputs": [
    {
     "name": "stdout",
     "output_type": "stream",
     "text": [
      "<class 'dict'>\n"
     ]
    }
   ],
   "source": [
    "print(type(R))"
   ]
  },
  {
   "cell_type": "code",
   "execution_count": 13,
   "id": "sensitive-tender",
   "metadata": {},
   "outputs": [
    {
     "name": "stdout",
     "output_type": "stream",
     "text": [
      "9\n"
     ]
    }
   ],
   "source": [
    "print(len(R))"
   ]
  },
  {
   "cell_type": "code",
   "execution_count": 14,
   "id": "italic-elite",
   "metadata": {},
   "outputs": [
    {
     "data": {
      "text/plain": [
       "'EUR_USD'"
      ]
     },
     "execution_count": 14,
     "metadata": {},
     "output_type": "execute_result"
    }
   ],
   "source": [
    "# pulling instrument name\n",
    "currency_pair= R[\"instrument\"]\n",
    "currency_pair"
   ]
  },
  {
   "cell_type": "code",
   "execution_count": 15,
   "id": "organized-priest",
   "metadata": {},
   "outputs": [
    {
     "data": {
      "text/plain": [
       "1.20383"
      ]
     },
     "execution_count": 15,
     "metadata": {},
     "output_type": "execute_result"
    }
   ],
   "source": [
    "# pulling bid price\n",
    "closeoutbid_price= R[\"closeoutBid\"]\n",
    "closeoutbid_price = float(closeoutbid_price)\n",
    "closeoutbid_price"
   ]
  },
  {
   "cell_type": "code",
   "execution_count": 16,
   "id": "sweet-omega",
   "metadata": {},
   "outputs": [
    {
     "data": {
      "text/plain": [
       "1.20397"
      ]
     },
     "execution_count": 16,
     "metadata": {},
     "output_type": "execute_result"
    }
   ],
   "source": [
    "# Pulling ask price\n",
    "closeoutask_price= R[\"closeoutAsk\"]\n",
    "closeoutask_price = float(closeoutask_price)\n",
    "closeoutask_price"
   ]
  },
  {
   "cell_type": "code",
   "execution_count": 17,
   "id": "perfect-google",
   "metadata": {},
   "outputs": [
    {
     "name": "stdout",
     "output_type": "stream",
     "text": [
      "1.20383\n",
      "1.20397\n"
     ]
    }
   ],
   "source": [
    "print(closeoutbid_price)\n",
    "print(closeoutask_price)"
   ]
  },
  {
   "cell_type": "code",
   "execution_count": 18,
   "id": "parental-spice",
   "metadata": {},
   "outputs": [
    {
     "name": "stdout",
     "output_type": "stream",
     "text": [
      "<class 'float'>\n"
     ]
    }
   ],
   "source": [
    "print(type(closeoutbid_price))"
   ]
  },
  {
   "cell_type": "code",
   "execution_count": 19,
   "id": "atmospheric-greenhouse",
   "metadata": {},
   "outputs": [
    {
     "name": "stdout",
     "output_type": "stream",
     "text": [
      "<class 'float'>\n"
     ]
    }
   ],
   "source": [
    "print(type(closeoutask_price))"
   ]
  },
  {
   "cell_type": "code",
   "execution_count": 20,
   "id": "modular-insertion",
   "metadata": {},
   "outputs": [
    {
     "data": {
      "text/plain": [
       "1.2039"
      ]
     },
     "execution_count": 20,
     "metadata": {},
     "output_type": "execute_result"
    }
   ],
   "source": [
    "# Considering the average price of Bid price and Ask Price for price comparison\n",
    "price=float((closeoutbid_price + closeoutask_price)/(2))\n",
    "price"
   ]
  },
  {
   "cell_type": "code",
   "execution_count": 21,
   "id": "undefined-affiliate",
   "metadata": {},
   "outputs": [],
   "source": [
    "# # PULL DATA FOR GRANULARITY OF 15 M CANDLESTCIKS HIGH AND LOW VALUES"
   ]
  },
  {
   "cell_type": "code",
   "execution_count": 22,
   "id": "pediatric-joshua",
   "metadata": {},
   "outputs": [],
   "source": [
    "# https://oanda-api-v20.readthedocs.io/en/latest/oandapyV20.endpoints.html"
   ]
  },
  {
   "cell_type": "code",
   "execution_count": 58,
   "id": "unexpected-stake",
   "metadata": {},
   "outputs": [
    {
     "name": "stdout",
     "output_type": "stream",
     "text": [
      "{'instrument': 'EUR_USD', 'granularity': 'M15', 'candles': [{'complete': False, 'volume': 208, 'time': '2021-04-21T02:30:00.000000000Z', 'mid': {'o': '1.20324', 'h': '1.20346', 'l': '1.20324', 'c': '1.20325'}}]}\n"
     ]
    }
   ],
   "source": [
    "#Params example:\n",
    "#classoandapyV20.endpoints.instruments.InstrumentsCandles(instrument, params=None)\n",
    "#Bases: oandapyV20.endpoints.instruments.Instruments\n",
    "#Get candle data for a specified Instrument.\n",
    "ENDPOINT= 'v3/instruments/{instrument}/candles'\n",
    "EXPECTED_STATUS= 200\n",
    "METHOD= 'GET'\n",
    "#__init__(\"DE30_EUR\", params=None)\n",
    "\n",
    "import oandapyV20\n",
    "import oandapyV20.endpoints.instruments as instruments\n",
    "client = oandapyV20.API(access_token='59392a62d9effaa3ddff27a7842ba293-50d2fba5baa76925989efb1efdedfe7c')\n",
    "params = { \"count\": 1, \"granularity\": \"M15\"}\n",
    "        \n",
    "r = instruments.InstrumentsCandles(instrument=\"EUR_USD\",\n",
    "                                    params=params)\n",
    "client.request(r)\n",
    "print(r.response)"
   ]
  },
  {
   "cell_type": "code",
   "execution_count": 59,
   "id": "auburn-bouquet",
   "metadata": {},
   "outputs": [
    {
     "name": "stdout",
     "output_type": "stream",
     "text": [
      "EUR_USD\n"
     ]
    }
   ],
   "source": [
    "print(r.response[\"instrument\"])"
   ]
  },
  {
   "cell_type": "code",
   "execution_count": 60,
   "id": "personalized-maryland",
   "metadata": {},
   "outputs": [
    {
     "name": "stdout",
     "output_type": "stream",
     "text": [
      "M15\n"
     ]
    }
   ],
   "source": [
    "print(r.response[\"granularity\"])"
   ]
  },
  {
   "cell_type": "code",
   "execution_count": 61,
   "id": "appropriate-shock",
   "metadata": {},
   "outputs": [
    {
     "name": "stdout",
     "output_type": "stream",
     "text": [
      "[{'complete': False, 'volume': 208, 'time': '2021-04-21T02:30:00.000000000Z', 'mid': {'o': '1.20324', 'h': '1.20346', 'l': '1.20324', 'c': '1.20325'}}]\n"
     ]
    }
   ],
   "source": [
    "print(r.response[\"candles\"])"
   ]
  },
  {
   "cell_type": "code",
   "execution_count": 62,
   "id": "comic-crossing",
   "metadata": {},
   "outputs": [
    {
     "data": {
      "text/plain": [
       "[{'complete': False,\n",
       "  'volume': 208,\n",
       "  'time': '2021-04-21T02:30:00.000000000Z',\n",
       "  'mid': {'o': '1.20324', 'h': '1.20346', 'l': '1.20324', 'c': '1.20325'}}]"
      ]
     },
     "execution_count": 62,
     "metadata": {},
     "output_type": "execute_result"
    }
   ],
   "source": [
    "k = r.response[\"candles\"]\n",
    "k"
   ]
  },
  {
   "cell_type": "code",
   "execution_count": 63,
   "id": "caring-motorcycle",
   "metadata": {},
   "outputs": [
    {
     "name": "stdout",
     "output_type": "stream",
     "text": [
      "<class 'list'>\n"
     ]
    }
   ],
   "source": [
    "print(type(k))"
   ]
  },
  {
   "cell_type": "code",
   "execution_count": 64,
   "id": "finite-transmission",
   "metadata": {},
   "outputs": [
    {
     "name": "stdout",
     "output_type": "stream",
     "text": [
      "1.20346\n"
     ]
    },
    {
     "data": {
      "text/plain": [
       "'1.20346'"
      ]
     },
     "execution_count": 64,
     "metadata": {},
     "output_type": "execute_result"
    }
   ],
   "source": [
    "# Pulling high value form the 15 minute candlestick - from the List\n",
    "print(k[0][\"mid\"][\"h\"])\n",
    "candle_high_value = k[0][\"mid\"][\"h\"]\n",
    "candle_high_value"
   ]
  },
  {
   "cell_type": "code",
   "execution_count": 65,
   "id": "charming-exercise",
   "metadata": {},
   "outputs": [
    {
     "name": "stdout",
     "output_type": "stream",
     "text": [
      "1.20324\n"
     ]
    },
    {
     "data": {
      "text/plain": [
       "'1.20324'"
      ]
     },
     "execution_count": 65,
     "metadata": {},
     "output_type": "execute_result"
    }
   ],
   "source": [
    "# Pulling high value form the 15 minute candlestick - from the List\n",
    "print(k[0][\"mid\"][\"l\"])\n",
    "candle_low_value = k[0][\"mid\"][\"l\"]\n",
    "candle_low_value"
   ]
  },
  {
   "cell_type": "code",
   "execution_count": 67,
   "id": "oriented-depth",
   "metadata": {},
   "outputs": [
    {
     "name": "stdout",
     "output_type": "stream",
     "text": [
      "1.20346\n",
      "1.20324\n",
      "1.2039\n"
     ]
    }
   ],
   "source": [
    "# Considering these values\n",
    "print(candle_high_value) # High value of 15 minute Incomplete candlestick\n",
    "print(candle_low_value)  # Low value of 15 minute Incomplete candlestick\n",
    "print(price)   # Average price of the currency pair"
   ]
  },
  {
   "cell_type": "code",
   "execution_count": 68,
   "id": "narrow-viking",
   "metadata": {},
   "outputs": [],
   "source": [
    "# Coding for writing a buy and sell signal "
   ]
  },
  {
   "cell_type": "code",
   "execution_count": 69,
   "id": "boring-compatibility",
   "metadata": {},
   "outputs": [
    {
     "ename": "SyntaxError",
     "evalue": "EOF while scanning triple-quoted string literal (<ipython-input-69-1d0f3ed95239>, line 34)",
     "output_type": "error",
     "traceback": [
      "\u001b[1;36m  File \u001b[1;32m\"<ipython-input-69-1d0f3ed95239>\"\u001b[1;36m, line \u001b[1;32m34\u001b[0m\n\u001b[1;33m    ''''''''''''''''''''''''''''''''''''''''''''''''''''''''''''''''''''''''''''''''''''''''''''''''''''''''''''''\u001b[0m\n\u001b[1;37m                                                                                                                  \n^\u001b[0m\n\u001b[1;31mSyntaxError\u001b[0m\u001b[1;31m:\u001b[0m EOF while scanning triple-quoted string literal\n"
     ]
    }
   ],
   "source": [
    "'''''''''''''''''''''''''''''''''''''''''''''''''''''''''''''''''''''''''''''''''''''''''''''\n",
    "# How to trade ORB strategy\n",
    "Opening Range Breakout (ORB) is a commonly used as an intraday trading systems.\n",
    "\n",
    "\n",
    "Trading Strategy\n",
    "\n",
    "Any stock creates a range in the first 15 minutes of trading in a day. This is calling Opening Range. \n",
    "The highs and lows of this time frame is taken as entry and exit parameters.\n",
    "\n",
    "1. Buy when the stock moves above the Opening Range high.\n",
    "2. Sell when the stock moves below the Opening Range low.\n",
    "\n",
    "\n",
    "We generally apply it over Nifty50 Index.\n",
    "\n",
    "Example:\n",
    "\n",
    "Nifty50 opens at 13500 and in 15 minutes minimum(low) value is 13450 and maximum(high) value is 13550. \n",
    "The ORB range becomes 13450 to 13550.\n",
    "\n",
    "\n",
    "Rules for Buy\n",
    "\n",
    "Buy when the stock price crosses above the opening range\n",
    "\n",
    "Initial Stop loss — Low of the Opening Range.\n",
    "\n",
    "Rules for Sell\n",
    "\n",
    "Sell when the stock price crosses below the opening range.\n",
    "\n",
    "Initial Stop loss — High of the Opening Rang\n",
    "''''''''''''''''''''''''''''''''''''''''''''''''''''''''''''''''''''''''''''''''''''''''''''''''''''''''''''''"
   ]
  },
  {
   "cell_type": "code",
   "execution_count": 70,
   "id": "alternate-summer",
   "metadata": {},
   "outputs": [],
   "source": [
    "# Applying Strategy for generating a buy or sell signal"
   ]
  },
  {
   "cell_type": "code",
   "execution_count": 77,
   "id": "administrative-vitamin",
   "metadata": {},
   "outputs": [
    {
     "ename": "SyntaxError",
     "evalue": "invalid syntax (<ipython-input-77-a1e1c6a30780>, line 19)",
     "output_type": "error",
     "traceback": [
      "\u001b[1;36m  File \u001b[1;32m\"<ipython-input-77-a1e1c6a30780>\"\u001b[1;36m, line \u001b[1;32m19\u001b[0m\n\u001b[1;33m    mktOrder = MarketOrderRequest( instrument=\"EUR_USD\",\u001b[0m\n\u001b[1;37m             ^\u001b[0m\n\u001b[1;31mSyntaxError\u001b[0m\u001b[1;31m:\u001b[0m invalid syntax\n"
     ]
    }
   ],
   "source": [
    "if (price > candle_high_value):\n",
    "       {\n",
    "           # Generate Buy signal\n",
    "            buy(price):\n",
    "            print(\" Generated buy signal @ :  \", price )\n",
    "       }\n",
    "elif (price < candle_low_value):\n",
    "        # Generate Sell signal if last traded price is less than 15 minute Low\n",
    "       \n",
    "        {\n",
    "            sell(price):\n",
    "            print(\" Generated sell signal @ :  \", price )\n",
    "        }\n",
    "    \n",
    "print(\" None of the conditions are statisfied, NO SIGNAL\")\n",
    "\n",
    "def buy (price):\n",
    "    {\n",
    "        mktOrder = MarketOrderRequest( instrument=\"EUR_USD\",\n",
    "        units=10000,\n",
    "        takeProfitOnFill=TakeProfitDetails(price=EUR_USD_TAKE_PROFIT).data,\n",
    "        stopLossOnFill=StopLossDetails(price=EUR_USD_STOP_LOSS).data)\n",
    "        return()\n",
    "\n",
    "    }\n",
    "    \n",
    "def sell(price):\n",
    "    {\n",
    "        mktOrder = MarketOrderRequest(instrument=\"EUR_USD\",\n",
    "        units=10000,\n",
    "        takeProfitOnFill=TakeProfitDetails(price=EUR_USD_TAKE_PROFIT).data,\n",
    "        stopLossOnFill=StopLossDetails(price=EUR_USD_STOP_LOSS).data)\n",
    "\n",
    "    }\n",
    " # Comparing last traded price with 15 Minutes candlestick low and High for generating a sell signal    \n",
    "\n"
   ]
  },
  {
   "cell_type": "code",
   "execution_count": null,
   "id": "historical-colonial",
   "metadata": {},
   "outputs": [],
   "source": []
  }
 ],
 "metadata": {
  "kernelspec": {
   "display_name": "Python 3",
   "language": "python",
   "name": "python3"
  },
  "language_info": {
   "codemirror_mode": {
    "name": "ipython",
    "version": 3
   },
   "file_extension": ".py",
   "mimetype": "text/x-python",
   "name": "python",
   "nbconvert_exporter": "python",
   "pygments_lexer": "ipython3",
   "version": "3.8.5"
  }
 },
 "nbformat": 4,
 "nbformat_minor": 5
}

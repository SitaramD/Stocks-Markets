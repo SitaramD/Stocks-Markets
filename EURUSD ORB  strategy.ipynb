{
 "cells": [
  {
   "cell_type": "code",
   "execution_count": null,
   "id": "innovative-rescue",
   "metadata": {},
   "outputs": [],
   "source": []
  },
  {
   "cell_type": "code",
   "execution_count": 1,
   "id": "premium-communications",
   "metadata": {},
   "outputs": [],
   "source": [
    "import oandapyV20\n",
    "import json\n",
    "import pandas as pd\n",
    "import numpy as np"
   ]
  },
  {
   "cell_type": "code",
   "execution_count": 2,
   "id": "verbal-framework",
   "metadata": {},
   "outputs": [],
   "source": [
    "# PULLING DATA FOR EURUSD bid price and Ask price"
   ]
  },
  {
   "cell_type": "code",
   "execution_count": 90,
   "id": "oriental-concentration",
   "metadata": {},
   "outputs": [
    {
     "name": "stdout",
     "output_type": "stream",
     "text": [
      "{\n",
      "  \"type\": \"PRICE\",\n",
      "  \"time\": \"2021-04-21T11:49:12.471387609Z\",\n",
      "  \"bids\": [\n",
      "    {\n",
      "      \"price\": \"1.20050\",\n",
      "      \"liquidity\": 10000000\n",
      "    }\n",
      "  ],\n",
      "  \"asks\": [\n",
      "    {\n",
      "      \"price\": \"1.20061\",\n",
      "      \"liquidity\": 10000000\n",
      "    }\n",
      "  ],\n",
      "  \"closeoutBid\": \"1.20050\",\n",
      "  \"closeoutAsk\": \"1.20061\",\n",
      "  \"status\": \"tradeable\",\n",
      "  \"tradeable\": true,\n",
      "  \"instrument\": \"EUR_USD\"\n",
      "}\n",
      "{\n",
      "  \"type\": \"PRICE\",\n",
      "  \"time\": \"2021-04-21T11:49:13.414924255Z\",\n",
      "  \"bids\": [\n",
      "    {\n",
      "      \"price\": \"1.20052\",\n",
      "      \"liquidity\": 10000000\n",
      "    }\n",
      "  ],\n",
      "  \"asks\": [\n",
      "    {\n",
      "      \"price\": \"1.20063\",\n",
      "      \"liquidity\": 10000000\n",
      "    }\n",
      "  ],\n",
      "  \"closeoutBid\": \"1.20052\",\n",
      "  \"closeoutAsk\": \"1.20063\",\n",
      "  \"status\": \"tradeable\",\n",
      "  \"tradeable\": true,\n",
      "  \"instrument\": \"EUR_USD\"\n",
      "}\n",
      "{\n",
      "  \"type\": \"PRICE\",\n",
      "  \"time\": \"2021-04-21T11:49:13.846706397Z\",\n",
      "  \"bids\": [\n",
      "    {\n",
      "      \"price\": \"1.20055\",\n",
      "      \"liquidity\": 10000000\n",
      "    }\n",
      "  ],\n",
      "  \"asks\": [\n",
      "    {\n",
      "      \"price\": \"1.20065\",\n",
      "      \"liquidity\": 10000000\n",
      "    }\n",
      "  ],\n",
      "  \"closeoutBid\": \"1.20055\",\n",
      "  \"closeoutAsk\": \"1.20065\",\n",
      "  \"status\": \"tradeable\",\n",
      "  \"tradeable\": true,\n",
      "  \"instrument\": \"EUR_USD\"\n",
      "}\n",
      "{\n",
      "  \"type\": \"PRICE\",\n",
      "  \"time\": \"2021-04-21T11:49:14.161722119Z\",\n",
      "  \"bids\": [\n",
      "    {\n",
      "      \"price\": \"1.20057\",\n",
      "      \"liquidity\": 10000000\n",
      "    }\n",
      "  ],\n",
      "  \"asks\": [\n",
      "    {\n",
      "      \"price\": \"1.20068\",\n",
      "      \"liquidity\": 10000000\n",
      "    }\n",
      "  ],\n",
      "  \"closeoutBid\": \"1.20057\",\n",
      "  \"closeoutAsk\": \"1.20068\",\n",
      "  \"status\": \"tradeable\",\n",
      "  \"tradeable\": true,\n",
      "  \"instrument\": \"EUR_USD\"\n",
      "}\n",
      "{\n",
      "  \"type\": \"PRICE\",\n",
      "  \"time\": \"2021-04-21T11:49:16.524830239Z\",\n",
      "  \"bids\": [\n",
      "    {\n",
      "      \"price\": \"1.20059\",\n",
      "      \"liquidity\": 10000000\n",
      "    }\n",
      "  ],\n",
      "  \"asks\": [\n",
      "    {\n",
      "      \"price\": \"1.20070\",\n",
      "      \"liquidity\": 10000000\n",
      "    }\n",
      "  ],\n",
      "  \"closeoutBid\": \"1.20059\",\n",
      "  \"closeoutAsk\": \"1.20070\",\n",
      "  \"status\": \"tradeable\",\n",
      "  \"tradeable\": true,\n",
      "  \"instrument\": \"EUR_USD\"\n",
      "}\n",
      "{\n",
      "  \"type\": \"HEARTBEAT\",\n",
      "  \"time\": \"2021-04-21T11:49:17.819435524Z\"\n",
      "}\n",
      "{\n",
      "  \"type\": \"PRICE\",\n",
      "  \"time\": \"2021-04-21T11:49:18.944025074Z\",\n",
      "  \"bids\": [\n",
      "    {\n",
      "      \"price\": \"1.20057\",\n",
      "      \"liquidity\": 10000000\n",
      "    }\n",
      "  ],\n",
      "  \"asks\": [\n",
      "    {\n",
      "      \"price\": \"1.20068\",\n",
      "      \"liquidity\": 10000000\n",
      "    }\n",
      "  ],\n",
      "  \"closeoutBid\": \"1.20057\",\n",
      "  \"closeoutAsk\": \"1.20068\",\n",
      "  \"status\": \"tradeable\",\n",
      "  \"tradeable\": true,\n",
      "  \"instrument\": \"EUR_USD\"\n",
      "}\n",
      "{\n",
      "  \"type\": \"PRICE\",\n",
      "  \"time\": \"2021-04-21T11:49:19.083299346Z\",\n",
      "  \"bids\": [\n",
      "    {\n",
      "      \"price\": \"1.20060\",\n",
      "      \"liquidity\": 10000000\n",
      "    }\n",
      "  ],\n",
      "  \"asks\": [\n",
      "    {\n",
      "      \"price\": \"1.20072\",\n",
      "      \"liquidity\": 10000000\n",
      "    }\n",
      "  ],\n",
      "  \"closeoutBid\": \"1.20060\",\n",
      "  \"closeoutAsk\": \"1.20072\",\n",
      "  \"status\": \"tradeable\",\n",
      "  \"tradeable\": true,\n",
      "  \"instrument\": \"EUR_USD\"\n",
      "}\n",
      "{\n",
      "  \"type\": \"HEARTBEAT\",\n",
      "  \"time\": \"2021-04-21T11:49:22.819906420Z\"\n",
      "}\n",
      "{\n",
      "  \"type\": \"HEARTBEAT\",\n",
      "  \"time\": \"2021-04-21T11:49:27.820907362Z\"\n",
      "}\n",
      "{\n",
      "  \"type\": \"PRICE\",\n",
      "  \"time\": \"2021-04-21T11:49:30.206246440Z\",\n",
      "  \"bids\": [\n",
      "    {\n",
      "      \"price\": \"1.20059\",\n",
      "      \"liquidity\": 10000000\n",
      "    }\n",
      "  ],\n",
      "  \"asks\": [\n",
      "    {\n",
      "      \"price\": \"1.20069\",\n",
      "      \"liquidity\": 10000000\n",
      "    }\n",
      "  ],\n",
      "  \"closeoutBid\": \"1.20059\",\n",
      "  \"closeoutAsk\": \"1.20069\",\n",
      "  \"status\": \"tradeable\",\n",
      "  \"tradeable\": true,\n",
      "  \"instrument\": \"EUR_USD\"\n",
      "}\n"
     ]
    },
    {
     "ename": "NameError",
     "evalue": "name 'MAXREC' is not defined",
     "output_type": "error",
     "traceback": [
      "\u001b[1;31m---------------------------------------------------------------------------\u001b[0m",
      "\u001b[1;31mNameError\u001b[0m                                 Traceback (most recent call last)",
      "\u001b[1;32m<ipython-input-90-e4fa53d68aa7>\u001b[0m in \u001b[0;36m<module>\u001b[1;34m\u001b[0m\n\u001b[0;32m     16\u001b[0m         \u001b[0mn\u001b[0m \u001b[1;33m+=\u001b[0m \u001b[1;36m1\u001b[0m\u001b[1;33m\u001b[0m\u001b[1;33m\u001b[0m\u001b[0m\n\u001b[0;32m     17\u001b[0m         \u001b[1;32mif\u001b[0m \u001b[0mn\u001b[0m \u001b[1;33m>\u001b[0m \u001b[1;36m10\u001b[0m\u001b[1;33m:\u001b[0m\u001b[1;33m\u001b[0m\u001b[1;33m\u001b[0m\u001b[0m\n\u001b[1;32m---> 18\u001b[1;33m             \u001b[0ms\u001b[0m\u001b[1;33m.\u001b[0m\u001b[0mterminate\u001b[0m\u001b[1;33m(\u001b[0m\u001b[1;34m\"maxrecs received: {}\"\u001b[0m\u001b[1;33m.\u001b[0m\u001b[0mformat\u001b[0m\u001b[1;33m(\u001b[0m\u001b[0mMAXREC\u001b[0m\u001b[1;33m)\u001b[0m\u001b[1;33m)\u001b[0m\u001b[1;33m\u001b[0m\u001b[1;33m\u001b[0m\u001b[0m\n\u001b[0m\u001b[0;32m     19\u001b[0m \u001b[1;33m\u001b[0m\u001b[0m\n\u001b[0;32m     20\u001b[0m \u001b[1;32mexcept\u001b[0m \u001b[0mV20Error\u001b[0m \u001b[1;32mas\u001b[0m \u001b[0me\u001b[0m\u001b[1;33m:\u001b[0m\u001b[1;33m\u001b[0m\u001b[1;33m\u001b[0m\u001b[0m\n",
      "\u001b[1;31mNameError\u001b[0m: name 'MAXREC' is not defined"
     ]
    }
   ],
   "source": [
    "\n",
    "from oandapyV20 import API\n",
    "from oandapyV20.exceptions import V20Error\n",
    "from oandapyV20.endpoints.pricing import PricingStream\n",
    "\n",
    "accountID = \"101-001-18825179-001\"\n",
    "access_token=\"59392a62d9effaa3ddff27a7842ba293-50d2fba5baa76925989efb1efdedfe7c\"\n",
    "\n",
    "api = API(access_token=access_token, environment=\"practice\")\n",
    "\n",
    "instruments = \"EUR_USD\"\n",
    "s = PricingStream(accountID=accountID, params={\"instruments\":instruments})\n",
    "try:\n",
    "    n = 0\n",
    "    for R in api.request(s):\n",
    "        print(json.dumps(R, indent=2))\n",
    "        n += 1\n",
    "        if n > 10:\n",
    "            s.terminate(\"maxrecs received: {}\".format(MAXREC))\n",
    "\n",
    "except V20Error as e:\n",
    "    print(\"Error: {}\".format(e))"
   ]
  },
  {
   "cell_type": "code",
   "execution_count": null,
   "id": "instrumental-vermont",
   "metadata": {},
   "outputs": [],
   "source": []
  },
  {
   "cell_type": "code",
   "execution_count": null,
   "id": "automatic-shift",
   "metadata": {},
   "outputs": [],
   "source": [
    "print(s)"
   ]
  },
  {
   "cell_type": "code",
   "execution_count": 11,
   "id": "creative-hydrogen",
   "metadata": {},
   "outputs": [
    {
     "name": "stdout",
     "output_type": "stream",
     "text": [
      "{'type': 'PRICE', 'time': '2021-04-21T01:54:18.761211746Z', 'bids': [{'price': '1.20383', 'liquidity': 10000000}], 'asks': [{'price': '1.20397', 'liquidity': 10000000}], 'closeoutBid': '1.20383', 'closeoutAsk': '1.20397', 'status': 'tradeable', 'tradeable': True, 'instrument': 'EUR_USD'}\n"
     ]
    }
   ],
   "source": [
    "print(R)"
   ]
  },
  {
   "cell_type": "code",
   "execution_count": 12,
   "id": "interior-cooling",
   "metadata": {},
   "outputs": [
    {
     "name": "stdout",
     "output_type": "stream",
     "text": [
      "<class 'dict'>\n"
     ]
    }
   ],
   "source": [
    "print(type(R))"
   ]
  },
  {
   "cell_type": "code",
   "execution_count": 13,
   "id": "sensitive-tender",
   "metadata": {},
   "outputs": [
    {
     "name": "stdout",
     "output_type": "stream",
     "text": [
      "9\n"
     ]
    }
   ],
   "source": [
    "print(len(R))"
   ]
  },
  {
   "cell_type": "code",
   "execution_count": 14,
   "id": "italic-elite",
   "metadata": {},
   "outputs": [
    {
     "data": {
      "text/plain": [
       "'EUR_USD'"
      ]
     },
     "execution_count": 14,
     "metadata": {},
     "output_type": "execute_result"
    }
   ],
   "source": [
    "# pulling instrument name\n",
    "currency_pair= R[\"instrument\"]\n",
    "currency_pair"
   ]
  },
  {
   "cell_type": "code",
   "execution_count": 15,
   "id": "organized-priest",
   "metadata": {},
   "outputs": [
    {
     "data": {
      "text/plain": [
       "1.20383"
      ]
     },
     "execution_count": 15,
     "metadata": {},
     "output_type": "execute_result"
    }
   ],
   "source": [
    "# pulling bid price\n",
    "closeoutbid_price= R[\"closeoutBid\"]\n",
    "closeoutbid_price = float(closeoutbid_price)\n",
    "closeoutbid_price"
   ]
  },
  {
   "cell_type": "code",
   "execution_count": 16,
   "id": "sweet-omega",
   "metadata": {},
   "outputs": [
    {
     "data": {
      "text/plain": [
       "1.20397"
      ]
     },
     "execution_count": 16,
     "metadata": {},
     "output_type": "execute_result"
    }
   ],
   "source": [
    "# Pulling ask price\n",
    "closeoutask_price= R[\"closeoutAsk\"]\n",
    "closeoutask_price = float(closeoutask_price)\n",
    "closeoutask_price"
   ]
  },
  {
   "cell_type": "code",
   "execution_count": 17,
   "id": "perfect-google",
   "metadata": {},
   "outputs": [
    {
     "name": "stdout",
     "output_type": "stream",
     "text": [
      "1.20383\n",
      "1.20397\n"
     ]
    }
   ],
   "source": [
    "print(closeoutbid_price)\n",
    "print(closeoutask_price)"
   ]
  },
  {
   "cell_type": "code",
   "execution_count": 18,
   "id": "parental-spice",
   "metadata": {},
   "outputs": [
    {
     "name": "stdout",
     "output_type": "stream",
     "text": [
      "<class 'float'>\n"
     ]
    }
   ],
   "source": [
    "print(type(closeoutbid_price))"
   ]
  },
  {
   "cell_type": "code",
   "execution_count": 19,
   "id": "atmospheric-greenhouse",
   "metadata": {},
   "outputs": [
    {
     "name": "stdout",
     "output_type": "stream",
     "text": [
      "<class 'float'>\n"
     ]
    }
   ],
   "source": [
    "print(type(closeoutask_price))"
   ]
  },
  {
   "cell_type": "code",
   "execution_count": 20,
   "id": "modular-insertion",
   "metadata": {},
   "outputs": [
    {
     "data": {
      "text/plain": [
       "1.2039"
      ]
     },
     "execution_count": 20,
     "metadata": {},
     "output_type": "execute_result"
    }
   ],
   "source": [
    "# Considering the average price of Bid price and Ask Price for price comparison\n",
    "price=float((closeoutbid_price + closeoutask_price)/(2))\n",
    "price"
   ]
  },
  {
   "cell_type": "code",
   "execution_count": 21,
   "id": "undefined-affiliate",
   "metadata": {},
   "outputs": [],
   "source": [
    "# # PULL DATA FOR GRANULARITY OF 15 M CANDLESTCIKS HIGH AND LOW VALUES"
   ]
  },
  {
   "cell_type": "code",
   "execution_count": null,
   "id": "opponent-flash",
   "metadata": {},
   "outputs": [],
   "source": []
  },
  {
   "cell_type": "code",
   "execution_count": 98,
   "id": "primary-elite",
   "metadata": {},
   "outputs": [
    {
     "ename": "NameError",
     "evalue": "name 'Array' is not defined",
     "output_type": "error",
     "traceback": [
      "\u001b[1;31m---------------------------------------------------------------------------\u001b[0m",
      "\u001b[1;31mNameError\u001b[0m                                 Traceback (most recent call last)",
      "\u001b[1;32m<ipython-input-98-c254b0ca1b38>\u001b[0m in \u001b[0;36m<module>\u001b[1;34m\u001b[0m\n\u001b[0;32m     14\u001b[0m \u001b[1;31m# The latest candle sticks.\u001b[0m\u001b[1;33m\u001b[0m\u001b[1;33m\u001b[0m\u001b[1;33m\u001b[0m\u001b[0m\n\u001b[0;32m     15\u001b[0m \u001b[1;31m#\u001b[0m\u001b[1;33m\u001b[0m\u001b[1;33m\u001b[0m\u001b[1;33m\u001b[0m\u001b[0m\n\u001b[1;32m---> 16\u001b[1;33m \u001b[0mlatestCandles\u001b[0m \u001b[1;33m:\u001b[0m \u001b[1;33m(\u001b[0m\u001b[0mArray\u001b[0m\u001b[1;33m[\u001b[0m\u001b[0mCandlestickResponse\u001b[0m\u001b[1;33m]\u001b[0m\u001b[1;33m)\u001b[0m\u001b[1;33m\u001b[0m\u001b[1;33m\u001b[0m\u001b[0m\n\u001b[0m\u001b[0;32m     17\u001b[0m \u001b[1;33m\u001b[0m\u001b[0m\n\u001b[0;32m     18\u001b[0m \u001b[0mprint\u001b[0m\u001b[1;33m(\u001b[0m\u001b[0mCandlestickResponse\u001b[0m\u001b[1;33m)\u001b[0m\u001b[1;33m\u001b[0m\u001b[1;33m\u001b[0m\u001b[0m\n",
      "\u001b[1;31mNameError\u001b[0m: name 'Array' is not defined"
     ]
    }
   ],
   "source": [
    "\n",
    "    from oandapyV20 import API\n",
    "    from oandapyV20.exceptions import V20Error\n",
    "    from oandapyV20.endpoints.pricing import PricingStream\n",
    "\n",
    "    accountID = \"101-001-18825179-001\"\n",
    "    access_token=\"59392a62d9effaa3ddff27a7842ba293-50d2fba5baa76925989efb1efdedfe7c\"\n",
    "\n",
    "    api = API(access_token=access_token, environment=\"practice\")\n",
    "\n",
    "    instruments = \"EUR_USD\"\n",
    "\n",
    "\n",
    "    # \n",
    "    # The latest candle sticks.\n",
    "    # \n",
    "    latestCandles : (Array[CandlestickResponse])\n",
    "\n",
    "print(CandlestickResponse)\n"
   ]
  },
  {
   "cell_type": "code",
   "execution_count": 99,
   "id": "boring-albany",
   "metadata": {},
   "outputs": [
    {
     "name": "stdout",
     "output_type": "stream",
     "text": [
      "{'Date': 'Wed, 21 Apr 2021 11:56:43 GMT', 'Content-Type': 'text/plain; charset=utf-8', 'Content-Length': '103', 'Connection': 'keep-alive', 'Set-Cookie': '__cfduid=dbdfc2a663c20044d0b654c96789b85351619006203; expires=Fri, 21-May-21 11:56:43 GMT; path=/; domain=.stream-fxpractice.oanda.com; HttpOnly; SameSite=Lax', 'Access-Control-Allow-Origin': '*', 'CF-Cache-Status': 'DYNAMIC', 'cf-request-id': '0995e33dfd0000c91ceb909000000001', 'Expect-CT': 'max-age=604800, report-uri=\"https://report-uri.cloudflare.com/cdn-cgi/beacon/expect-ct\"', 'Server': 'cloudflare', 'CF-RAY': '64366e432fadc91c-HYD'}\n",
      "\n",
      "\n"
     ]
    },
    {
     "ename": "JSONDecodeError",
     "evalue": "Expecting value: line 1 column 1 (char 0)",
     "output_type": "error",
     "traceback": [
      "\u001b[1;31m---------------------------------------------------------------------------\u001b[0m",
      "\u001b[1;31mJSONDecodeError\u001b[0m                           Traceback (most recent call last)",
      "\u001b[1;32m<ipython-input-99-5ee805799095>\u001b[0m in \u001b[0;36m<module>\u001b[1;34m\u001b[0m\n\u001b[0;32m     14\u001b[0m \u001b[1;32mfor\u001b[0m \u001b[0mline\u001b[0m \u001b[1;32min\u001b[0m \u001b[0mr\u001b[0m\u001b[1;33m.\u001b[0m\u001b[0miter_lines\u001b[0m\u001b[1;33m(\u001b[0m\u001b[1;33m)\u001b[0m\u001b[1;33m:\u001b[0m\u001b[1;33m\u001b[0m\u001b[1;33m\u001b[0m\u001b[0m\n\u001b[0;32m     15\u001b[0m     \u001b[1;32mif\u001b[0m \u001b[0mline\u001b[0m\u001b[1;33m:\u001b[0m\u001b[1;33m\u001b[0m\u001b[1;33m\u001b[0m\u001b[0m\n\u001b[1;32m---> 16\u001b[1;33m         \u001b[0mprint\u001b[0m\u001b[1;33m(\u001b[0m\u001b[0mjson\u001b[0m\u001b[1;33m.\u001b[0m\u001b[0mloads\u001b[0m\u001b[1;33m(\u001b[0m\u001b[0mline\u001b[0m\u001b[1;33m.\u001b[0m\u001b[0mdecode\u001b[0m\u001b[1;33m(\u001b[0m\u001b[1;34m\"utf-8\"\u001b[0m\u001b[1;33m)\u001b[0m\u001b[1;33m)\u001b[0m\u001b[1;33m)\u001b[0m\u001b[1;33m\u001b[0m\u001b[1;33m\u001b[0m\u001b[0m\n\u001b[0m",
      "\u001b[1;32m~\\anaconda3\\envs\\Tensorflow\\lib\\json\\__init__.py\u001b[0m in \u001b[0;36mloads\u001b[1;34m(s, cls, object_hook, parse_float, parse_int, parse_constant, object_pairs_hook, **kw)\u001b[0m\n\u001b[0;32m    355\u001b[0m             \u001b[0mparse_int\u001b[0m \u001b[1;32mis\u001b[0m \u001b[1;32mNone\u001b[0m \u001b[1;32mand\u001b[0m \u001b[0mparse_float\u001b[0m \u001b[1;32mis\u001b[0m \u001b[1;32mNone\u001b[0m \u001b[1;32mand\u001b[0m\u001b[1;33m\u001b[0m\u001b[1;33m\u001b[0m\u001b[0m\n\u001b[0;32m    356\u001b[0m             parse_constant is None and object_pairs_hook is None and not kw):\n\u001b[1;32m--> 357\u001b[1;33m         \u001b[1;32mreturn\u001b[0m \u001b[0m_default_decoder\u001b[0m\u001b[1;33m.\u001b[0m\u001b[0mdecode\u001b[0m\u001b[1;33m(\u001b[0m\u001b[0ms\u001b[0m\u001b[1;33m)\u001b[0m\u001b[1;33m\u001b[0m\u001b[1;33m\u001b[0m\u001b[0m\n\u001b[0m\u001b[0;32m    358\u001b[0m     \u001b[1;32mif\u001b[0m \u001b[0mcls\u001b[0m \u001b[1;32mis\u001b[0m \u001b[1;32mNone\u001b[0m\u001b[1;33m:\u001b[0m\u001b[1;33m\u001b[0m\u001b[1;33m\u001b[0m\u001b[0m\n\u001b[0;32m    359\u001b[0m         \u001b[0mcls\u001b[0m \u001b[1;33m=\u001b[0m \u001b[0mJSONDecoder\u001b[0m\u001b[1;33m\u001b[0m\u001b[1;33m\u001b[0m\u001b[0m\n",
      "\u001b[1;32m~\\anaconda3\\envs\\Tensorflow\\lib\\json\\decoder.py\u001b[0m in \u001b[0;36mdecode\u001b[1;34m(self, s, _w)\u001b[0m\n\u001b[0;32m    335\u001b[0m \u001b[1;33m\u001b[0m\u001b[0m\n\u001b[0;32m    336\u001b[0m         \"\"\"\n\u001b[1;32m--> 337\u001b[1;33m         \u001b[0mobj\u001b[0m\u001b[1;33m,\u001b[0m \u001b[0mend\u001b[0m \u001b[1;33m=\u001b[0m \u001b[0mself\u001b[0m\u001b[1;33m.\u001b[0m\u001b[0mraw_decode\u001b[0m\u001b[1;33m(\u001b[0m\u001b[0ms\u001b[0m\u001b[1;33m,\u001b[0m \u001b[0midx\u001b[0m\u001b[1;33m=\u001b[0m\u001b[0m_w\u001b[0m\u001b[1;33m(\u001b[0m\u001b[0ms\u001b[0m\u001b[1;33m,\u001b[0m \u001b[1;36m0\u001b[0m\u001b[1;33m)\u001b[0m\u001b[1;33m.\u001b[0m\u001b[0mend\u001b[0m\u001b[1;33m(\u001b[0m\u001b[1;33m)\u001b[0m\u001b[1;33m)\u001b[0m\u001b[1;33m\u001b[0m\u001b[1;33m\u001b[0m\u001b[0m\n\u001b[0m\u001b[0;32m    338\u001b[0m         \u001b[0mend\u001b[0m \u001b[1;33m=\u001b[0m \u001b[0m_w\u001b[0m\u001b[1;33m(\u001b[0m\u001b[0ms\u001b[0m\u001b[1;33m,\u001b[0m \u001b[0mend\u001b[0m\u001b[1;33m)\u001b[0m\u001b[1;33m.\u001b[0m\u001b[0mend\u001b[0m\u001b[1;33m(\u001b[0m\u001b[1;33m)\u001b[0m\u001b[1;33m\u001b[0m\u001b[1;33m\u001b[0m\u001b[0m\n\u001b[0;32m    339\u001b[0m         \u001b[1;32mif\u001b[0m \u001b[0mend\u001b[0m \u001b[1;33m!=\u001b[0m \u001b[0mlen\u001b[0m\u001b[1;33m(\u001b[0m\u001b[0ms\u001b[0m\u001b[1;33m)\u001b[0m\u001b[1;33m:\u001b[0m\u001b[1;33m\u001b[0m\u001b[1;33m\u001b[0m\u001b[0m\n",
      "\u001b[1;32m~\\anaconda3\\envs\\Tensorflow\\lib\\json\\decoder.py\u001b[0m in \u001b[0;36mraw_decode\u001b[1;34m(self, s, idx)\u001b[0m\n\u001b[0;32m    353\u001b[0m             \u001b[0mobj\u001b[0m\u001b[1;33m,\u001b[0m \u001b[0mend\u001b[0m \u001b[1;33m=\u001b[0m \u001b[0mself\u001b[0m\u001b[1;33m.\u001b[0m\u001b[0mscan_once\u001b[0m\u001b[1;33m(\u001b[0m\u001b[0ms\u001b[0m\u001b[1;33m,\u001b[0m \u001b[0midx\u001b[0m\u001b[1;33m)\u001b[0m\u001b[1;33m\u001b[0m\u001b[1;33m\u001b[0m\u001b[0m\n\u001b[0;32m    354\u001b[0m         \u001b[1;32mexcept\u001b[0m \u001b[0mStopIteration\u001b[0m \u001b[1;32mas\u001b[0m \u001b[0merr\u001b[0m\u001b[1;33m:\u001b[0m\u001b[1;33m\u001b[0m\u001b[1;33m\u001b[0m\u001b[0m\n\u001b[1;32m--> 355\u001b[1;33m             \u001b[1;32mraise\u001b[0m \u001b[0mJSONDecodeError\u001b[0m\u001b[1;33m(\u001b[0m\u001b[1;34m\"Expecting value\"\u001b[0m\u001b[1;33m,\u001b[0m \u001b[0ms\u001b[0m\u001b[1;33m,\u001b[0m \u001b[0merr\u001b[0m\u001b[1;33m.\u001b[0m\u001b[0mvalue\u001b[0m\u001b[1;33m)\u001b[0m \u001b[1;32mfrom\u001b[0m \u001b[1;32mNone\u001b[0m\u001b[1;33m\u001b[0m\u001b[1;33m\u001b[0m\u001b[0m\n\u001b[0m\u001b[0;32m    356\u001b[0m         \u001b[1;32mreturn\u001b[0m \u001b[0mobj\u001b[0m\u001b[1;33m,\u001b[0m \u001b[0mend\u001b[0m\u001b[1;33m\u001b[0m\u001b[1;33m\u001b[0m\u001b[0m\n",
      "\u001b[1;31mJSONDecodeError\u001b[0m: Expecting value: line 1 column 1 (char 0)"
     ]
    }
   ],
   "source": [
    "import requests\n",
    "import json\n",
    "\n",
    "headers = {'Content-Type': 'application/json',\n",
    "           \"Authorization\": \"59392a62d9effaa3ddff27a7842ba293-50d2fba5baa76925989efb1efdedfe7c\"}\n",
    "# Streaming prices\n",
    "baseurl = 'https://stream-fxpractice.oanda.com/v3/accounts/<<your account id here>>/pricing/stream'\n",
    "payload = { 'instruments' : 'EUR_USD'}\n",
    "\n",
    "r = requests.get(baseurl, params=payload, headers=headers, stream=True)\n",
    "print(r.headers)\n",
    "print('\\n')\n",
    "\n",
    "for line in r.iter_lines():\n",
    "    if line:\n",
    "        print(json.loads(line.decode(\"utf-8\")))   "
   ]
  },
  {
   "cell_type": "code",
   "execution_count": 22,
   "id": "pediatric-joshua",
   "metadata": {},
   "outputs": [],
   "source": [
    "# https://oanda-api-v20.readthedocs.io/en/latest/oandapyV20.endpoints.html"
   ]
  },
  {
   "cell_type": "code",
   "execution_count": 58,
   "id": "unexpected-stake",
   "metadata": {},
   "outputs": [
    {
     "name": "stdout",
     "output_type": "stream",
     "text": [
      "{'instrument': 'EUR_USD', 'granularity': 'M15', 'candles': [{'complete': False, 'volume': 208, 'time': '2021-04-21T02:30:00.000000000Z', 'mid': {'o': '1.20324', 'h': '1.20346', 'l': '1.20324', 'c': '1.20325'}}]}\n"
     ]
    }
   ],
   "source": [
    "#Params example:\n",
    "#classoandapyV20.endpoints.instruments.InstrumentsCandles(instrument, params=None)\n",
    "#Bases: oandapyV20.endpoints.instruments.Instruments\n",
    "#Get candle data for a specified Instrument.\n",
    "ENDPOINT= 'v3/instruments/{instrument}/candles'\n",
    "EXPECTED_STATUS= 200\n",
    "METHOD= 'GET'\n",
    "#__init__(\"DE30_EUR\", params=None)\n",
    "\n",
    "import oandapyV20\n",
    "import oandapyV20.endpoints.instruments as instruments\n",
    "client = oandapyV20.API(access_token='59392a62d9effaa3ddff27a7842ba293-50d2fba5baa76925989efb1efdedfe7c')\n",
    "params = { \"count\": 1, \"granularity\": \"M15\"}\n",
    "        \n",
    "r = instruments.InstrumentsCandles(instrument=\"EUR_USD\",\n",
    "                                    params=params)\n",
    "client.request(r)\n",
    "print(r.response)"
   ]
  },
  {
   "cell_type": "code",
   "execution_count": 59,
   "id": "spread-malta",
   "metadata": {},
   "outputs": [
    {
     "name": "stdout",
     "output_type": "stream",
     "text": [
      "EUR_USD\n"
     ]
    }
   ],
   "source": [
    "print(r.response[\"instrument\"])"
   ]
  },
  {
   "cell_type": "code",
   "execution_count": 60,
   "id": "fewer-service",
   "metadata": {},
   "outputs": [
    {
     "name": "stdout",
     "output_type": "stream",
     "text": [
      "M15\n"
     ]
    }
   ],
   "source": [
    "print(r.response[\"granularity\"])"
   ]
  },
  {
   "cell_type": "code",
   "execution_count": 61,
   "id": "studied-enemy",
   "metadata": {},
   "outputs": [
    {
     "name": "stdout",
     "output_type": "stream",
     "text": [
      "[{'complete': False, 'volume': 208, 'time': '2021-04-21T02:30:00.000000000Z', 'mid': {'o': '1.20324', 'h': '1.20346', 'l': '1.20324', 'c': '1.20325'}}]\n"
     ]
    }
   ],
   "source": [
    "print(r.response[\"candles\"])"
   ]
  },
  {
   "cell_type": "code",
   "execution_count": 62,
   "id": "vertical-denial",
   "metadata": {},
   "outputs": [
    {
     "data": {
      "text/plain": [
       "[{'complete': False,\n",
       "  'volume': 208,\n",
       "  'time': '2021-04-21T02:30:00.000000000Z',\n",
       "  'mid': {'o': '1.20324', 'h': '1.20346', 'l': '1.20324', 'c': '1.20325'}}]"
      ]
     },
     "execution_count": 62,
     "metadata": {},
     "output_type": "execute_result"
    }
   ],
   "source": [
    "k = r.response[\"candles\"]\n",
    "k"
   ]
  },
  {
   "cell_type": "code",
   "execution_count": 63,
   "id": "aquatic-lyric",
   "metadata": {},
   "outputs": [
    {
     "name": "stdout",
     "output_type": "stream",
     "text": [
      "<class 'list'>\n"
     ]
    }
   ],
   "source": [
    "print(type(k))"
   ]
  },
  {
   "cell_type": "code",
   "execution_count": 64,
   "id": "funny-screen",
   "metadata": {},
   "outputs": [
    {
     "name": "stdout",
     "output_type": "stream",
     "text": [
      "1.20346\n"
     ]
    },
    {
     "data": {
      "text/plain": [
       "'1.20346'"
      ]
     },
     "execution_count": 64,
     "metadata": {},
     "output_type": "execute_result"
    }
   ],
   "source": [
    "# Pulling high value form the 15 minute candlestick - from the List\n",
    "print(k[0][\"mid\"][\"h\"])\n",
    "candle_high_value = k[0][\"mid\"][\"h\"]\n",
    "candle_high_value"
   ]
  },
  {
   "cell_type": "code",
   "execution_count": 65,
   "id": "previous-least",
   "metadata": {},
   "outputs": [
    {
     "name": "stdout",
     "output_type": "stream",
     "text": [
      "1.20324\n"
     ]
    },
    {
     "data": {
      "text/plain": [
       "'1.20324'"
      ]
     },
     "execution_count": 65,
     "metadata": {},
     "output_type": "execute_result"
    }
   ],
   "source": [
    "# Pulling high value form the 15 minute candlestick - from the List\n",
    "print(k[0][\"mid\"][\"l\"])\n",
    "candle_low_value = k[0][\"mid\"][\"l\"]\n",
    "candle_low_value"
   ]
  },
  {
   "cell_type": "code",
   "execution_count": 67,
   "id": "thermal-doubt",
   "metadata": {},
   "outputs": [
    {
     "name": "stdout",
     "output_type": "stream",
     "text": [
      "1.20346\n",
      "1.20324\n",
      "1.2039\n"
     ]
    }
   ],
   "source": [
    "# Considering these values\n",
    "print(candle_high_value) # High value of 15 minute Incomplete candlestick\n",
    "print(candle_low_value)  # Low value of 15 minute Incomplete candlestick\n",
    "print(price)   # Average price of the currency pair"
   ]
  },
  {
   "cell_type": "code",
   "execution_count": 68,
   "id": "bulgarian-syria",
   "metadata": {},
   "outputs": [],
   "source": [
    "# Coding for writing a buy and sell signal "
   ]
  },
  {
   "cell_type": "code",
   "execution_count": 85,
   "id": "generous-thinking",
   "metadata": {},
   "outputs": [
    {
     "ename": "SyntaxError",
     "evalue": "EOF while scanning triple-quoted string literal (<ipython-input-85-e59c6a5d075b>, line 34)",
     "output_type": "error",
     "traceback": [
      "\u001b[1;36m  File \u001b[1;32m\"<ipython-input-85-e59c6a5d075b>\"\u001b[1;36m, line \u001b[1;32m34\u001b[0m\n\u001b[1;33m    '''''''''''''''''''''''''''''''''''''''''''''''''\u001b[0m\n\u001b[1;37m                                                     \n^\u001b[0m\n\u001b[1;31mSyntaxError\u001b[0m\u001b[1;31m:\u001b[0m EOF while scanning triple-quoted string literal\n"
     ]
    }
   ],
   "source": [
    "'''''''''''''''''''''''''''''''''''''''''''''''''''''''''''''''''''''''''''''''''''''''''''''\n",
    "# How to trade ORB strategy\n",
    "Opening Range Breakout (ORB) is a commonly used as an intraday trading systems.\n",
    "\n",
    "\n",
    "Trading Strategy\n",
    "\n",
    "Any stock creates a range in the first 15 minutes of trading in a day. This is calling Opening Range. \n",
    "The highs and lows of this time frame is taken as entry and exit parameters.\n",
    "\n",
    "1. Buy when the stock moves above the Opening Range high.\n",
    "2. Sell when the stock moves below the Opening Range low.\n",
    "\n",
    "\n",
    "We generally apply it over Nifty50 Index.\n",
    "\n",
    "Example:\n",
    "\n",
    "Nifty50 opens at 13500 and in 15 minutes minimum(low) value is 13450 and maximum(high) value is 13550. \n",
    "The ORB range becomes 13450 to 13550.\n",
    "\n",
    "\n",
    "Rules for Buy\n",
    "\n",
    "Buy when the stock price crosses above the opening range\n",
    "\n",
    "Initial Stop loss — Low of the Opening Range.\n",
    "\n",
    "Rules for Sell\n",
    "\n",
    "Sell when the stock price crosses below the opening range.\n",
    "\n",
    "#Initial Stop loss — High of the Opening Rang\n",
    "'''''''''''''''''''''''''''''''''''''''''''''''''"
   ]
  },
  {
   "cell_type": "code",
   "execution_count": 86,
   "id": "naughty-status",
   "metadata": {},
   "outputs": [],
   "source": [
    "# Applying Strategy for generating a buy or sell signal"
   ]
  },
  {
   "cell_type": "code",
   "execution_count": 88,
   "id": "nuclear-interval",
   "metadata": {},
   "outputs": [
    {
     "ename": "SyntaxError",
     "evalue": "invalid syntax (<ipython-input-88-e1154ef2df35>, line 19)",
     "output_type": "error",
     "traceback": [
      "\u001b[1;36m  File \u001b[1;32m\"<ipython-input-88-e1154ef2df35>\"\u001b[1;36m, line \u001b[1;32m19\u001b[0m\n\u001b[1;33m    mktOrder = MarketOrderRequest( instrument=\"EUR_USD\",\u001b[0m\n\u001b[1;37m             ^\u001b[0m\n\u001b[1;31mSyntaxError\u001b[0m\u001b[1;31m:\u001b[0m invalid syntax\n"
     ]
    }
   ],
   "source": [
    "if (price > candle_high_value):\n",
    "       {\n",
    "           # Generate Buy signal\n",
    "            buy(price):\n",
    "            print(\" Generated buy signal @ :  \", price )\n",
    "       }\n",
    "elif (price < candle_low_value):\n",
    "        # Generate Sell signal if last traded price is less than 15 minute Low\n",
    "       \n",
    "        {\n",
    "            sell(price):\n",
    "            print(\" Generated sell signal @ :  \", price )\n",
    "        }\n",
    "    \n",
    "print(\" None of the conditions are statisfied, NO SIGNAL\")\n",
    "\n",
    "def buy (price):\n",
    "    {\n",
    "        mktOrder = MarketOrderRequest( instrument=\"EUR_USD\",\n",
    "        units=10000,\n",
    "        takeProfitOnFill=price + 0.0020,\n",
    "        stopLossOnFill=candle_low_value\n",
    "        \n",
    "\n",
    "    }\n",
    "    \n",
    "def sell(price):\n",
    "    {\n",
    "        mktOrder = MarketOrderRequest(instrument=\"EUR_USD\",\n",
    "        units=10000,\n",
    "        takeProfitOnFill=price - 0.0020,\n",
    "        stopLossOnFill=candle_high_value\n",
    "\n",
    "    }\n",
    " # Comparing last traded price with 15 Minutes candlestick low and High for generating a sell signal    \n",
    "\n"
   ]
  },
  {
   "cell_type": "code",
   "execution_count": null,
   "id": "supposed-bonus",
   "metadata": {},
   "outputs": [],
   "source": [
    "buy (price)\n",
    "{\n",
    "    # \n",
    "    # The type of the Order to Create. Must be set to “MARKET” when creating a\n",
    "    # Market Order.\n",
    "    # \n",
    "    type : (OrderType, default=MARKET),\n",
    "\n",
    "    # \n",
    "    # The Market Order’s Instrument.\n",
    "    # \n",
    "    instrument : (InstrumentName, required),\n",
    "\n",
    "    # \n",
    "    # The quantity requested to be filled by the Market Order. A positive\n",
    "    # number of units results in a long Order, and a negative number of units\n",
    "    # results in a short Order.\n",
    "    # \n",
    "    units : (DecimalNumber, required),\n",
    "\n",
    "    # \n",
    "    # The time-in-force requested for the Market Order. Restricted to FOK or\n",
    "    # IOC for a MarketOrder.\n",
    "    # \n",
    "    timeInForce : (TimeInForce, required, default=FOK),\n",
    "\n",
    "    # \n",
    "    # The worst price that the client is willing to have the Market Order\n",
    "    # filled at.\n",
    "    # \n",
    "    priceBound : (PriceValue),\n",
    "\n",
    "    # \n",
    "    # Specification of how Positions in the Account are modified when the Order\n",
    "    # is filled.\n",
    "    # \n",
    "    positionFill : (OrderPositionFill, required, default=DEFAULT),\n",
    "\n",
    "    # \n",
    "    # The client extensions to add to the Order. Do not set, modify, or delete\n",
    "    # clientExtensions if your account is associated with MT4.\n",
    "    # \n",
    "    clientExtensions : (ClientExtensions),\n",
    "\n",
    "    # \n",
    "    # TakeProfitDetails specifies the details of a Take Profit Order to be\n",
    "    # created on behalf of a client. This may happen when an Order is filled\n",
    "    # that opens a Trade requiring a Take Profit, or when a Trade’s dependent\n",
    "    # Take Profit Order is modified directly through the Trade.\n",
    "    # \n",
    "    takeProfitOnFill : (TakeProfitDetails),\n",
    "\n",
    "    # \n",
    "    # StopLossDetails specifies the details of a Stop Loss Order to be created\n",
    "    # on behalf of a client. This may happen when an Order is filled that opens\n",
    "    # a Trade requiring a Stop Loss, or when a Trade’s dependent Stop Loss\n",
    "    # Order is modified directly through the Trade.\n",
    "    # \n",
    "    stopLossOnFill : (StopLossDetails),\n",
    "\n",
    "    # \n",
    "    # GuaranteedStopLossDetails specifies the details of a Guaranteed Stop Loss\n",
    "    # Order to be created on behalf of a client. This may happen when an Order\n",
    "    # is filled that opens a Trade requiring a Guaranteed Stop Loss, or when a\n",
    "    # Trade’s dependent Guaranteed Stop Loss Order is modified directly through\n",
    "    # the Trade.\n",
    "    # \n",
    "    guaranteedStopLossOnFill : (GuaranteedStopLossDetails),\n",
    "\n",
    "    # \n",
    "    # TrailingStopLossDetails specifies the details of a Trailing Stop Loss\n",
    "    # Order to be created on behalf of a client. This may happen when an Order\n",
    "    # is filled that opens a Trade requiring a Trailing Stop Loss, or when a\n",
    "    # Trade’s dependent Trailing Stop Loss Order is modified directly through\n",
    "    # the Trade.\n",
    "    # \n",
    "    trailingStopLossOnFill : (TrailingStopLossDetails),\n",
    "\n",
    "    # \n",
    "    # Client Extensions to add to the Trade created when the Order is filled\n",
    "    # (if such a Trade is created). Do not set, modify, or delete\n",
    "    # tradeClientExtensions if your account is associated with MT4.\n",
    "    # \n",
    "    tradeClientExtensions : (ClientExtensions)\n",
    "}"
   ]
  },
  {
   "cell_type": "code",
   "execution_count": 101,
   "id": "incorporated-samoa",
   "metadata": {},
   "outputs": [
    {
     "name": "stderr",
     "output_type": "stream",
     "text": [
      "ERROR:root:Internal Python error in the inspect module.\n",
      "Below is the traceback from this internal error.\n",
      "\n"
     ]
    },
    {
     "name": "stdout",
     "output_type": "stream",
     "text": [
      "Traceback (most recent call last):\n",
      "  File \"C:\\Users\\Admin\\anaconda3\\envs\\Tensorflow\\lib\\distutils\\fancy_getopt.py\", line 233, in getopt\n",
      "    opts, args = getopt.getopt(args, short_opts, self.long_opts)\n",
      "  File \"C:\\Users\\Admin\\anaconda3\\envs\\Tensorflow\\lib\\getopt.py\", line 95, in getopt\n",
      "    opts, args = do_shorts(opts, args[0][1:], shortopts, args[1:])\n",
      "  File \"C:\\Users\\Admin\\anaconda3\\envs\\Tensorflow\\lib\\getopt.py\", line 195, in do_shorts\n",
      "    if short_has_arg(opt, shortopts):\n",
      "  File \"C:\\Users\\Admin\\anaconda3\\envs\\Tensorflow\\lib\\getopt.py\", line 211, in short_has_arg\n",
      "    raise GetoptError(_('option -%s not recognized') % opt, opt)\n",
      "getopt.GetoptError: option -f not recognized\n",
      "\n",
      "During handling of the above exception, another exception occurred:\n",
      "\n",
      "Traceback (most recent call last):\n",
      "  File \"C:\\Users\\Admin\\anaconda3\\envs\\Tensorflow\\lib\\distutils\\core.py\", line 134, in setup\n",
      "    ok = dist.parse_command_line()\n",
      "  File \"C:\\Users\\Admin\\anaconda3\\envs\\Tensorflow\\lib\\distutils\\dist.py\", line 475, in parse_command_line\n",
      "    args = parser.getopt(args=self.script_args, object=self)\n",
      "  File \"C:\\Users\\Admin\\anaconda3\\envs\\Tensorflow\\lib\\distutils\\fancy_getopt.py\", line 235, in getopt\n",
      "    raise DistutilsArgError(msg)\n",
      "distutils.errors.DistutilsArgError: option -f not recognized\n",
      "\n",
      "During handling of the above exception, another exception occurred:\n",
      "\n",
      "Traceback (most recent call last):\n",
      "  File \"C:\\Users\\Admin\\anaconda3\\envs\\Tensorflow\\lib\\site-packages\\IPython\\core\\interactiveshell.py\", line 3427, in run_code\n",
      "    exec(code_obj, self.user_global_ns, self.user_ns)\n",
      "  File \"<ipython-input-101-5d28538e284b>\", line 3, in <module>\n",
      "    setup(\n",
      "  File \"C:\\Users\\Admin\\anaconda3\\envs\\Tensorflow\\lib\\site-packages\\setuptools\\__init__.py\", line 153, in setup\n",
      "    return distutils.core.setup(**attrs)\n",
      "  File \"C:\\Users\\Admin\\anaconda3\\envs\\Tensorflow\\lib\\distutils\\core.py\", line 136, in setup\n",
      "    raise SystemExit(gen_usage(dist.script_name) + \"\\nerror: %s\" % msg)\n",
      "SystemExit: usage: ipykernel_launcher.py [global_opts] cmd1 [cmd1_opts] [cmd2 [cmd2_opts] ...]\n",
      "   or: ipykernel_launcher.py --help [cmd1 cmd2 ...]\n",
      "   or: ipykernel_launcher.py --help-commands\n",
      "   or: ipykernel_launcher.py cmd --help\n",
      "\n",
      "error: option -f not recognized\n",
      "\n",
      "During handling of the above exception, another exception occurred:\n",
      "\n",
      "Traceback (most recent call last):\n",
      "  File \"C:\\Users\\Admin\\anaconda3\\envs\\Tensorflow\\lib\\site-packages\\IPython\\core\\ultratb.py\", line 1101, in get_records\n",
      "    return _fixed_getinnerframes(etb, number_of_lines_of_context, tb_offset)\n",
      "  File \"C:\\Users\\Admin\\anaconda3\\envs\\Tensorflow\\lib\\site-packages\\IPython\\core\\ultratb.py\", line 248, in wrapped\n",
      "    return f(*args, **kwargs)\n",
      "  File \"C:\\Users\\Admin\\anaconda3\\envs\\Tensorflow\\lib\\site-packages\\IPython\\core\\ultratb.py\", line 281, in _fixed_getinnerframes\n",
      "    records = fix_frame_records_filenames(inspect.getinnerframes(etb, context))\n",
      "  File \"C:\\Users\\Admin\\anaconda3\\envs\\Tensorflow\\lib\\inspect.py\", line 1503, in getinnerframes\n",
      "    frameinfo = (tb.tb_frame,) + getframeinfo(tb, context)\n",
      "AttributeError: 'tuple' object has no attribute 'tb_frame'\n"
     ]
    },
    {
     "ename": "TypeError",
     "evalue": "object of type 'NoneType' has no len()",
     "output_type": "error",
     "traceback": [
      "\u001b[1;31m---------------------------------------------------------------------------\u001b[0m",
      "\u001b[1;31mGetoptError\u001b[0m                               Traceback (most recent call last)",
      "\u001b[1;32m~\\anaconda3\\envs\\Tensorflow\\lib\\distutils\\fancy_getopt.py\u001b[0m in \u001b[0;36mgetopt\u001b[1;34m(self, args, object)\u001b[0m\n\u001b[0;32m    232\u001b[0m         \u001b[1;32mtry\u001b[0m\u001b[1;33m:\u001b[0m\u001b[1;33m\u001b[0m\u001b[1;33m\u001b[0m\u001b[0m\n\u001b[1;32m--> 233\u001b[1;33m             \u001b[0mopts\u001b[0m\u001b[1;33m,\u001b[0m \u001b[0margs\u001b[0m \u001b[1;33m=\u001b[0m \u001b[0mgetopt\u001b[0m\u001b[1;33m.\u001b[0m\u001b[0mgetopt\u001b[0m\u001b[1;33m(\u001b[0m\u001b[0margs\u001b[0m\u001b[1;33m,\u001b[0m \u001b[0mshort_opts\u001b[0m\u001b[1;33m,\u001b[0m \u001b[0mself\u001b[0m\u001b[1;33m.\u001b[0m\u001b[0mlong_opts\u001b[0m\u001b[1;33m)\u001b[0m\u001b[1;33m\u001b[0m\u001b[1;33m\u001b[0m\u001b[0m\n\u001b[0m\u001b[0;32m    234\u001b[0m         \u001b[1;32mexcept\u001b[0m \u001b[0mgetopt\u001b[0m\u001b[1;33m.\u001b[0m\u001b[0merror\u001b[0m \u001b[1;32mas\u001b[0m \u001b[0mmsg\u001b[0m\u001b[1;33m:\u001b[0m\u001b[1;33m\u001b[0m\u001b[1;33m\u001b[0m\u001b[0m\n",
      "\u001b[1;32m~\\anaconda3\\envs\\Tensorflow\\lib\\getopt.py\u001b[0m in \u001b[0;36mgetopt\u001b[1;34m(args, shortopts, longopts)\u001b[0m\n\u001b[0;32m     94\u001b[0m         \u001b[1;32melse\u001b[0m\u001b[1;33m:\u001b[0m\u001b[1;33m\u001b[0m\u001b[1;33m\u001b[0m\u001b[0m\n\u001b[1;32m---> 95\u001b[1;33m             \u001b[0mopts\u001b[0m\u001b[1;33m,\u001b[0m \u001b[0margs\u001b[0m \u001b[1;33m=\u001b[0m \u001b[0mdo_shorts\u001b[0m\u001b[1;33m(\u001b[0m\u001b[0mopts\u001b[0m\u001b[1;33m,\u001b[0m \u001b[0margs\u001b[0m\u001b[1;33m[\u001b[0m\u001b[1;36m0\u001b[0m\u001b[1;33m]\u001b[0m\u001b[1;33m[\u001b[0m\u001b[1;36m1\u001b[0m\u001b[1;33m:\u001b[0m\u001b[1;33m]\u001b[0m\u001b[1;33m,\u001b[0m \u001b[0mshortopts\u001b[0m\u001b[1;33m,\u001b[0m \u001b[0margs\u001b[0m\u001b[1;33m[\u001b[0m\u001b[1;36m1\u001b[0m\u001b[1;33m:\u001b[0m\u001b[1;33m]\u001b[0m\u001b[1;33m)\u001b[0m\u001b[1;33m\u001b[0m\u001b[1;33m\u001b[0m\u001b[0m\n\u001b[0m\u001b[0;32m     96\u001b[0m \u001b[1;33m\u001b[0m\u001b[0m\n",
      "\u001b[1;32m~\\anaconda3\\envs\\Tensorflow\\lib\\getopt.py\u001b[0m in \u001b[0;36mdo_shorts\u001b[1;34m(opts, optstring, shortopts, args)\u001b[0m\n\u001b[0;32m    194\u001b[0m         \u001b[0mopt\u001b[0m\u001b[1;33m,\u001b[0m \u001b[0moptstring\u001b[0m \u001b[1;33m=\u001b[0m \u001b[0moptstring\u001b[0m\u001b[1;33m[\u001b[0m\u001b[1;36m0\u001b[0m\u001b[1;33m]\u001b[0m\u001b[1;33m,\u001b[0m \u001b[0moptstring\u001b[0m\u001b[1;33m[\u001b[0m\u001b[1;36m1\u001b[0m\u001b[1;33m:\u001b[0m\u001b[1;33m]\u001b[0m\u001b[1;33m\u001b[0m\u001b[1;33m\u001b[0m\u001b[0m\n\u001b[1;32m--> 195\u001b[1;33m         \u001b[1;32mif\u001b[0m \u001b[0mshort_has_arg\u001b[0m\u001b[1;33m(\u001b[0m\u001b[0mopt\u001b[0m\u001b[1;33m,\u001b[0m \u001b[0mshortopts\u001b[0m\u001b[1;33m)\u001b[0m\u001b[1;33m:\u001b[0m\u001b[1;33m\u001b[0m\u001b[1;33m\u001b[0m\u001b[0m\n\u001b[0m\u001b[0;32m    196\u001b[0m             \u001b[1;32mif\u001b[0m \u001b[0moptstring\u001b[0m \u001b[1;33m==\u001b[0m \u001b[1;34m''\u001b[0m\u001b[1;33m:\u001b[0m\u001b[1;33m\u001b[0m\u001b[1;33m\u001b[0m\u001b[0m\n",
      "\u001b[1;32m~\\anaconda3\\envs\\Tensorflow\\lib\\getopt.py\u001b[0m in \u001b[0;36mshort_has_arg\u001b[1;34m(opt, shortopts)\u001b[0m\n\u001b[0;32m    210\u001b[0m             \u001b[1;32mreturn\u001b[0m \u001b[0mshortopts\u001b[0m\u001b[1;33m.\u001b[0m\u001b[0mstartswith\u001b[0m\u001b[1;33m(\u001b[0m\u001b[1;34m':'\u001b[0m\u001b[1;33m,\u001b[0m \u001b[0mi\u001b[0m\u001b[1;33m+\u001b[0m\u001b[1;36m1\u001b[0m\u001b[1;33m)\u001b[0m\u001b[1;33m\u001b[0m\u001b[1;33m\u001b[0m\u001b[0m\n\u001b[1;32m--> 211\u001b[1;33m     \u001b[1;32mraise\u001b[0m \u001b[0mGetoptError\u001b[0m\u001b[1;33m(\u001b[0m\u001b[0m_\u001b[0m\u001b[1;33m(\u001b[0m\u001b[1;34m'option -%s not recognized'\u001b[0m\u001b[1;33m)\u001b[0m \u001b[1;33m%\u001b[0m \u001b[0mopt\u001b[0m\u001b[1;33m,\u001b[0m \u001b[0mopt\u001b[0m\u001b[1;33m)\u001b[0m\u001b[1;33m\u001b[0m\u001b[1;33m\u001b[0m\u001b[0m\n\u001b[0m\u001b[0;32m    212\u001b[0m \u001b[1;33m\u001b[0m\u001b[0m\n",
      "\u001b[1;31mGetoptError\u001b[0m: option -f not recognized",
      "\nDuring handling of the above exception, another exception occurred:\n",
      "\u001b[1;31mDistutilsArgError\u001b[0m                         Traceback (most recent call last)",
      "\u001b[1;32m~\\anaconda3\\envs\\Tensorflow\\lib\\distutils\\core.py\u001b[0m in \u001b[0;36msetup\u001b[1;34m(**attrs)\u001b[0m\n\u001b[0;32m    133\u001b[0m     \u001b[1;32mtry\u001b[0m\u001b[1;33m:\u001b[0m\u001b[1;33m\u001b[0m\u001b[1;33m\u001b[0m\u001b[0m\n\u001b[1;32m--> 134\u001b[1;33m         \u001b[0mok\u001b[0m \u001b[1;33m=\u001b[0m \u001b[0mdist\u001b[0m\u001b[1;33m.\u001b[0m\u001b[0mparse_command_line\u001b[0m\u001b[1;33m(\u001b[0m\u001b[1;33m)\u001b[0m\u001b[1;33m\u001b[0m\u001b[1;33m\u001b[0m\u001b[0m\n\u001b[0m\u001b[0;32m    135\u001b[0m     \u001b[1;32mexcept\u001b[0m \u001b[0mDistutilsArgError\u001b[0m \u001b[1;32mas\u001b[0m \u001b[0mmsg\u001b[0m\u001b[1;33m:\u001b[0m\u001b[1;33m\u001b[0m\u001b[1;33m\u001b[0m\u001b[0m\n",
      "\u001b[1;32m~\\anaconda3\\envs\\Tensorflow\\lib\\distutils\\dist.py\u001b[0m in \u001b[0;36mparse_command_line\u001b[1;34m(self)\u001b[0m\n\u001b[0;32m    474\u001b[0m         \u001b[0mparser\u001b[0m\u001b[1;33m.\u001b[0m\u001b[0mset_aliases\u001b[0m\u001b[1;33m(\u001b[0m\u001b[1;33m{\u001b[0m\u001b[1;34m'licence'\u001b[0m\u001b[1;33m:\u001b[0m \u001b[1;34m'license'\u001b[0m\u001b[1;33m}\u001b[0m\u001b[1;33m)\u001b[0m\u001b[1;33m\u001b[0m\u001b[1;33m\u001b[0m\u001b[0m\n\u001b[1;32m--> 475\u001b[1;33m         \u001b[0margs\u001b[0m \u001b[1;33m=\u001b[0m \u001b[0mparser\u001b[0m\u001b[1;33m.\u001b[0m\u001b[0mgetopt\u001b[0m\u001b[1;33m(\u001b[0m\u001b[0margs\u001b[0m\u001b[1;33m=\u001b[0m\u001b[0mself\u001b[0m\u001b[1;33m.\u001b[0m\u001b[0mscript_args\u001b[0m\u001b[1;33m,\u001b[0m \u001b[0mobject\u001b[0m\u001b[1;33m=\u001b[0m\u001b[0mself\u001b[0m\u001b[1;33m)\u001b[0m\u001b[1;33m\u001b[0m\u001b[1;33m\u001b[0m\u001b[0m\n\u001b[0m\u001b[0;32m    476\u001b[0m         \u001b[0moption_order\u001b[0m \u001b[1;33m=\u001b[0m \u001b[0mparser\u001b[0m\u001b[1;33m.\u001b[0m\u001b[0mget_option_order\u001b[0m\u001b[1;33m(\u001b[0m\u001b[1;33m)\u001b[0m\u001b[1;33m\u001b[0m\u001b[1;33m\u001b[0m\u001b[0m\n",
      "\u001b[1;32m~\\anaconda3\\envs\\Tensorflow\\lib\\distutils\\fancy_getopt.py\u001b[0m in \u001b[0;36mgetopt\u001b[1;34m(self, args, object)\u001b[0m\n\u001b[0;32m    234\u001b[0m         \u001b[1;32mexcept\u001b[0m \u001b[0mgetopt\u001b[0m\u001b[1;33m.\u001b[0m\u001b[0merror\u001b[0m \u001b[1;32mas\u001b[0m \u001b[0mmsg\u001b[0m\u001b[1;33m:\u001b[0m\u001b[1;33m\u001b[0m\u001b[1;33m\u001b[0m\u001b[0m\n\u001b[1;32m--> 235\u001b[1;33m             \u001b[1;32mraise\u001b[0m \u001b[0mDistutilsArgError\u001b[0m\u001b[1;33m(\u001b[0m\u001b[0mmsg\u001b[0m\u001b[1;33m)\u001b[0m\u001b[1;33m\u001b[0m\u001b[1;33m\u001b[0m\u001b[0m\n\u001b[0m\u001b[0;32m    236\u001b[0m \u001b[1;33m\u001b[0m\u001b[0m\n",
      "\u001b[1;31mDistutilsArgError\u001b[0m: option -f not recognized",
      "\nDuring handling of the above exception, another exception occurred:\n",
      "\u001b[1;31mSystemExit\u001b[0m                                Traceback (most recent call last)",
      "    \u001b[1;31m[... skipping hidden 1 frame]\u001b[0m\n",
      "\u001b[1;32m<ipython-input-101-5d28538e284b>\u001b[0m in \u001b[0;36m<module>\u001b[1;34m\u001b[0m\n\u001b[0;32m      2\u001b[0m \u001b[1;33m\u001b[0m\u001b[0m\n\u001b[1;32m----> 3\u001b[1;33m setup(\n\u001b[0m\u001b[0;32m      4\u001b[0m     \u001b[0mname\u001b[0m\u001b[1;33m=\u001b[0m\u001b[1;34m'v20-python-samples'\u001b[0m\u001b[1;33m,\u001b[0m\u001b[1;33m\u001b[0m\u001b[1;33m\u001b[0m\u001b[0m\n",
      "\u001b[1;32m~\\anaconda3\\envs\\Tensorflow\\lib\\site-packages\\setuptools\\__init__.py\u001b[0m in \u001b[0;36msetup\u001b[1;34m(**attrs)\u001b[0m\n\u001b[0;32m    152\u001b[0m     \u001b[0m_install_setup_requires\u001b[0m\u001b[1;33m(\u001b[0m\u001b[0mattrs\u001b[0m\u001b[1;33m)\u001b[0m\u001b[1;33m\u001b[0m\u001b[1;33m\u001b[0m\u001b[0m\n\u001b[1;32m--> 153\u001b[1;33m     \u001b[1;32mreturn\u001b[0m \u001b[0mdistutils\u001b[0m\u001b[1;33m.\u001b[0m\u001b[0mcore\u001b[0m\u001b[1;33m.\u001b[0m\u001b[0msetup\u001b[0m\u001b[1;33m(\u001b[0m\u001b[1;33m**\u001b[0m\u001b[0mattrs\u001b[0m\u001b[1;33m)\u001b[0m\u001b[1;33m\u001b[0m\u001b[1;33m\u001b[0m\u001b[0m\n\u001b[0m\u001b[0;32m    154\u001b[0m \u001b[1;33m\u001b[0m\u001b[0m\n",
      "\u001b[1;32m~\\anaconda3\\envs\\Tensorflow\\lib\\distutils\\core.py\u001b[0m in \u001b[0;36msetup\u001b[1;34m(**attrs)\u001b[0m\n\u001b[0;32m    135\u001b[0m     \u001b[1;32mexcept\u001b[0m \u001b[0mDistutilsArgError\u001b[0m \u001b[1;32mas\u001b[0m \u001b[0mmsg\u001b[0m\u001b[1;33m:\u001b[0m\u001b[1;33m\u001b[0m\u001b[1;33m\u001b[0m\u001b[0m\n\u001b[1;32m--> 136\u001b[1;33m         \u001b[1;32mraise\u001b[0m \u001b[0mSystemExit\u001b[0m\u001b[1;33m(\u001b[0m\u001b[0mgen_usage\u001b[0m\u001b[1;33m(\u001b[0m\u001b[0mdist\u001b[0m\u001b[1;33m.\u001b[0m\u001b[0mscript_name\u001b[0m\u001b[1;33m)\u001b[0m \u001b[1;33m+\u001b[0m \u001b[1;34m\"\\nerror: %s\"\u001b[0m \u001b[1;33m%\u001b[0m \u001b[0mmsg\u001b[0m\u001b[1;33m)\u001b[0m\u001b[1;33m\u001b[0m\u001b[1;33m\u001b[0m\u001b[0m\n\u001b[0m\u001b[0;32m    137\u001b[0m \u001b[1;33m\u001b[0m\u001b[0m\n",
      "\u001b[1;31mSystemExit\u001b[0m: usage: ipykernel_launcher.py [global_opts] cmd1 [cmd1_opts] [cmd2 [cmd2_opts] ...]\n   or: ipykernel_launcher.py --help [cmd1 cmd2 ...]\n   or: ipykernel_launcher.py --help-commands\n   or: ipykernel_launcher.py cmd --help\n\nerror: option -f not recognized",
      "\nDuring handling of the above exception, another exception occurred:\n",
      "\u001b[1;31mTypeError\u001b[0m                                 Traceback (most recent call last)",
      "    \u001b[1;31m[... skipping hidden 1 frame]\u001b[0m\n",
      "\u001b[1;32m~\\anaconda3\\envs\\Tensorflow\\lib\\site-packages\\IPython\\core\\interactiveshell.py\u001b[0m in \u001b[0;36mshowtraceback\u001b[1;34m(self, exc_tuple, filename, tb_offset, exception_only, running_compiled_code)\u001b[0m\n\u001b[0;32m   2045\u001b[0m                     stb = ['An exception has occurred, use %tb to see '\n\u001b[0;32m   2046\u001b[0m                            'the full traceback.\\n']\n\u001b[1;32m-> 2047\u001b[1;33m                     stb.extend(self.InteractiveTB.get_exception_only(etype,\n\u001b[0m\u001b[0;32m   2048\u001b[0m                                                                      value))\n\u001b[0;32m   2049\u001b[0m                 \u001b[1;32melse\u001b[0m\u001b[1;33m:\u001b[0m\u001b[1;33m\u001b[0m\u001b[1;33m\u001b[0m\u001b[0m\n",
      "\u001b[1;32m~\\anaconda3\\envs\\Tensorflow\\lib\\site-packages\\IPython\\core\\ultratb.py\u001b[0m in \u001b[0;36mget_exception_only\u001b[1;34m(self, etype, value)\u001b[0m\n\u001b[0;32m    752\u001b[0m         \u001b[0mvalue\u001b[0m \u001b[1;33m:\u001b[0m \u001b[0mexception\u001b[0m \u001b[0mvalue\u001b[0m\u001b[1;33m\u001b[0m\u001b[1;33m\u001b[0m\u001b[0m\n\u001b[0;32m    753\u001b[0m         \"\"\"\n\u001b[1;32m--> 754\u001b[1;33m         \u001b[1;32mreturn\u001b[0m \u001b[0mListTB\u001b[0m\u001b[1;33m.\u001b[0m\u001b[0mstructured_traceback\u001b[0m\u001b[1;33m(\u001b[0m\u001b[0mself\u001b[0m\u001b[1;33m,\u001b[0m \u001b[0metype\u001b[0m\u001b[1;33m,\u001b[0m \u001b[0mvalue\u001b[0m\u001b[1;33m)\u001b[0m\u001b[1;33m\u001b[0m\u001b[1;33m\u001b[0m\u001b[0m\n\u001b[0m\u001b[0;32m    755\u001b[0m \u001b[1;33m\u001b[0m\u001b[0m\n\u001b[0;32m    756\u001b[0m     \u001b[1;32mdef\u001b[0m \u001b[0mshow_exception_only\u001b[0m\u001b[1;33m(\u001b[0m\u001b[0mself\u001b[0m\u001b[1;33m,\u001b[0m \u001b[0metype\u001b[0m\u001b[1;33m,\u001b[0m \u001b[0mevalue\u001b[0m\u001b[1;33m)\u001b[0m\u001b[1;33m:\u001b[0m\u001b[1;33m\u001b[0m\u001b[1;33m\u001b[0m\u001b[0m\n",
      "\u001b[1;32m~\\anaconda3\\envs\\Tensorflow\\lib\\site-packages\\IPython\\core\\ultratb.py\u001b[0m in \u001b[0;36mstructured_traceback\u001b[1;34m(self, etype, evalue, etb, tb_offset, context)\u001b[0m\n\u001b[0;32m    627\u001b[0m             \u001b[0mchained_exceptions_tb_offset\u001b[0m \u001b[1;33m=\u001b[0m \u001b[1;36m0\u001b[0m\u001b[1;33m\u001b[0m\u001b[1;33m\u001b[0m\u001b[0m\n\u001b[0;32m    628\u001b[0m             out_list = (\n\u001b[1;32m--> 629\u001b[1;33m                 self.structured_traceback(\n\u001b[0m\u001b[0;32m    630\u001b[0m                     \u001b[0metype\u001b[0m\u001b[1;33m,\u001b[0m \u001b[0mevalue\u001b[0m\u001b[1;33m,\u001b[0m \u001b[1;33m(\u001b[0m\u001b[0metb\u001b[0m\u001b[1;33m,\u001b[0m \u001b[0mchained_exc_ids\u001b[0m\u001b[1;33m)\u001b[0m\u001b[1;33m,\u001b[0m\u001b[1;33m\u001b[0m\u001b[1;33m\u001b[0m\u001b[0m\n\u001b[0;32m    631\u001b[0m                     chained_exceptions_tb_offset, context)\n",
      "\u001b[1;32m~\\anaconda3\\envs\\Tensorflow\\lib\\site-packages\\IPython\\core\\ultratb.py\u001b[0m in \u001b[0;36mstructured_traceback\u001b[1;34m(self, etype, value, tb, tb_offset, number_of_lines_of_context)\u001b[0m\n\u001b[0;32m   1365\u001b[0m         \u001b[1;32melse\u001b[0m\u001b[1;33m:\u001b[0m\u001b[1;33m\u001b[0m\u001b[1;33m\u001b[0m\u001b[0m\n\u001b[0;32m   1366\u001b[0m             \u001b[0mself\u001b[0m\u001b[1;33m.\u001b[0m\u001b[0mtb\u001b[0m \u001b[1;33m=\u001b[0m \u001b[0mtb\u001b[0m\u001b[1;33m\u001b[0m\u001b[1;33m\u001b[0m\u001b[0m\n\u001b[1;32m-> 1367\u001b[1;33m         return FormattedTB.structured_traceback(\n\u001b[0m\u001b[0;32m   1368\u001b[0m             self, etype, value, tb, tb_offset, number_of_lines_of_context)\n\u001b[0;32m   1369\u001b[0m \u001b[1;33m\u001b[0m\u001b[0m\n",
      "\u001b[1;32m~\\anaconda3\\envs\\Tensorflow\\lib\\site-packages\\IPython\\core\\ultratb.py\u001b[0m in \u001b[0;36mstructured_traceback\u001b[1;34m(self, etype, value, tb, tb_offset, number_of_lines_of_context)\u001b[0m\n\u001b[0;32m   1265\u001b[0m         \u001b[1;32mif\u001b[0m \u001b[0mmode\u001b[0m \u001b[1;32min\u001b[0m \u001b[0mself\u001b[0m\u001b[1;33m.\u001b[0m\u001b[0mverbose_modes\u001b[0m\u001b[1;33m:\u001b[0m\u001b[1;33m\u001b[0m\u001b[1;33m\u001b[0m\u001b[0m\n\u001b[0;32m   1266\u001b[0m             \u001b[1;31m# Verbose modes need a full traceback\u001b[0m\u001b[1;33m\u001b[0m\u001b[1;33m\u001b[0m\u001b[1;33m\u001b[0m\u001b[0m\n\u001b[1;32m-> 1267\u001b[1;33m             return VerboseTB.structured_traceback(\n\u001b[0m\u001b[0;32m   1268\u001b[0m                 \u001b[0mself\u001b[0m\u001b[1;33m,\u001b[0m \u001b[0metype\u001b[0m\u001b[1;33m,\u001b[0m \u001b[0mvalue\u001b[0m\u001b[1;33m,\u001b[0m \u001b[0mtb\u001b[0m\u001b[1;33m,\u001b[0m \u001b[0mtb_offset\u001b[0m\u001b[1;33m,\u001b[0m \u001b[0mnumber_of_lines_of_context\u001b[0m\u001b[1;33m\u001b[0m\u001b[1;33m\u001b[0m\u001b[0m\n\u001b[0;32m   1269\u001b[0m             )\n",
      "\u001b[1;32m~\\anaconda3\\envs\\Tensorflow\\lib\\site-packages\\IPython\\core\\ultratb.py\u001b[0m in \u001b[0;36mstructured_traceback\u001b[1;34m(self, etype, evalue, etb, tb_offset, number_of_lines_of_context)\u001b[0m\n\u001b[0;32m   1122\u001b[0m         \u001b[1;34m\"\"\"Return a nice text document describing the traceback.\"\"\"\u001b[0m\u001b[1;33m\u001b[0m\u001b[1;33m\u001b[0m\u001b[0m\n\u001b[0;32m   1123\u001b[0m \u001b[1;33m\u001b[0m\u001b[0m\n\u001b[1;32m-> 1124\u001b[1;33m         formatted_exception = self.format_exception_as_a_whole(etype, evalue, etb, number_of_lines_of_context,\n\u001b[0m\u001b[0;32m   1125\u001b[0m                                                                tb_offset)\n\u001b[0;32m   1126\u001b[0m \u001b[1;33m\u001b[0m\u001b[0m\n",
      "\u001b[1;32m~\\anaconda3\\envs\\Tensorflow\\lib\\site-packages\\IPython\\core\\ultratb.py\u001b[0m in \u001b[0;36mformat_exception_as_a_whole\u001b[1;34m(self, etype, evalue, etb, number_of_lines_of_context, tb_offset)\u001b[0m\n\u001b[0;32m   1080\u001b[0m \u001b[1;33m\u001b[0m\u001b[0m\n\u001b[0;32m   1081\u001b[0m \u001b[1;33m\u001b[0m\u001b[0m\n\u001b[1;32m-> 1082\u001b[1;33m         \u001b[0mlast_unique\u001b[0m\u001b[1;33m,\u001b[0m \u001b[0mrecursion_repeat\u001b[0m \u001b[1;33m=\u001b[0m \u001b[0mfind_recursion\u001b[0m\u001b[1;33m(\u001b[0m\u001b[0morig_etype\u001b[0m\u001b[1;33m,\u001b[0m \u001b[0mevalue\u001b[0m\u001b[1;33m,\u001b[0m \u001b[0mrecords\u001b[0m\u001b[1;33m)\u001b[0m\u001b[1;33m\u001b[0m\u001b[1;33m\u001b[0m\u001b[0m\n\u001b[0m\u001b[0;32m   1083\u001b[0m \u001b[1;33m\u001b[0m\u001b[0m\n\u001b[0;32m   1084\u001b[0m         \u001b[0mframes\u001b[0m \u001b[1;33m=\u001b[0m \u001b[0mself\u001b[0m\u001b[1;33m.\u001b[0m\u001b[0mformat_records\u001b[0m\u001b[1;33m(\u001b[0m\u001b[0mrecords\u001b[0m\u001b[1;33m,\u001b[0m \u001b[0mlast_unique\u001b[0m\u001b[1;33m,\u001b[0m \u001b[0mrecursion_repeat\u001b[0m\u001b[1;33m)\u001b[0m\u001b[1;33m\u001b[0m\u001b[1;33m\u001b[0m\u001b[0m\n",
      "\u001b[1;32m~\\anaconda3\\envs\\Tensorflow\\lib\\site-packages\\IPython\\core\\ultratb.py\u001b[0m in \u001b[0;36mfind_recursion\u001b[1;34m(etype, value, records)\u001b[0m\n\u001b[0;32m    380\u001b[0m     \u001b[1;31m# first frame (from in to out) that looks different.\u001b[0m\u001b[1;33m\u001b[0m\u001b[1;33m\u001b[0m\u001b[1;33m\u001b[0m\u001b[0m\n\u001b[0;32m    381\u001b[0m     \u001b[1;32mif\u001b[0m \u001b[1;32mnot\u001b[0m \u001b[0mis_recursion_error\u001b[0m\u001b[1;33m(\u001b[0m\u001b[0metype\u001b[0m\u001b[1;33m,\u001b[0m \u001b[0mvalue\u001b[0m\u001b[1;33m,\u001b[0m \u001b[0mrecords\u001b[0m\u001b[1;33m)\u001b[0m\u001b[1;33m:\u001b[0m\u001b[1;33m\u001b[0m\u001b[1;33m\u001b[0m\u001b[0m\n\u001b[1;32m--> 382\u001b[1;33m         \u001b[1;32mreturn\u001b[0m \u001b[0mlen\u001b[0m\u001b[1;33m(\u001b[0m\u001b[0mrecords\u001b[0m\u001b[1;33m)\u001b[0m\u001b[1;33m,\u001b[0m \u001b[1;36m0\u001b[0m\u001b[1;33m\u001b[0m\u001b[1;33m\u001b[0m\u001b[0m\n\u001b[0m\u001b[0;32m    383\u001b[0m \u001b[1;33m\u001b[0m\u001b[0m\n\u001b[0;32m    384\u001b[0m     \u001b[1;31m# Select filename, lineno, func_name to track frames with\u001b[0m\u001b[1;33m\u001b[0m\u001b[1;33m\u001b[0m\u001b[1;33m\u001b[0m\u001b[0m\n",
      "\u001b[1;31mTypeError\u001b[0m: object of type 'NoneType' has no len()"
     ]
    }
   ],
   "source": [
    "from setuptools import setup, find_packages\n",
    "\n",
    "setup(\n",
    "    name='v20-python-samples',\n",
    "    version='0.1.1',\n",
    "    packages=find_packages('src'),\n",
    "    package_dir={'': 'src'},\n",
    "    entry_points={\n",
    "        'console_scripts': [\n",
    "            'v20-configure = configure:main',\n",
    "            'v20-market-order-full-example = market_order_full_example:main',\n",
    "            'v20-account-details = account.details:main',\n",
    "            'v20-account-summary = account.summary:main',\n",
    "            'v20-account-instruments = account.instruments:main',\n",
    "            'v20-account-changes = account.changes:main',\n",
    "            'v20-account-configure = account.configure:main',\n",
    "            'v20-instrument-candles = instrument.candles:main',\n",
    "            'v20-instrument-candles-poll = instrument.candles_poll:main',\n",
    "            'v20-order-get = order.get:main',\n",
    "            'v20-order-list-pending = order.list_pending:main',\n",
    "            'v20-order-cancel = order.cancel:main',\n",
    "            'v20-order-set-client-extensions = order.set_client_extensions:main',\n",
    "            'v20-order-market = order.market:main',\n",
    "            'v20-order-entry = order.entry:main',\n",
    "            'v20-order-limit = order.limit:main',\n",
    "            'v20-order-stop = order.stop:main',\n",
    "            'v20-order-take-profit = order.take_profit:main',\n",
    "            'v20-order-stop-loss = order.stop_loss:main',\n",
    "            'v20-order-trailing-stop-loss = order.trailing_stop_loss:main',\n",
    "            'v20-pricing-get = pricing.get:main',\n",
    "            'v20-pricing-stream = pricing.stream:main',\n",
    "            'v20-transaction-stream = transaction.stream:main',\n",
    "            'v20-transaction-poll = transaction.poll:main',\n",
    "            'v20-transaction-get = transaction.get:main',\n",
    "            'v20-transaction-range = transaction.range:main',\n",
    "            'v20-trade-get = trade.get:main',\n",
    "            'v20-trade-close = trade.close:main',\n",
    "            'v20-trade-set-client-extensions = trade.set_client_extensions:main',\n",
    "            'v20-position-close = position.close:main',\n",
    "        ]\n",
    "    }\n",
    ")\n"
   ]
  },
  {
   "cell_type": "code",
   "execution_count": null,
   "id": "balanced-wound",
   "metadata": {},
   "outputs": [],
   "source": [
    "# https://github.com/oanda/v20-python-samples/blob/master/src/instrument/candles.py"
   ]
  },
  {
   "cell_type": "code",
   "execution_count": 114,
   "id": "computational-analyst",
   "metadata": {},
   "outputs": [
    {
     "name": "stdout",
     "output_type": "stream",
     "text": [
      "Requirement already satisfied: common in c:\\users\\admin\\anaconda3\\envs\\tensorflow\\lib\\site-packages (0.1.2)\n",
      "Requirement already satisfied: as in c:\\users\\admin\\anaconda3\\envs\\tensorflow\\lib\\site-packages (0.1)\n",
      "Requirement already satisfied: config in c:\\users\\admin\\anaconda3\\envs\\tensorflow\\lib\\site-packages (0.5.0.post0)\n",
      "Requirement already satisfied: common in c:\\users\\admin\\anaconda3\\envs\\tensorflow\\lib\\site-packages (0.1.2)\n",
      "Requirement already satisfied: as in c:\\users\\admin\\anaconda3\\envs\\tensorflow\\lib\\site-packages (0.1)\n",
      "Requirement already satisfied: args in c:\\users\\admin\\anaconda3\\envs\\tensorflow\\lib\\site-packages (0.1.0)\n",
      "Requirement already satisfied: view in c:\\users\\admin\\anaconda3\\envs\\tensorflow\\lib\\site-packages (0.1)\n"
     ]
    }
   ],
   "source": [
    "!pip install common as config\n",
    "!pip install common as args\n",
    "!pip install view"
   ]
  },
  {
   "cell_type": "code",
   "execution_count": 113,
   "id": "balanced-basket",
   "metadata": {},
   "outputs": [
    {
     "ename": "ModuleNotFoundError",
     "evalue": "No module named 'common.config'",
     "output_type": "error",
     "traceback": [
      "\u001b[1;31m---------------------------------------------------------------------------\u001b[0m",
      "\u001b[1;31mModuleNotFoundError\u001b[0m                       Traceback (most recent call last)",
      "\u001b[1;32m<ipython-input-113-18118a74fba6>\u001b[0m in \u001b[0;36m<module>\u001b[1;34m\u001b[0m\n\u001b[0;32m      1\u001b[0m \u001b[1;32mimport\u001b[0m \u001b[0margparse\u001b[0m\u001b[1;33m\u001b[0m\u001b[1;33m\u001b[0m\u001b[0m\n\u001b[1;32m----> 2\u001b[1;33m \u001b[1;32mimport\u001b[0m \u001b[0mcommon\u001b[0m\u001b[1;33m.\u001b[0m\u001b[0mconfig\u001b[0m\u001b[1;33m\u001b[0m\u001b[1;33m\u001b[0m\u001b[0m\n\u001b[0m\u001b[0;32m      3\u001b[0m \u001b[1;32mfrom\u001b[0m \u001b[1;33m.\u001b[0m\u001b[0margs\u001b[0m \u001b[1;32mimport\u001b[0m \u001b[0mOrderArguments\u001b[0m\u001b[1;33m\u001b[0m\u001b[1;33m\u001b[0m\u001b[0m\n\u001b[0;32m      4\u001b[0m \u001b[1;32mfrom\u001b[0m \u001b[1;33m.\u001b[0m\u001b[0mview\u001b[0m \u001b[1;32mimport\u001b[0m \u001b[0mprint_order_create_response_transactions\u001b[0m\u001b[1;33m\u001b[0m\u001b[1;33m\u001b[0m\u001b[0m\n\u001b[0;32m      5\u001b[0m \u001b[1;33m\u001b[0m\u001b[0m\n",
      "\u001b[1;31mModuleNotFoundError\u001b[0m: No module named 'common.config'"
     ]
    }
   ],
   "source": [
    "import argparse\n",
    "import common.config\n",
    "from .args import OrderArguments\n",
    "from .view import print_order_create_response_transactions\n",
    "\n",
    "\n",
    "def main():\n",
    "    \"\"\"\n",
    "    Create a Market Order in an Account based on the provided command-line\n",
    "    arguments.\n",
    "    \"\"\"\n",
    "\n",
    "    parser = argparse.ArgumentParser()\n",
    "\n",
    "    #\n",
    "    # Add the command line argument to parse to the v20 config\n",
    "    #\n",
    "    common.config.add_argument(parser)\n",
    "\n",
    "    #\n",
    "    # Add the command line arguments required for a Market Order\n",
    "    #\n",
    "    marketOrderArgs = OrderArguments(parser)\n",
    "    marketOrderArgs.add_instrument()\n",
    "    marketOrderArgs.add_units()\n",
    "    marketOrderArgs.add_time_in_force([\"FOK\", \"IOC\"])\n",
    "    marketOrderArgs.add_price_bound()\n",
    "    marketOrderArgs.add_position_fill()\n",
    "    marketOrderArgs.add_take_profit_on_fill()\n",
    "    marketOrderArgs.add_stop_loss_on_fill()\n",
    "    marketOrderArgs.add_trailing_stop_loss_on_fill()\n",
    "    marketOrderArgs.add_client_order_extensions()\n",
    "    marketOrderArgs.add_client_trade_extensions()\n",
    "\n",
    "    args = parser.parse_args()\n",
    "\n",
    "    #\n",
    "    # Create the api context based on the contents of the\n",
    "    # v20 config file\n",
    "    #\n",
    "    api = args.config.create_context()\n",
    "\n",
    "    #\n",
    "    # Extract the Market order parameters from the parsed arguments\n",
    "    #\n",
    "    marketOrderArgs.parse_arguments(args)\n",
    "\n",
    "    #\n",
    "    # Submit the request to create the Market Order\n",
    "    #\n",
    "    response = api.order.market(\n",
    "        args.config.active_account,\n",
    "        **marketOrderArgs.parsed_args\n",
    "    )\n",
    "\n",
    "    print(\"Response: {} ({})\".format(response.status, response.reason))\n",
    "    print(\"\")\n",
    "\n",
    "    print_order_create_response_transactions(response)\n",
    "\n",
    "\n",
    "if __name__ == \"__main__\":\n",
    "    main()"
   ]
  },
  {
   "cell_type": "code",
   "execution_count": null,
   "id": "sustained-prevention",
   "metadata": {},
   "outputs": [],
   "source": []
  }
 ],
 "metadata": {
  "kernelspec": {
   "display_name": "Python 3",
   "language": "python",
   "name": "python3"
  },
  "language_info": {
   "codemirror_mode": {
    "name": "ipython",
    "version": 3
   },
   "file_extension": ".py",
   "mimetype": "text/x-python",
   "name": "python",
   "nbconvert_exporter": "python",
   "pygments_lexer": "ipython3",
   "version": "3.8.5"
  }
 },
 "nbformat": 4,
 "nbformat_minor": 5
}

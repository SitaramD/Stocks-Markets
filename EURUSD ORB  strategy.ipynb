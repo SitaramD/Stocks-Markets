{
 "cells": [
  {
   "cell_type": "code",
   "execution_count": null,
   "id": "innovative-rescue",
   "metadata": {},
   "outputs": [],
   "source": []
  },
  {
   "cell_type": "code",
   "execution_count": 1,
   "id": "premium-communications",
   "metadata": {},
   "outputs": [],
   "source": [
    "import oandapyV20\n",
    "import json\n",
    "import pandas as pd\n",
    "import numpy as np"
   ]
  },
  {
   "cell_type": "code",
   "execution_count": 2,
   "id": "verbal-framework",
   "metadata": {},
   "outputs": [],
   "source": [
    "# PULLING DATA FOR EURUSD bid price and Ask price"
   ]
  },
  {
   "cell_type": "code",
   "execution_count": 17,
   "id": "oriental-concentration",
   "metadata": {},
   "outputs": [
    {
     "name": "stdout",
     "output_type": "stream",
     "text": [
      "{\n",
      "  \"type\": \"PRICE\",\n",
      "  \"time\": \"2021-04-23T12:33:24.470342470Z\",\n",
      "  \"bids\": [\n",
      "    {\n",
      "      \"price\": \"1.20697\",\n",
      "      \"liquidity\": 10000000\n",
      "    }\n",
      "  ],\n",
      "  \"asks\": [\n",
      "    {\n",
      "      \"price\": \"1.20709\",\n",
      "      \"liquidity\": 10000000\n",
      "    }\n",
      "  ],\n",
      "  \"closeoutBid\": \"1.20697\",\n",
      "  \"closeoutAsk\": \"1.20709\",\n",
      "  \"status\": \"tradeable\",\n",
      "  \"tradeable\": true,\n",
      "  \"instrument\": \"EUR_USD\"\n",
      "}\n",
      "{\n",
      "  \"type\": \"HEARTBEAT\",\n",
      "  \"time\": \"2021-04-23T12:33:30.198981124Z\"\n",
      "}\n",
      "{\n",
      "  \"type\": \"HEARTBEAT\",\n",
      "  \"time\": \"2021-04-23T12:33:35.199259906Z\"\n",
      "}\n",
      "{\n",
      "  \"type\": \"PRICE\",\n",
      "  \"time\": \"2021-04-23T12:33:37.106680521Z\",\n",
      "  \"bids\": [\n",
      "    {\n",
      "      \"price\": \"1.20698\",\n",
      "      \"liquidity\": 10000000\n",
      "    }\n",
      "  ],\n",
      "  \"asks\": [\n",
      "    {\n",
      "      \"price\": \"1.20711\",\n",
      "      \"liquidity\": 10000000\n",
      "    }\n",
      "  ],\n",
      "  \"closeoutBid\": \"1.20698\",\n",
      "  \"closeoutAsk\": \"1.20711\",\n",
      "  \"status\": \"tradeable\",\n",
      "  \"tradeable\": true,\n",
      "  \"instrument\": \"EUR_USD\"\n",
      "}\n",
      "{\n",
      "  \"type\": \"PRICE\",\n",
      "  \"time\": \"2021-04-23T12:33:37.769021235Z\",\n",
      "  \"bids\": [\n",
      "    {\n",
      "      \"price\": \"1.20696\",\n",
      "      \"liquidity\": 10000000\n",
      "    }\n",
      "  ],\n",
      "  \"asks\": [\n",
      "    {\n",
      "      \"price\": \"1.20710\",\n",
      "      \"liquidity\": 10000000\n",
      "    }\n",
      "  ],\n",
      "  \"closeoutBid\": \"1.20696\",\n",
      "  \"closeoutAsk\": \"1.20710\",\n",
      "  \"status\": \"tradeable\",\n",
      "  \"tradeable\": true,\n",
      "  \"instrument\": \"EUR_USD\"\n",
      "}\n",
      "{\n",
      "  \"type\": \"PRICE\",\n",
      "  \"time\": \"2021-04-23T12:33:39.003440665Z\",\n",
      "  \"bids\": [\n",
      "    {\n",
      "      \"price\": \"1.20696\",\n",
      "      \"liquidity\": 10000000\n",
      "    }\n",
      "  ],\n",
      "  \"asks\": [\n",
      "    {\n",
      "      \"price\": \"1.20708\",\n",
      "      \"liquidity\": 10000000\n",
      "    }\n",
      "  ],\n",
      "  \"closeoutBid\": \"1.20696\",\n",
      "  \"closeoutAsk\": \"1.20708\",\n",
      "  \"status\": \"tradeable\",\n",
      "  \"tradeable\": true,\n",
      "  \"instrument\": \"EUR_USD\"\n",
      "}\n",
      "{\n",
      "  \"type\": \"HEARTBEAT\",\n",
      "  \"time\": \"2021-04-23T12:33:40.199605646Z\"\n",
      "}\n",
      "{\n",
      "  \"type\": \"PRICE\",\n",
      "  \"time\": \"2021-04-23T12:33:43.935723456Z\",\n",
      "  \"bids\": [\n",
      "    {\n",
      "      \"price\": \"1.20691\",\n",
      "      \"liquidity\": 10000000\n",
      "    }\n",
      "  ],\n",
      "  \"asks\": [\n",
      "    {\n",
      "      \"price\": \"1.20704\",\n",
      "      \"liquidity\": 10000000\n",
      "    }\n",
      "  ],\n",
      "  \"closeoutBid\": \"1.20691\",\n",
      "  \"closeoutAsk\": \"1.20704\",\n",
      "  \"status\": \"tradeable\",\n",
      "  \"tradeable\": true,\n",
      "  \"instrument\": \"EUR_USD\"\n",
      "}\n",
      "{\n",
      "  \"type\": \"HEARTBEAT\",\n",
      "  \"time\": \"2021-04-23T12:33:45.202643865Z\"\n",
      "}\n",
      "{\n",
      "  \"type\": \"PRICE\",\n",
      "  \"time\": \"2021-04-23T12:33:46.483177134Z\",\n",
      "  \"bids\": [\n",
      "    {\n",
      "      \"price\": \"1.20690\",\n",
      "      \"liquidity\": 10000000\n",
      "    }\n",
      "  ],\n",
      "  \"asks\": [\n",
      "    {\n",
      "      \"price\": \"1.20702\",\n",
      "      \"liquidity\": 10000000\n",
      "    }\n",
      "  ],\n",
      "  \"closeoutBid\": \"1.20690\",\n",
      "  \"closeoutAsk\": \"1.20702\",\n",
      "  \"status\": \"tradeable\",\n",
      "  \"tradeable\": true,\n",
      "  \"instrument\": \"EUR_USD\"\n",
      "}\n",
      "{\n",
      "  \"type\": \"PRICE\",\n",
      "  \"time\": \"2021-04-23T12:33:46.745621786Z\",\n",
      "  \"bids\": [\n",
      "    {\n",
      "      \"price\": \"1.20690\",\n",
      "      \"liquidity\": 10000000\n",
      "    }\n",
      "  ],\n",
      "  \"asks\": [\n",
      "    {\n",
      "      \"price\": \"1.20702\",\n",
      "      \"liquidity\": 10000000\n",
      "    }\n",
      "  ],\n",
      "  \"closeoutBid\": \"1.20690\",\n",
      "  \"closeoutAsk\": \"1.20702\",\n",
      "  \"status\": \"tradeable\",\n",
      "  \"tradeable\": true,\n",
      "  \"instrument\": \"EUR_USD\"\n",
      "}\n"
     ]
    },
    {
     "ename": "NameError",
     "evalue": "name 'MAXREC' is not defined",
     "output_type": "error",
     "traceback": [
      "\u001b[1;31m---------------------------------------------------------------------------\u001b[0m",
      "\u001b[1;31mNameError\u001b[0m                                 Traceback (most recent call last)",
      "\u001b[1;32m<ipython-input-17-e4fa53d68aa7>\u001b[0m in \u001b[0;36m<module>\u001b[1;34m\u001b[0m\n\u001b[0;32m     16\u001b[0m         \u001b[0mn\u001b[0m \u001b[1;33m+=\u001b[0m \u001b[1;36m1\u001b[0m\u001b[1;33m\u001b[0m\u001b[1;33m\u001b[0m\u001b[0m\n\u001b[0;32m     17\u001b[0m         \u001b[1;32mif\u001b[0m \u001b[0mn\u001b[0m \u001b[1;33m>\u001b[0m \u001b[1;36m10\u001b[0m\u001b[1;33m:\u001b[0m\u001b[1;33m\u001b[0m\u001b[1;33m\u001b[0m\u001b[0m\n\u001b[1;32m---> 18\u001b[1;33m             \u001b[0ms\u001b[0m\u001b[1;33m.\u001b[0m\u001b[0mterminate\u001b[0m\u001b[1;33m(\u001b[0m\u001b[1;34m\"maxrecs received: {}\"\u001b[0m\u001b[1;33m.\u001b[0m\u001b[0mformat\u001b[0m\u001b[1;33m(\u001b[0m\u001b[0mMAXREC\u001b[0m\u001b[1;33m)\u001b[0m\u001b[1;33m)\u001b[0m\u001b[1;33m\u001b[0m\u001b[1;33m\u001b[0m\u001b[0m\n\u001b[0m\u001b[0;32m     19\u001b[0m \u001b[1;33m\u001b[0m\u001b[0m\n\u001b[0;32m     20\u001b[0m \u001b[1;32mexcept\u001b[0m \u001b[0mV20Error\u001b[0m \u001b[1;32mas\u001b[0m \u001b[0me\u001b[0m\u001b[1;33m:\u001b[0m\u001b[1;33m\u001b[0m\u001b[1;33m\u001b[0m\u001b[0m\n",
      "\u001b[1;31mNameError\u001b[0m: name 'MAXREC' is not defined"
     ]
    }
   ],
   "source": [
    "\n",
    "from oandapyV20 import API\n",
    "from oandapyV20.exceptions import V20Error\n",
    "from oandapyV20.endpoints.pricing import PricingStream\n",
    "\n",
    "accountID = \"101-001-18825179-001\"\n",
    "access_token=\"59392a62d9effaa3ddff27a7842ba293-50d2fba5baa76925989efb1efdedfe7c\"\n",
    "\n",
    "api = API(access_token=access_token, environment=\"practice\")\n",
    "\n",
    "instruments = \"EUR_USD\"\n",
    "s = PricingStream(accountID=accountID, params={\"instruments\":instruments})\n",
    "try:\n",
    "    n = 0\n",
    "    for R in api.request(s):\n",
    "        print(json.dumps(R, indent=2))\n",
    "        n += 1\n",
    "        if n > 10:\n",
    "            s.terminate(\"maxrecs received: {}\".format(MAXREC))\n",
    "\n",
    "except V20Error as e:\n",
    "    print(\"Error: {}\".format(e))"
   ]
  },
  {
   "cell_type": "code",
   "execution_count": null,
   "id": "instrumental-vermont",
   "metadata": {},
   "outputs": [],
   "source": []
  },
  {
   "cell_type": "code",
   "execution_count": 18,
   "id": "automatic-shift",
   "metadata": {},
   "outputs": [
    {
     "name": "stdout",
     "output_type": "stream",
     "text": [
      "v3/accounts/101-001-18825179-001/pricing/stream\n"
     ]
    }
   ],
   "source": [
    "print(s)"
   ]
  },
  {
   "cell_type": "code",
   "execution_count": 19,
   "id": "creative-hydrogen",
   "metadata": {},
   "outputs": [
    {
     "name": "stdout",
     "output_type": "stream",
     "text": [
      "{'type': 'PRICE', 'time': '2021-04-23T12:33:46.745621786Z', 'bids': [{'price': '1.20690', 'liquidity': 10000000}], 'asks': [{'price': '1.20702', 'liquidity': 10000000}], 'closeoutBid': '1.20690', 'closeoutAsk': '1.20702', 'status': 'tradeable', 'tradeable': True, 'instrument': 'EUR_USD'}\n"
     ]
    }
   ],
   "source": [
    "print(R)"
   ]
  },
  {
   "cell_type": "code",
   "execution_count": 20,
   "id": "interior-cooling",
   "metadata": {},
   "outputs": [
    {
     "name": "stdout",
     "output_type": "stream",
     "text": [
      "<class 'dict'>\n"
     ]
    }
   ],
   "source": [
    "print(type(R))"
   ]
  },
  {
   "cell_type": "code",
   "execution_count": 21,
   "id": "sensitive-tender",
   "metadata": {},
   "outputs": [
    {
     "name": "stdout",
     "output_type": "stream",
     "text": [
      "9\n"
     ]
    }
   ],
   "source": [
    "print(len(R))"
   ]
  },
  {
   "cell_type": "code",
   "execution_count": 22,
   "id": "italic-elite",
   "metadata": {},
   "outputs": [
    {
     "data": {
      "text/plain": [
       "'EUR_USD'"
      ]
     },
     "execution_count": 22,
     "metadata": {},
     "output_type": "execute_result"
    }
   ],
   "source": [
    "# pulling instrument name\n",
    "currency_pair= R[\"instrument\"]\n",
    "currency_pair"
   ]
  },
  {
   "cell_type": "code",
   "execution_count": 23,
   "id": "organized-priest",
   "metadata": {},
   "outputs": [
    {
     "data": {
      "text/plain": [
       "1.2069"
      ]
     },
     "execution_count": 23,
     "metadata": {},
     "output_type": "execute_result"
    }
   ],
   "source": [
    "# pulling bid price\n",
    "closeoutbid_price= R[\"closeoutBid\"]\n",
    "closeoutbid_price = float(closeoutbid_price)\n",
    "closeoutbid_price"
   ]
  },
  {
   "cell_type": "code",
   "execution_count": 24,
   "id": "sweet-omega",
   "metadata": {},
   "outputs": [
    {
     "data": {
      "text/plain": [
       "1.20702"
      ]
     },
     "execution_count": 24,
     "metadata": {},
     "output_type": "execute_result"
    }
   ],
   "source": [
    "# Pulling ask price\n",
    "closeoutask_price= R[\"closeoutAsk\"]\n",
    "closeoutask_price = float(closeoutask_price)\n",
    "closeoutask_price"
   ]
  },
  {
   "cell_type": "code",
   "execution_count": 25,
   "id": "perfect-google",
   "metadata": {},
   "outputs": [
    {
     "name": "stdout",
     "output_type": "stream",
     "text": [
      "1.2069\n",
      "1.20702\n"
     ]
    }
   ],
   "source": [
    "print(closeoutbid_price)\n",
    "print(closeoutask_price)"
   ]
  },
  {
   "cell_type": "code",
   "execution_count": 26,
   "id": "parental-spice",
   "metadata": {},
   "outputs": [
    {
     "name": "stdout",
     "output_type": "stream",
     "text": [
      "<class 'float'>\n"
     ]
    }
   ],
   "source": [
    "print(type(closeoutbid_price))"
   ]
  },
  {
   "cell_type": "code",
   "execution_count": 27,
   "id": "atmospheric-greenhouse",
   "metadata": {},
   "outputs": [
    {
     "name": "stdout",
     "output_type": "stream",
     "text": [
      "<class 'float'>\n"
     ]
    }
   ],
   "source": [
    "print(type(closeoutask_price))"
   ]
  },
  {
   "cell_type": "code",
   "execution_count": 28,
   "id": "modular-insertion",
   "metadata": {},
   "outputs": [
    {
     "data": {
      "text/plain": [
       "1.20696"
      ]
     },
     "execution_count": 28,
     "metadata": {},
     "output_type": "execute_result"
    }
   ],
   "source": [
    "# Considering the average price of Bid price and Ask Price for price comparison\n",
    "price=float((closeoutbid_price + closeoutask_price)/(2))\n",
    "price"
   ]
  },
  {
   "cell_type": "code",
   "execution_count": 29,
   "id": "undefined-affiliate",
   "metadata": {},
   "outputs": [],
   "source": [
    "# # PULL DATA FOR GRANULARITY OF 15 M CANDLESTCIKS HIGH AND LOW VALUES"
   ]
  },
  {
   "cell_type": "code",
   "execution_count": null,
   "id": "pediatric-joshua",
   "metadata": {},
   "outputs": [],
   "source": [
    "# https://oanda-api-v20.readthedocs.io/en/latest/oandapyV20.endpoints.html"
   ]
  },
  {
   "cell_type": "code",
   "execution_count": 32,
   "id": "unexpected-stake",
   "metadata": {},
   "outputs": [
    {
     "name": "stdout",
     "output_type": "stream",
     "text": [
      "{'instrument': 'EUR_USD', 'granularity': 'M15', 'candles': [{'complete': False, 'volume': 344, 'time': '2021-04-23T12:30:00.000000000Z', 'mid': {'o': '1.20686', 'h': '1.20704', 'l': '1.20681', 'c': '1.20702'}}]}\n"
     ]
    }
   ],
   "source": [
    "#Params example:\n",
    "#classoandapyV20.endpoints.instruments.InstrumentsCandles(instrument, params=None)\n",
    "#Bases: oandapyV20.endpoints.instruments.Instruments\n",
    "#Get candle data for a specified Instrument.\n",
    "ENDPOINT= 'v3/instruments/{instrument}/candles'\n",
    "EXPECTED_STATUS= 200\n",
    "METHOD= 'GET'\n",
    "#__init__(\"DE30_EUR\", params=None)\n",
    "\n",
    "import oandapyV20\n",
    "import oandapyV20.endpoints.instruments as instruments\n",
    "client = oandapyV20.API(access_token='59392a62d9effaa3ddff27a7842ba293-50d2fba5baa76925989efb1efdedfe7c')\n",
    "params = { \"count\": 1, \"granularity\": \"M15\"}\n",
    "        \n",
    "r = instruments.InstrumentsCandles(instrument=\"EUR_USD\",\n",
    "                                    params=params)\n",
    "client.request(r)\n",
    "print(r.response)"
   ]
  },
  {
   "cell_type": "code",
   "execution_count": 33,
   "id": "spread-malta",
   "metadata": {},
   "outputs": [
    {
     "name": "stdout",
     "output_type": "stream",
     "text": [
      "EUR_USD\n"
     ]
    }
   ],
   "source": [
    "print(r.response[\"instrument\"])"
   ]
  },
  {
   "cell_type": "code",
   "execution_count": 34,
   "id": "fewer-service",
   "metadata": {},
   "outputs": [
    {
     "name": "stdout",
     "output_type": "stream",
     "text": [
      "M15\n"
     ]
    }
   ],
   "source": [
    "print(r.response[\"granularity\"])"
   ]
  },
  {
   "cell_type": "code",
   "execution_count": 35,
   "id": "studied-enemy",
   "metadata": {},
   "outputs": [
    {
     "name": "stdout",
     "output_type": "stream",
     "text": [
      "[{'complete': False, 'volume': 344, 'time': '2021-04-23T12:30:00.000000000Z', 'mid': {'o': '1.20686', 'h': '1.20704', 'l': '1.20681', 'c': '1.20702'}}]\n"
     ]
    }
   ],
   "source": [
    "print(r.response[\"candles\"])"
   ]
  },
  {
   "cell_type": "code",
   "execution_count": 36,
   "id": "vertical-denial",
   "metadata": {},
   "outputs": [
    {
     "data": {
      "text/plain": [
       "[{'complete': False,\n",
       "  'volume': 344,\n",
       "  'time': '2021-04-23T12:30:00.000000000Z',\n",
       "  'mid': {'o': '1.20686', 'h': '1.20704', 'l': '1.20681', 'c': '1.20702'}}]"
      ]
     },
     "execution_count": 36,
     "metadata": {},
     "output_type": "execute_result"
    }
   ],
   "source": [
    "k = r.response[\"candles\"]\n",
    "k"
   ]
  },
  {
   "cell_type": "code",
   "execution_count": 37,
   "id": "aquatic-lyric",
   "metadata": {},
   "outputs": [
    {
     "name": "stdout",
     "output_type": "stream",
     "text": [
      "<class 'list'>\n"
     ]
    }
   ],
   "source": [
    "print(type(k))"
   ]
  },
  {
   "cell_type": "code",
   "execution_count": 38,
   "id": "funny-screen",
   "metadata": {},
   "outputs": [
    {
     "name": "stdout",
     "output_type": "stream",
     "text": [
      "1.20704\n"
     ]
    },
    {
     "data": {
      "text/plain": [
       "'1.20704'"
      ]
     },
     "execution_count": 38,
     "metadata": {},
     "output_type": "execute_result"
    }
   ],
   "source": [
    "# Pulling high value form the 15 minute candlestick - from the List\n",
    "print(k[0][\"mid\"][\"h\"])\n",
    "candle_high_value = k[0][\"mid\"][\"h\"]\n",
    "candle_high_value"
   ]
  },
  {
   "cell_type": "code",
   "execution_count": 39,
   "id": "previous-least",
   "metadata": {},
   "outputs": [
    {
     "name": "stdout",
     "output_type": "stream",
     "text": [
      "1.20681\n"
     ]
    },
    {
     "data": {
      "text/plain": [
       "'1.20681'"
      ]
     },
     "execution_count": 39,
     "metadata": {},
     "output_type": "execute_result"
    }
   ],
   "source": [
    "# Pulling high value form the 15 minute candlestick - from the List\n",
    "print(k[0][\"mid\"][\"l\"])\n",
    "candle_low_value = k[0][\"mid\"][\"l\"]\n",
    "candle_low_value"
   ]
  },
  {
   "cell_type": "code",
   "execution_count": 40,
   "id": "thermal-doubt",
   "metadata": {},
   "outputs": [
    {
     "name": "stdout",
     "output_type": "stream",
     "text": [
      "1.20704\n",
      "1.20681\n",
      "1.20696\n"
     ]
    }
   ],
   "source": [
    "# Considering these values\n",
    "print(candle_high_value) # High value of 15 minute Incomplete candlestick\n",
    "print(candle_low_value)  # Low value of 15 minute Incomplete candlestick\n",
    "print(price)   # Average price of the currency pair"
   ]
  },
  {
   "cell_type": "code",
   "execution_count": null,
   "id": "bulgarian-syria",
   "metadata": {},
   "outputs": [],
   "source": [
    "# Coding for writing a buy and sell signal "
   ]
  },
  {
   "cell_type": "code",
   "execution_count": null,
   "id": "generous-thinking",
   "metadata": {},
   "outputs": [],
   "source": [
    "'''''''''''''''''''''''''''''''''''''''''''''''''''''''''''''''''''''''''''''''''''''''''''''\n",
    "# How to trade ORB strategy\n",
    "Opening Range Breakout (ORB) is a commonly used as an intraday trading systems.\n",
    "\n",
    "\n",
    "Trading Strategy\n",
    "\n",
    "Any stock creates a range in the first 15 minutes of trading in a day. This is calling Opening Range. \n",
    "The highs and lows of this time frame is taken as entry and exit parameters.\n",
    "\n",
    "1. Buy when the stock moves above the Opening Range high.\n",
    "2. Sell when the stock moves below the Opening Range low.\n",
    "\n",
    "\n",
    "We generally apply it over Nifty50 Index.\n",
    "\n",
    "Example:\n",
    "\n",
    "Nifty50 opens at 13500 and in 15 minutes minimum(low) value is 13450 and maximum(high) value is 13550. \n",
    "The ORB range becomes 13450 to 13550.\n",
    "\n",
    "\n",
    "Rules for Buy\n",
    "\n",
    "Buy when the stock price crosses above the opening range\n",
    "\n",
    "Initial Stop loss — Low of the Opening Range.\n",
    "\n",
    "Rules for Sell\n",
    "\n",
    "Sell when the stock price crosses below the opening range.\n",
    "\n",
    "#Initial Stop loss — High of the Opening Rang\n",
    "'''''''''''''''''''''''''''''''''''''''''''''''''"
   ]
  },
  {
   "cell_type": "code",
   "execution_count": null,
   "id": "naughty-status",
   "metadata": {},
   "outputs": [],
   "source": [
    "# Applying Strategy for generating a buy or sell signal"
   ]
  },
  {
   "cell_type": "code",
   "execution_count": 41,
   "id": "nuclear-interval",
   "metadata": {},
   "outputs": [
    {
     "ename": "SyntaxError",
     "evalue": "invalid syntax (<ipython-input-41-654765f9e0b4>, line 21)",
     "output_type": "error",
     "traceback": [
      "\u001b[1;36m  File \u001b[1;32m\"<ipython-input-41-654765f9e0b4>\"\u001b[1;36m, line \u001b[1;32m21\u001b[0m\n\u001b[1;33m    response = api.order.market( args.accountid,instrument=args.instrument, units=args.units)\u001b[0m\n\u001b[1;37m             ^\u001b[0m\n\u001b[1;31mSyntaxError\u001b[0m\u001b[1;31m:\u001b[0m invalid syntax\n"
     ]
    }
   ],
   "source": [
    "if (price > candle_high_value):\n",
    "       {\n",
    "           # Generate Buy signal\n",
    "            buy(price):\n",
    "            print(\" Generated buy signal @ :  \", price )\n",
    "       }\n",
    "elif (price < candle_low_value):\n",
    "        # Generate Sell signal if last traded price is less than 15 minute Low\n",
    "       \n",
    "        {\n",
    "            sell(price):\n",
    "            print(\" Generated sell signal @ :  \", price )\n",
    "        }\n",
    "    \n",
    "print(\" None of the conditions are statisfied, NO SIGNAL\")\n",
    "\n",
    "def buy (price):\n",
    "    {\n",
    "         #Submit the request to create the Market Order\n",
    "    \n",
    "        response = api.order.market( args.accountid,instrument=args.instrument, units=args.units)\n",
    "        #mktOrder = MarketOrderRequest( instrument=\"EUR_USD\",\n",
    "        #units=10000,\n",
    "        #takeProfitOnFill=price + 0.0020,\n",
    "        #stopLossOnFill=candle_low_value\n",
    "        \n",
    "\n",
    "    }\n",
    "    \n",
    "def sell(price):\n",
    "    {\n",
    "        mktOrder = MarketOrderRequest(instrument=\"EUR_USD\",\n",
    "        units=10000,\n",
    "        takeProfitOnFill=price - 0.0020,\n",
    "        stopLossOnFill=candle_high_value\n",
    "\n",
    "    }\n",
    " # Comparing last traded price with 15 Minutes candlestick low and High for generating a sell signal    \n",
    "\n"
   ]
  }
 ],
 "metadata": {
  "kernelspec": {
   "display_name": "Python 3",
   "language": "python",
   "name": "python3"
  }
 },
 "nbformat": 4,
 "nbformat_minor": 5
}

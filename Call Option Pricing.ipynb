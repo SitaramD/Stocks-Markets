{
 "cells": [
  {
   "cell_type": "code",
   "execution_count": 23,
   "id": "41b4ec07",
   "metadata": {},
   "outputs": [],
   "source": [
    "# To find out the call option for Stock S1 and S2"
   ]
  },
  {
   "cell_type": "code",
   "execution_count": 24,
   "id": "614e649e",
   "metadata": {},
   "outputs": [],
   "source": [
    "import pandas as pd\n",
    "import numpy as np"
   ]
  },
  {
   "cell_type": "code",
   "execution_count": 25,
   "id": "55cae390",
   "metadata": {},
   "outputs": [
    {
     "name": "stdout",
     "output_type": "stream",
     "text": [
      "Enter a Strike price for stock S1: 100\n",
      "Enter a Strike price for stock S2: 110\n"
     ]
    }
   ],
   "source": [
    "# Defining Strike price for stock S1 and S2\n",
    "K1 =float(input(\"Enter a Strike price for stock S1: \"))\n",
    "K2 =float(input(\"Enter a Strike price for stock S2: \"))"
   ]
  },
  {
   "cell_type": "code",
   "execution_count": 26,
   "id": "ef945a21",
   "metadata": {},
   "outputs": [
    {
     "name": "stdout",
     "output_type": "stream",
     "text": [
      "Enter stock market price of S1: 110\n",
      "Enter stock market price of S2: 120\n"
     ]
    }
   ],
   "source": [
    "# Defining stock market price of S1 and S2 respectively be\n",
    "M1 =float(input(\"Enter stock market price of S1: \"))\n",
    "M2 =float(input(\"Enter stock market price of S2: \"))"
   ]
  },
  {
   "cell_type": "code",
   "execution_count": 27,
   "id": "aa17b082",
   "metadata": {},
   "outputs": [],
   "source": [
    "# Defining  Expiry for Stock S1 ans S2, same expiry\n",
    "#T"
   ]
  },
  {
   "cell_type": "code",
   "execution_count": 28,
   "id": "f4b1ff01",
   "metadata": {},
   "outputs": [
    {
     "name": "stdout",
     "output_type": "stream",
     "text": [
      "Call option price for stock S1:  10.0\n"
     ]
    }
   ],
   "source": [
    "# Call option for stock S1\n",
    "V1 = M1 - K1\n",
    "print(\"Call option price for stock S1: \", V1)"
   ]
  },
  {
   "cell_type": "code",
   "execution_count": 29,
   "id": "b6890670",
   "metadata": {},
   "outputs": [
    {
     "name": "stdout",
     "output_type": "stream",
     "text": [
      "Call option price for stock S2:  10.0\n"
     ]
    }
   ],
   "source": [
    "# Call option for stock S2\n",
    "V2 = M2 - K2\n",
    "print(\"Call option price for stock S2: \", V2)"
   ]
  }
 ],
 "metadata": {
  "kernelspec": {
   "display_name": "Python 3 (ipykernel)",
   "language": "python",
   "name": "python3"
  },
  "language_info": {
   "codemirror_mode": {
    "name": "ipython",
    "version": 3
   },
   "file_extension": ".py",
   "mimetype": "text/x-python",
   "name": "python",
   "nbconvert_exporter": "python",
   "pygments_lexer": "ipython3",
   "version": "3.10.10"
  }
 },
 "nbformat": 4,
 "nbformat_minor": 5
}
